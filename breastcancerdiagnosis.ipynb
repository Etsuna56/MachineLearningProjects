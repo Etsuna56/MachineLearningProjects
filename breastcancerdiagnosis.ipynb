{
 "cells": [
  {
   "cell_type": "markdown",
   "id": "0b3f91f2",
   "metadata": {},
   "source": [
    "# Breast Cancer Diagnosis Prediction Model Development"
   ]
  },
  {
   "cell_type": "markdown",
   "id": "53bf178f",
   "metadata": {},
   "source": [
    "### Python Library Imports"
   ]
  },
  {
   "cell_type": "code",
   "execution_count": 78,
   "id": "815d495d",
   "metadata": {},
   "outputs": [],
   "source": [
    "import pandas as pd\n",
    "import seaborn as sns\n",
    "import numpy as np\n",
    "import plotly.graph_objects as go\n",
    "import matplotlib.pyplot as plt\n",
    "import warnings\n",
    "warnings.filterwarnings('ignore')\n",
    "\n",
    "from sklearn.tree import DecisionTreeClassifier\n",
    "from sklearn.model_selection import train_test_split, KFold, GridSearchCV\n",
    "from sklearn.metrics import accuracy_score, precision_score, recall_score, f1_score, PrecisionRecallDisplay, confusion_matrix\n",
    "from sklearn.neural_network import MLPClassifier\n",
    "from sklearn.svm import SVC\n",
    "from sklearn.ensemble import RandomForestClassifier\n",
    "from sklearn.ensemble import AdaBoostClassifier\n",
    "from sklearn.naive_bayes import GaussianNB\n",
    "from sklearn.discriminant_analysis import QuadraticDiscriminantAnalysis\n",
    "from sklearn.linear_model import SGDClassifier\n",
    "from sklearn import tree"
   ]
  },
  {
   "cell_type": "markdown",
   "id": "b3e54a3a",
   "metadata": {},
   "source": [
    "## Creating Patient Data Frame with All Tumor Features"
   ]
  },
  {
   "cell_type": "markdown",
   "id": "167ebe94",
   "metadata": {},
   "source": [
    "# Dataset Downloaded From Kaggle for Analysis"
   ]
  },
  {
   "cell_type": "markdown",
   "id": "77f517e4",
   "metadata": {},
   "source": [
    "## *Data represents characteristics of cellular nuclei present in digitized images of fine needle aspirate (FNA) breast mass tissue samples taken from Wisconsin patients.*"
   ]
  },
  {
   "cell_type": "code",
   "execution_count": 148,
   "id": "942f1687",
   "metadata": {
    "scrolled": true
   },
   "outputs": [
    {
     "data": {
      "text/html": [
       "<div>\n",
       "<style scoped>\n",
       "    .dataframe tbody tr th:only-of-type {\n",
       "        vertical-align: middle;\n",
       "    }\n",
       "\n",
       "    .dataframe tbody tr th {\n",
       "        vertical-align: top;\n",
       "    }\n",
       "\n",
       "    .dataframe thead th {\n",
       "        text-align: right;\n",
       "    }\n",
       "</style>\n",
       "<table border=\"1\" class=\"dataframe\">\n",
       "  <thead>\n",
       "    <tr style=\"text-align: right;\">\n",
       "      <th></th>\n",
       "      <th>diagnosis</th>\n",
       "      <th>radius_mean</th>\n",
       "      <th>texture_mean</th>\n",
       "      <th>perimeter_mean</th>\n",
       "      <th>area_mean</th>\n",
       "      <th>smoothness_mean</th>\n",
       "      <th>compactness_mean</th>\n",
       "      <th>concavity_mean</th>\n",
       "      <th>concave points_mean</th>\n",
       "      <th>symmetry_mean</th>\n",
       "      <th>...</th>\n",
       "      <th>radius_worst</th>\n",
       "      <th>texture_worst</th>\n",
       "      <th>perimeter_worst</th>\n",
       "      <th>area_worst</th>\n",
       "      <th>smoothness_worst</th>\n",
       "      <th>compactness_worst</th>\n",
       "      <th>concavity_worst</th>\n",
       "      <th>concave points_worst</th>\n",
       "      <th>symmetry_worst</th>\n",
       "      <th>fractal_dimension_worst</th>\n",
       "    </tr>\n",
       "  </thead>\n",
       "  <tbody>\n",
       "    <tr>\n",
       "      <th>0</th>\n",
       "      <td>M</td>\n",
       "      <td>17.99</td>\n",
       "      <td>10.38</td>\n",
       "      <td>122.80</td>\n",
       "      <td>1001.0</td>\n",
       "      <td>0.11840</td>\n",
       "      <td>0.27760</td>\n",
       "      <td>0.3001</td>\n",
       "      <td>0.14710</td>\n",
       "      <td>0.2419</td>\n",
       "      <td>...</td>\n",
       "      <td>25.38</td>\n",
       "      <td>17.33</td>\n",
       "      <td>184.60</td>\n",
       "      <td>2019.0</td>\n",
       "      <td>0.1622</td>\n",
       "      <td>0.6656</td>\n",
       "      <td>0.7119</td>\n",
       "      <td>0.2654</td>\n",
       "      <td>0.4601</td>\n",
       "      <td>0.11890</td>\n",
       "    </tr>\n",
       "    <tr>\n",
       "      <th>1</th>\n",
       "      <td>M</td>\n",
       "      <td>20.57</td>\n",
       "      <td>17.77</td>\n",
       "      <td>132.90</td>\n",
       "      <td>1326.0</td>\n",
       "      <td>0.08474</td>\n",
       "      <td>0.07864</td>\n",
       "      <td>0.0869</td>\n",
       "      <td>0.07017</td>\n",
       "      <td>0.1812</td>\n",
       "      <td>...</td>\n",
       "      <td>24.99</td>\n",
       "      <td>23.41</td>\n",
       "      <td>158.80</td>\n",
       "      <td>1956.0</td>\n",
       "      <td>0.1238</td>\n",
       "      <td>0.1866</td>\n",
       "      <td>0.2416</td>\n",
       "      <td>0.1860</td>\n",
       "      <td>0.2750</td>\n",
       "      <td>0.08902</td>\n",
       "    </tr>\n",
       "    <tr>\n",
       "      <th>2</th>\n",
       "      <td>M</td>\n",
       "      <td>19.69</td>\n",
       "      <td>21.25</td>\n",
       "      <td>130.00</td>\n",
       "      <td>1203.0</td>\n",
       "      <td>0.10960</td>\n",
       "      <td>0.15990</td>\n",
       "      <td>0.1974</td>\n",
       "      <td>0.12790</td>\n",
       "      <td>0.2069</td>\n",
       "      <td>...</td>\n",
       "      <td>23.57</td>\n",
       "      <td>25.53</td>\n",
       "      <td>152.50</td>\n",
       "      <td>1709.0</td>\n",
       "      <td>0.1444</td>\n",
       "      <td>0.4245</td>\n",
       "      <td>0.4504</td>\n",
       "      <td>0.2430</td>\n",
       "      <td>0.3613</td>\n",
       "      <td>0.08758</td>\n",
       "    </tr>\n",
       "    <tr>\n",
       "      <th>3</th>\n",
       "      <td>M</td>\n",
       "      <td>11.42</td>\n",
       "      <td>20.38</td>\n",
       "      <td>77.58</td>\n",
       "      <td>386.1</td>\n",
       "      <td>0.14250</td>\n",
       "      <td>0.28390</td>\n",
       "      <td>0.2414</td>\n",
       "      <td>0.10520</td>\n",
       "      <td>0.2597</td>\n",
       "      <td>...</td>\n",
       "      <td>14.91</td>\n",
       "      <td>26.50</td>\n",
       "      <td>98.87</td>\n",
       "      <td>567.7</td>\n",
       "      <td>0.2098</td>\n",
       "      <td>0.8663</td>\n",
       "      <td>0.6869</td>\n",
       "      <td>0.2575</td>\n",
       "      <td>0.6638</td>\n",
       "      <td>0.17300</td>\n",
       "    </tr>\n",
       "    <tr>\n",
       "      <th>4</th>\n",
       "      <td>M</td>\n",
       "      <td>20.29</td>\n",
       "      <td>14.34</td>\n",
       "      <td>135.10</td>\n",
       "      <td>1297.0</td>\n",
       "      <td>0.10030</td>\n",
       "      <td>0.13280</td>\n",
       "      <td>0.1980</td>\n",
       "      <td>0.10430</td>\n",
       "      <td>0.1809</td>\n",
       "      <td>...</td>\n",
       "      <td>22.54</td>\n",
       "      <td>16.67</td>\n",
       "      <td>152.20</td>\n",
       "      <td>1575.0</td>\n",
       "      <td>0.1374</td>\n",
       "      <td>0.2050</td>\n",
       "      <td>0.4000</td>\n",
       "      <td>0.1625</td>\n",
       "      <td>0.2364</td>\n",
       "      <td>0.07678</td>\n",
       "    </tr>\n",
       "  </tbody>\n",
       "</table>\n",
       "<p>5 rows × 31 columns</p>\n",
       "</div>"
      ],
      "text/plain": [
       "  diagnosis  radius_mean  texture_mean  perimeter_mean  area_mean  \\\n",
       "0         M        17.99         10.38          122.80     1001.0   \n",
       "1         M        20.57         17.77          132.90     1326.0   \n",
       "2         M        19.69         21.25          130.00     1203.0   \n",
       "3         M        11.42         20.38           77.58      386.1   \n",
       "4         M        20.29         14.34          135.10     1297.0   \n",
       "\n",
       "   smoothness_mean  compactness_mean  concavity_mean  concave points_mean  \\\n",
       "0          0.11840           0.27760          0.3001              0.14710   \n",
       "1          0.08474           0.07864          0.0869              0.07017   \n",
       "2          0.10960           0.15990          0.1974              0.12790   \n",
       "3          0.14250           0.28390          0.2414              0.10520   \n",
       "4          0.10030           0.13280          0.1980              0.10430   \n",
       "\n",
       "   symmetry_mean  ...  radius_worst  texture_worst  perimeter_worst  \\\n",
       "0         0.2419  ...         25.38          17.33           184.60   \n",
       "1         0.1812  ...         24.99          23.41           158.80   \n",
       "2         0.2069  ...         23.57          25.53           152.50   \n",
       "3         0.2597  ...         14.91          26.50            98.87   \n",
       "4         0.1809  ...         22.54          16.67           152.20   \n",
       "\n",
       "   area_worst  smoothness_worst  compactness_worst  concavity_worst  \\\n",
       "0      2019.0            0.1622             0.6656           0.7119   \n",
       "1      1956.0            0.1238             0.1866           0.2416   \n",
       "2      1709.0            0.1444             0.4245           0.4504   \n",
       "3       567.7            0.2098             0.8663           0.6869   \n",
       "4      1575.0            0.1374             0.2050           0.4000   \n",
       "\n",
       "   concave points_worst  symmetry_worst  fractal_dimension_worst  \n",
       "0                0.2654          0.4601                  0.11890  \n",
       "1                0.1860          0.2750                  0.08902  \n",
       "2                0.2430          0.3613                  0.08758  \n",
       "3                0.2575          0.6638                  0.17300  \n",
       "4                0.1625          0.2364                  0.07678  \n",
       "\n",
       "[5 rows x 31 columns]"
      ]
     },
     "execution_count": 148,
     "metadata": {},
     "output_type": "execute_result"
    }
   ],
   "source": [
    "df = pd.read_csv('C:\\\\Gene_Data\\\\Cancer_ML_Data\\\\Kaggle_Data\\\\breast-cancer.csv')\n",
    "df = df.drop(columns='id')\n",
    "df.head()"
   ]
  },
  {
   "cell_type": "markdown",
   "id": "383824b5",
   "metadata": {},
   "source": [
    "### DataFrame Legend\n",
    "---\n",
    "*B = Benign <br>*\n",
    "*M = Malignant <br>*\n",
    "*Mean = Average of entire sample <br>*\n",
    "*SE = Standard error<br>*\n",
    "*Worst = Most extreme data points in sample (mean of 3 largest values)*"
   ]
  },
  {
   "cell_type": "markdown",
   "id": "f36037d8",
   "metadata": {},
   "source": [
    "### Splitting Data into Input and Output Variables\n",
    "###### X = Input (Tumor Characteristics)\n",
    "###### Y = Output (Diagnosis)"
   ]
  },
  {
   "cell_type": "code",
   "execution_count": 149,
   "id": "72e56b29",
   "metadata": {},
   "outputs": [
    {
     "data": {
      "text/plain": [
       "0       True\n",
       "1       True\n",
       "2       True\n",
       "3       True\n",
       "4       True\n",
       "       ...  \n",
       "564     True\n",
       "565     True\n",
       "566     True\n",
       "567     True\n",
       "568    False\n",
       "Name: diagnosis, Length: 569, dtype: bool"
      ]
     },
     "execution_count": 149,
     "metadata": {},
     "output_type": "execute_result"
    }
   ],
   "source": [
    "X = df.drop(columns=['diagnosis'])\n",
    "Y = df['diagnosis'] == 'M'\n",
    "Y"
   ]
  },
  {
   "cell_type": "markdown",
   "id": "17452925",
   "metadata": {},
   "source": [
    "### Building and Application of Machine Learning Models"
   ]
  },
  {
   "cell_type": "code",
   "execution_count": 81,
   "id": "f480c6af",
   "metadata": {},
   "outputs": [],
   "source": [
    "Algorithms = ['Linear_SVM', 'Polynomial_SVM', 'Decision_Tree', 'Random_Forest', 'Neural_Network', 'AdaBoost', 'Naive_Bayes', 'QDA', 'SGD']\n",
    "\n",
    "classifiers = [SVC(kernel='linear'), SVC(kernel='poly'), DecisionTreeClassifier(), RandomForestClassifier(), MLPClassifier(), AdaBoostClassifier(), GaussianNB(), QuadraticDiscriminantAnalysis(), SGDClassifier()]"
   ]
  },
  {
   "cell_type": "markdown",
   "id": "fe37591d",
   "metadata": {},
   "source": [
    "### Collection of Model Quality Scores"
   ]
  },
  {
   "cell_type": "code",
   "execution_count": 82,
   "id": "3d512069",
   "metadata": {},
   "outputs": [],
   "source": [
    "Acc_scores = []\n",
    "Prec_scores = []\n",
    "Rec_scores = []\n",
    "F1_scores = []\n",
    "for Alg, clf in zip(Algorithms, classifiers):\n",
    "    Acc_score = []\n",
    "    Prec_score = []\n",
    "    Rec_score = []\n",
    "    F1_score = []\n",
    "    kf = KFold(n_splits=10, shuffle=True, random_state=1)\n",
    "    splits = list(kf.split(X))\n",
    "    for train_indices, test_indices in splits:\n",
    "        X_train = X.iloc[train_indices]\n",
    "        X_test = X.iloc[test_indices]\n",
    "        Y_train = Y.iloc[train_indices]\n",
    "        Y_test = Y.iloc[test_indices]\n",
    "        clf.fit(X_train,Y_train)\n",
    "        y_pred = clf.predict(X_test)\n",
    "        tn, fp, fn, tp = confusion_matrix(Y_test, y_pred).ravel()\n",
    "        Acc_score.append(clf.score(X_test,Y_test))\n",
    "        Rec_score.append(tp / (tp + fn))\n",
    "        Prec_score.append(tp / (tp + fp))\n",
    "    for x, y in zip(Prec_score, Rec_score):\n",
    "        F1_score.append(2*((x * y)/(x + y)))\n",
    "    Acc_scores.append(sum(Acc_score)/len(Acc_score))\n",
    "    Rec_scores.append(sum(Rec_score)/len(Rec_score))\n",
    "    Prec_scores.append(sum(Prec_score)/len(Prec_score))\n",
    "    F1_scores.append(sum(F1_score)/len(F1_score))"
   ]
  },
  {
   "cell_type": "markdown",
   "id": "9400ec65",
   "metadata": {},
   "source": [
    "### Model Quality Score Data Frame"
   ]
  },
  {
   "cell_type": "code",
   "execution_count": 83,
   "id": "547a4ea0",
   "metadata": {},
   "outputs": [
    {
     "data": {
      "text/html": [
       "<div>\n",
       "<style scoped>\n",
       "    .dataframe tbody tr th:only-of-type {\n",
       "        vertical-align: middle;\n",
       "    }\n",
       "\n",
       "    .dataframe tbody tr th {\n",
       "        vertical-align: top;\n",
       "    }\n",
       "\n",
       "    .dataframe thead th {\n",
       "        text-align: right;\n",
       "    }\n",
       "</style>\n",
       "<table border=\"1\" class=\"dataframe\">\n",
       "  <thead>\n",
       "    <tr style=\"text-align: right;\">\n",
       "      <th></th>\n",
       "      <th>Accuracy</th>\n",
       "      <th>Precision</th>\n",
       "      <th>Recall</th>\n",
       "      <th>F1</th>\n",
       "    </tr>\n",
       "  </thead>\n",
       "  <tbody>\n",
       "    <tr>\n",
       "      <th>Linear_SVM</th>\n",
       "      <td>0.949029</td>\n",
       "      <td>0.950616</td>\n",
       "      <td>0.909035</td>\n",
       "      <td>0.927390</td>\n",
       "    </tr>\n",
       "    <tr>\n",
       "      <th>Polynomial_SVM</th>\n",
       "      <td>0.908427</td>\n",
       "      <td>0.955963</td>\n",
       "      <td>0.792051</td>\n",
       "      <td>0.859027</td>\n",
       "    </tr>\n",
       "    <tr>\n",
       "      <th>Decision_Tree</th>\n",
       "      <td>0.934868</td>\n",
       "      <td>0.918396</td>\n",
       "      <td>0.908638</td>\n",
       "      <td>0.910229</td>\n",
       "    </tr>\n",
       "    <tr>\n",
       "      <th>Random_Forest</th>\n",
       "      <td>0.952538</td>\n",
       "      <td>0.955468</td>\n",
       "      <td>0.919860</td>\n",
       "      <td>0.934448</td>\n",
       "    </tr>\n",
       "    <tr>\n",
       "      <th>Neural_Network</th>\n",
       "      <td>0.938503</td>\n",
       "      <td>0.952001</td>\n",
       "      <td>0.875531</td>\n",
       "      <td>0.909803</td>\n",
       "    </tr>\n",
       "    <tr>\n",
       "      <th>AdaBoost</th>\n",
       "      <td>0.963095</td>\n",
       "      <td>0.972244</td>\n",
       "      <td>0.927539</td>\n",
       "      <td>0.948626</td>\n",
       "    </tr>\n",
       "    <tr>\n",
       "      <th>Naive_Bayes</th>\n",
       "      <td>0.941980</td>\n",
       "      <td>0.949926</td>\n",
       "      <td>0.894258</td>\n",
       "      <td>0.919189</td>\n",
       "    </tr>\n",
       "    <tr>\n",
       "      <th>QDA</th>\n",
       "      <td>0.959524</td>\n",
       "      <td>0.947914</td>\n",
       "      <td>0.943868</td>\n",
       "      <td>0.944658</td>\n",
       "    </tr>\n",
       "    <tr>\n",
       "      <th>SGD</th>\n",
       "      <td>0.856015</td>\n",
       "      <td>0.881507</td>\n",
       "      <td>0.794210</td>\n",
       "      <td>0.804537</td>\n",
       "    </tr>\n",
       "  </tbody>\n",
       "</table>\n",
       "</div>"
      ],
      "text/plain": [
       "                Accuracy  Precision    Recall        F1\n",
       "Linear_SVM      0.949029   0.950616  0.909035  0.927390\n",
       "Polynomial_SVM  0.908427   0.955963  0.792051  0.859027\n",
       "Decision_Tree   0.934868   0.918396  0.908638  0.910229\n",
       "Random_Forest   0.952538   0.955468  0.919860  0.934448\n",
       "Neural_Network  0.938503   0.952001  0.875531  0.909803\n",
       "AdaBoost        0.963095   0.972244  0.927539  0.948626\n",
       "Naive_Bayes     0.941980   0.949926  0.894258  0.919189\n",
       "QDA             0.959524   0.947914  0.943868  0.944658\n",
       "SGD             0.856015   0.881507  0.794210  0.804537"
      ]
     },
     "execution_count": 83,
     "metadata": {},
     "output_type": "execute_result"
    }
   ],
   "source": [
    "df_scores = pd.DataFrame({'Accuracy': Acc_scores, 'Precision': Prec_scores, 'Recall': Rec_scores, 'F1': F1_scores}, index=Algorithms)\n",
    "df_scores"
   ]
  },
  {
   "cell_type": "markdown",
   "id": "c0dc15fa",
   "metadata": {},
   "source": [
    "### Model Performance Heatmap and Barplot"
   ]
  },
  {
   "cell_type": "code",
   "execution_count": 84,
   "id": "50bd9ebe",
   "metadata": {},
   "outputs": [
    {
     "data": {
      "image/png": "[encoded data removed]",
      "text/plain": [
       "<Figure size 432x288 with 2 Axes>"
      ]
     },
     "metadata": {},
     "output_type": "display_data"
    }
   ],
   "source": [
    "sns.set(font_scale=1)\n",
    "ax = sns.heatmap(df_scores, linewidths=1, linecolor='black', cmap='hot', annot=True, vmin=0.5, vmax=1)"
   ]
  },
  {
   "cell_type": "code",
   "execution_count": 85,
   "id": "f08aeb56",
   "metadata": {},
   "outputs": [
    {
     "data": {
      "image/png": "[encoded data removed]",
      "text/plain": [
       "<Figure size 432x288 with 1 Axes>"
      ]
     },
     "metadata": {},
     "output_type": "display_data"
    }
   ],
   "source": [
    "sns.set(style='whitegrid')\n",
    "ax = sns.barplot(y=df_scores.index, x=df_scores['Accuracy'], data=df_scores, saturation=1)"
   ]
  },
  {
   "cell_type": "markdown",
   "id": "c0afcdc7",
   "metadata": {},
   "source": [
    "## Analyzing model Performance with Each Individual Tumor Characteristicc"
   ]
  },
  {
   "cell_type": "code",
   "execution_count": 86,
   "id": "1bd1b9c1",
   "metadata": {},
   "outputs": [],
   "source": [
    "columns = ['radius_mean', 'texture_mean', 'perimeter_mean',\n",
    "       'area_mean', 'smoothness_mean', 'compactness_mean', 'concavity_mean',\n",
    "       'concave points_mean', 'symmetry_mean', 'fractal_dimension_mean',\n",
    "       'radius_se', 'texture_se', 'perimeter_se', 'area_se', 'smoothness_se',\n",
    "       'compactness_se', 'concavity_se', 'concave points_se', 'symmetry_se',\n",
    "       'fractal_dimension_se', 'radius_worst', 'texture_worst',\n",
    "       'perimeter_worst', 'area_worst', 'smoothness_worst',\n",
    "       'compactness_worst', 'concavity_worst', 'concave points_worst',\n",
    "       'symmetry_worst', 'fractal_dimension_worst']"
   ]
  },
  {
   "cell_type": "code",
   "execution_count": 87,
   "id": "6922c1f5",
   "metadata": {},
   "outputs": [],
   "source": [
    "characteristics = []\n",
    "\n",
    "for x in columns:\n",
    "    x = x.replace('_', ' ')\n",
    "    x = x.replace('se', 'standard error')\n",
    "    x = x.capitalize()\n",
    "    characteristics.append(x)\n",
    "    \n",
    "df_feat = pd.DataFrame(index=characteristics)"
   ]
  },
  {
   "cell_type": "markdown",
   "id": "d1d335a8",
   "metadata": {},
   "source": [
    "### Empty DataFrame for Quality Scores"
   ]
  },
  {
   "cell_type": "code",
   "execution_count": 88,
   "id": "a327a0ff",
   "metadata": {},
   "outputs": [
    {
     "data": {
      "text/html": [
       "<div>\n",
       "<style scoped>\n",
       "    .dataframe tbody tr th:only-of-type {\n",
       "        vertical-align: middle;\n",
       "    }\n",
       "\n",
       "    .dataframe tbody tr th {\n",
       "        vertical-align: top;\n",
       "    }\n",
       "\n",
       "    .dataframe thead th {\n",
       "        text-align: right;\n",
       "    }\n",
       "</style>\n",
       "<table border=\"1\" class=\"dataframe\">\n",
       "  <thead>\n",
       "    <tr style=\"text-align: right;\">\n",
       "      <th></th>\n",
       "    </tr>\n",
       "  </thead>\n",
       "  <tbody>\n",
       "    <tr>\n",
       "      <th>Radius mean</th>\n",
       "    </tr>\n",
       "    <tr>\n",
       "      <th>Texture mean</th>\n",
       "    </tr>\n",
       "    <tr>\n",
       "      <th>Perimeter mean</th>\n",
       "    </tr>\n",
       "    <tr>\n",
       "      <th>Area mean</th>\n",
       "    </tr>\n",
       "    <tr>\n",
       "      <th>Smoothness mean</th>\n",
       "    </tr>\n",
       "  </tbody>\n",
       "</table>\n",
       "</div>"
      ],
      "text/plain": [
       "Empty DataFrame\n",
       "Columns: []\n",
       "Index: [Radius mean, Texture mean, Perimeter mean, Area mean, Smoothness mean]"
      ]
     },
     "execution_count": 88,
     "metadata": {},
     "output_type": "execute_result"
    }
   ],
   "source": [
    "df_feat.head()"
   ]
  },
  {
   "cell_type": "markdown",
   "id": "3dd18546",
   "metadata": {},
   "source": [
    "### Collection of Model Accuracy Scores"
   ]
  },
  {
   "cell_type": "code",
   "execution_count": 133,
   "id": "328fbd63",
   "metadata": {},
   "outputs": [],
   "source": [
    "for Alg, clf in zip(Algorithms, classifiers):\n",
    "    Acc_lim_scores = []\n",
    "    for feature in columns:\n",
    "        Acc_score = []\n",
    "        X2 = pd.DataFrame(X[feature])\n",
    "        kf = KFold(n_splits=10, shuffle=True, random_state=1)\n",
    "        splits = list(kf.split(X))\n",
    "        for train_indices, test_indices in splits:\n",
    "            X_train = X2.iloc[train_indices]\n",
    "            X_test = X2.iloc[test_indices]\n",
    "            Y_train = Y.iloc[train_indices]\n",
    "            Y_test = Y.iloc[test_indices]\n",
    "            clf.fit(X_train,Y_train)\n",
    "            Acc_score.append(clf.score(X_test,Y_test))\n",
    "        Acc_lim_scores.append(sum(Acc_score)/len(Acc_score))\n",
    "    df_feat[Alg] = Acc_lim_scores"
   ]
  },
  {
   "cell_type": "code",
   "execution_count": 134,
   "id": "376cc4e3",
   "metadata": {},
   "outputs": [
    {
     "data": {
      "text/html": [
       "<div>\n",
       "<style scoped>\n",
       "    .dataframe tbody tr th:only-of-type {\n",
       "        vertical-align: middle;\n",
       "    }\n",
       "\n",
       "    .dataframe tbody tr th {\n",
       "        vertical-align: top;\n",
       "    }\n",
       "\n",
       "    .dataframe thead th {\n",
       "        text-align: right;\n",
       "    }\n",
       "</style>\n",
       "<table border=\"1\" class=\"dataframe\">\n",
       "  <thead>\n",
       "    <tr style=\"text-align: right;\">\n",
       "      <th></th>\n",
       "      <th>Linear_SVM</th>\n",
       "      <th>Polynomial_SVM</th>\n",
       "      <th>Decision_Tree</th>\n",
       "      <th>Random_Forest</th>\n",
       "      <th>Neural_Network</th>\n",
       "      <th>AdaBoost</th>\n",
       "      <th>Naive_Bayes</th>\n",
       "      <th>QDA</th>\n",
       "      <th>SGD</th>\n",
       "    </tr>\n",
       "  </thead>\n",
       "  <tbody>\n",
       "    <tr>\n",
       "      <th>Concave points worst</th>\n",
       "      <td>0.880514</td>\n",
       "      <td>0.910401</td>\n",
       "      <td>0.889286</td>\n",
       "      <td>0.898058</td>\n",
       "      <td>0.912155</td>\n",
       "      <td>0.905138</td>\n",
       "      <td>0.906861</td>\n",
       "      <td>0.906861</td>\n",
       "      <td>0.908647</td>\n",
       "    </tr>\n",
       "    <tr>\n",
       "      <th>Area worst</th>\n",
       "      <td>0.910276</td>\n",
       "      <td>0.917325</td>\n",
       "      <td>0.880420</td>\n",
       "      <td>0.882174</td>\n",
       "      <td>0.815414</td>\n",
       "      <td>0.903289</td>\n",
       "      <td>0.913722</td>\n",
       "      <td>0.913722</td>\n",
       "      <td>0.499311</td>\n",
       "    </tr>\n",
       "    <tr>\n",
       "      <th>Perimeter worst</th>\n",
       "      <td>0.913910</td>\n",
       "      <td>0.913878</td>\n",
       "      <td>0.871648</td>\n",
       "      <td>0.875125</td>\n",
       "      <td>0.908521</td>\n",
       "      <td>0.880420</td>\n",
       "      <td>0.915570</td>\n",
       "      <td>0.915570</td>\n",
       "      <td>0.751974</td>\n",
       "    </tr>\n",
       "    <tr>\n",
       "      <th>Radius worst</th>\n",
       "      <td>0.913816</td>\n",
       "      <td>0.917356</td>\n",
       "      <td>0.869987</td>\n",
       "      <td>0.871742</td>\n",
       "      <td>0.906736</td>\n",
       "      <td>0.913847</td>\n",
       "      <td>0.908490</td>\n",
       "      <td>0.908490</td>\n",
       "      <td>0.869862</td>\n",
       "    </tr>\n",
       "    <tr>\n",
       "      <th>Concave points mean</th>\n",
       "      <td>0.688847</td>\n",
       "      <td>0.906892</td>\n",
       "      <td>0.850627</td>\n",
       "      <td>0.852381</td>\n",
       "      <td>0.864536</td>\n",
       "      <td>0.901629</td>\n",
       "      <td>0.905138</td>\n",
       "      <td>0.905138</td>\n",
       "      <td>0.875313</td>\n",
       "    </tr>\n",
       "  </tbody>\n",
       "</table>\n",
       "</div>"
      ],
      "text/plain": [
       "                      Linear_SVM  Polynomial_SVM  Decision_Tree  \\\n",
       "Concave points worst    0.880514        0.910401       0.889286   \n",
       "Area worst              0.910276        0.917325       0.880420   \n",
       "Perimeter worst         0.913910        0.913878       0.871648   \n",
       "Radius worst            0.913816        0.917356       0.869987   \n",
       "Concave points mean     0.688847        0.906892       0.850627   \n",
       "\n",
       "                      Random_Forest  Neural_Network  AdaBoost  Naive_Bayes  \\\n",
       "Concave points worst       0.898058        0.912155  0.905138     0.906861   \n",
       "Area worst                 0.882174        0.815414  0.903289     0.913722   \n",
       "Perimeter worst            0.875125        0.908521  0.880420     0.915570   \n",
       "Radius worst               0.871742        0.906736  0.913847     0.908490   \n",
       "Concave points mean        0.852381        0.864536  0.901629     0.905138   \n",
       "\n",
       "                           QDA       SGD  \n",
       "Concave points worst  0.906861  0.908647  \n",
       "Area worst            0.913722  0.499311  \n",
       "Perimeter worst       0.915570  0.751974  \n",
       "Radius worst          0.908490  0.869862  \n",
       "Concave points mean   0.905138  0.875313  "
      ]
     },
     "execution_count": 134,
     "metadata": {},
     "output_type": "execute_result"
    }
   ],
   "source": [
    "df_feat_sorted = df_feat.sort_values(by=['Random_Forest', 'AdaBoost'], ascending=False)\n",
    "df_feat_sorted.head()"
   ]
  },
  {
   "cell_type": "markdown",
   "id": "1ecc0e12",
   "metadata": {},
   "source": [
    "### Model Accuracy Heatmap"
   ]
  },
  {
   "cell_type": "code",
   "execution_count": 135,
   "id": "9e7a23f0",
   "metadata": {},
   "outputs": [
    {
     "data": {
      "image/png": "[encoded data removed]",
      "text/plain": [
       "<Figure size 432x288 with 2 Axes>"
      ]
     },
     "metadata": {},
     "output_type": "display_data"
    }
   ],
   "source": [
    "sns.set(font_scale=.8)\n",
    "ax = sns.heatmap(df_feat_sorted, linewidths=1, linecolor='black', cmap='hot', yticklabels=df_feat_sorted.index, vmin=0.5, vmax=1)"
   ]
  },
  {
   "cell_type": "code",
   "execution_count": 136,
   "id": "90269b8a",
   "metadata": {
    "scrolled": true
   },
   "outputs": [
    {
     "data": {
      "image/png": "[encoded data removed]",
      "text/plain": [
       "<Figure size 432x288 with 2 Axes>"
      ]
     },
     "metadata": {},
     "output_type": "display_data"
    }
   ],
   "source": [
    "sns.set(font_scale=1)\n",
    "ax = sns.heatmap(df_feat_sorted.iloc[:10], linewidths=1, linecolor='black', cmap='hot', yticklabels=df_feat_sorted.index[:10], vmin=0.5, vmax=1, annot=True)"
   ]
  },
  {
   "cell_type": "markdown",
   "id": "19e40ae4",
   "metadata": {},
   "source": [
    "### Five most influencial features for predicting breast cancer tumor status:\n",
    "1. Worst Concave Points: Greatest number of concave points in surface contour\n",
    "2. Worst Area: Greatest nuclei area in sample\n",
    "3. Worst Perimeter: Greatest nucleus perimeter in sample\n",
    "4. Worst Radius: Greatest distance from center to perimeter of nucleus\n",
    "5. Mean Concave Points: Average number of concave points in surface contour across entire sample"
   ]
  },
  {
   "cell_type": "code",
   "execution_count": 132,
   "id": "10772241",
   "metadata": {},
   "outputs": [],
   "source": [
    "df_corr = df\n",
    "df_corr['diagnosis'].replace('M', 1, inplace=True)\n",
    "df_corr['diagnosis'].replace('B', 0, inplace=True)"
   ]
  },
  {
   "cell_type": "code",
   "execution_count": 100,
   "id": "7cd0165f",
   "metadata": {},
   "outputs": [
    {
     "data": {
      "text/html": [
       "<div>\n",
       "<style scoped>\n",
       "    .dataframe tbody tr th:only-of-type {\n",
       "        vertical-align: middle;\n",
       "    }\n",
       "\n",
       "    .dataframe tbody tr th {\n",
       "        vertical-align: top;\n",
       "    }\n",
       "\n",
       "    .dataframe thead th {\n",
       "        text-align: right;\n",
       "    }\n",
       "</style>\n",
       "<table border=\"1\" class=\"dataframe\">\n",
       "  <thead>\n",
       "    <tr style=\"text-align: right;\">\n",
       "      <th></th>\n",
       "      <th>diagnosis</th>\n",
       "    </tr>\n",
       "  </thead>\n",
       "  <tbody>\n",
       "    <tr>\n",
       "      <th>diagnosis</th>\n",
       "      <td>1.000</td>\n",
       "    </tr>\n",
       "    <tr>\n",
       "      <th>concave points_worst</th>\n",
       "      <td>0.794</td>\n",
       "    </tr>\n",
       "    <tr>\n",
       "      <th>perimeter_worst</th>\n",
       "      <td>0.783</td>\n",
       "    </tr>\n",
       "    <tr>\n",
       "      <th>concave points_mean</th>\n",
       "      <td>0.777</td>\n",
       "    </tr>\n",
       "    <tr>\n",
       "      <th>radius_worst</th>\n",
       "      <td>0.776</td>\n",
       "    </tr>\n",
       "    <tr>\n",
       "      <th>perimeter_mean</th>\n",
       "      <td>0.743</td>\n",
       "    </tr>\n",
       "    <tr>\n",
       "      <th>area_worst</th>\n",
       "      <td>0.734</td>\n",
       "    </tr>\n",
       "    <tr>\n",
       "      <th>radius_mean</th>\n",
       "      <td>0.730</td>\n",
       "    </tr>\n",
       "    <tr>\n",
       "      <th>area_mean</th>\n",
       "      <td>0.709</td>\n",
       "    </tr>\n",
       "    <tr>\n",
       "      <th>concavity_mean</th>\n",
       "      <td>0.696</td>\n",
       "    </tr>\n",
       "  </tbody>\n",
       "</table>\n",
       "</div>"
      ],
      "text/plain": [
       "                      diagnosis\n",
       "diagnosis                 1.000\n",
       "concave points_worst      0.794\n",
       "perimeter_worst           0.783\n",
       "concave points_mean       0.777\n",
       "radius_worst              0.776\n",
       "perimeter_mean            0.743\n",
       "area_worst                0.734\n",
       "radius_mean               0.730\n",
       "area_mean                 0.709\n",
       "concavity_mean            0.696"
      ]
     },
     "execution_count": 100,
     "metadata": {},
     "output_type": "execute_result"
    }
   ],
   "source": [
    "corr_matrix = df_corr.corr().round(3)\n",
    "corr_df = pd.DataFrame(corr_matrix['diagnosis'].sort_values(ascending=False))\n",
    "corr_df.head(10)"
   ]
  },
  {
   "cell_type": "code",
   "execution_count": 101,
   "id": "84771301",
   "metadata": {},
   "outputs": [
    {
     "data": {
      "image/png": "[encoded data removed]",
      "text/plain": [
       "<Figure size 432x288 with 2 Axes>"
      ]
     },
     "metadata": {},
     "output_type": "display_data"
    }
   ],
   "source": [
    "sns.set(font_scale=1)\n",
    "ax = sns.heatmap(corr_df.head(10), linewidths=1, linecolor='black', cmap='hot',vmin=-1, vmax=1)"
   ]
  },
  {
   "cell_type": "markdown",
   "id": "23e9ec4a",
   "metadata": {},
   "source": [
    "## Visualization of Information Gain from Most and Least Influencial Tumor Features"
   ]
  },
  {
   "cell_type": "code",
   "execution_count": 102,
   "id": "f1011471",
   "metadata": {},
   "outputs": [
    {
     "data": {
      "text/plain": [
       "[Text(0.5, 1.0, 'Highest Information Gain'),\n",
       " Text(0.5, 0, 'Worst Concave Points'),\n",
       " Text(0, 0.5, 'Worst Perimeter')]"
      ]
     },
     "execution_count": 102,
     "metadata": {},
     "output_type": "execute_result"
    },
    {
     "data": {
      "image/png": "[encoded data removed]",
      "text/plain": [
       "<Figure size 432x288 with 1 Axes>"
      ]
     },
     "metadata": {},
     "output_type": "display_data"
    }
   ],
   "source": [
    "sns.scatterplot(x ='concave points_worst', y ='area_worst', data=df, hue=df['diagnosis']).set(title='Highest Information Gain', xlabel='Worst Concave Points', ylabel='Worst Perimeter')"
   ]
  },
  {
   "cell_type": "code",
   "execution_count": 103,
   "id": "398d2621",
   "metadata": {},
   "outputs": [
    {
     "data": {
      "text/plain": [
       "[Text(0.5, 1.0, 'Lowest Information Gain'),\n",
       " Text(0.5, 0, 'Smoothness Standard Error'),\n",
       " Text(0, 0.5, 'Symmetry Standard Error')]"
      ]
     },
     "execution_count": 103,
     "metadata": {},
     "output_type": "execute_result"
    },
    {
     "data": {
      "image/png": "[encoded data removed]",
      "text/plain": [
       "<Figure size 432x288 with 1 Axes>"
      ]
     },
     "metadata": {},
     "output_type": "display_data"
    }
   ],
   "source": [
    "sns.scatterplot(x ='smoothness_se', y ='symmetry_se', data=df, hue=df['diagnosis']).set(title='Lowest Information Gain', xlabel='Smoothness Standard Error', ylabel='Symmetry Standard Error')"
   ]
  },
  {
   "cell_type": "markdown",
   "id": "0a7d2331",
   "metadata": {},
   "source": [
    "## DataFrame of Most Influencial Tumor Features"
   ]
  },
  {
   "cell_type": "code",
   "execution_count": 150,
   "id": "399fd70b",
   "metadata": {},
   "outputs": [
    {
     "data": {
      "text/html": [
       "<div>\n",
       "<style scoped>\n",
       "    .dataframe tbody tr th:only-of-type {\n",
       "        vertical-align: middle;\n",
       "    }\n",
       "\n",
       "    .dataframe tbody tr th {\n",
       "        vertical-align: top;\n",
       "    }\n",
       "\n",
       "    .dataframe thead th {\n",
       "        text-align: right;\n",
       "    }\n",
       "</style>\n",
       "<table border=\"1\" class=\"dataframe\">\n",
       "  <thead>\n",
       "    <tr style=\"text-align: right;\">\n",
       "      <th></th>\n",
       "      <th>concave points_mean</th>\n",
       "      <th>radius_worst</th>\n",
       "      <th>perimeter_worst</th>\n",
       "      <th>area_worst</th>\n",
       "      <th>concave points_worst</th>\n",
       "    </tr>\n",
       "  </thead>\n",
       "  <tbody>\n",
       "    <tr>\n",
       "      <th>0</th>\n",
       "      <td>0.14710</td>\n",
       "      <td>25.380</td>\n",
       "      <td>184.60</td>\n",
       "      <td>2019.0</td>\n",
       "      <td>0.2654</td>\n",
       "    </tr>\n",
       "    <tr>\n",
       "      <th>1</th>\n",
       "      <td>0.07017</td>\n",
       "      <td>24.990</td>\n",
       "      <td>158.80</td>\n",
       "      <td>1956.0</td>\n",
       "      <td>0.1860</td>\n",
       "    </tr>\n",
       "    <tr>\n",
       "      <th>2</th>\n",
       "      <td>0.12790</td>\n",
       "      <td>23.570</td>\n",
       "      <td>152.50</td>\n",
       "      <td>1709.0</td>\n",
       "      <td>0.2430</td>\n",
       "    </tr>\n",
       "    <tr>\n",
       "      <th>3</th>\n",
       "      <td>0.10520</td>\n",
       "      <td>14.910</td>\n",
       "      <td>98.87</td>\n",
       "      <td>567.7</td>\n",
       "      <td>0.2575</td>\n",
       "    </tr>\n",
       "    <tr>\n",
       "      <th>4</th>\n",
       "      <td>0.10430</td>\n",
       "      <td>22.540</td>\n",
       "      <td>152.20</td>\n",
       "      <td>1575.0</td>\n",
       "      <td>0.1625</td>\n",
       "    </tr>\n",
       "    <tr>\n",
       "      <th>...</th>\n",
       "      <td>...</td>\n",
       "      <td>...</td>\n",
       "      <td>...</td>\n",
       "      <td>...</td>\n",
       "      <td>...</td>\n",
       "    </tr>\n",
       "    <tr>\n",
       "      <th>564</th>\n",
       "      <td>0.13890</td>\n",
       "      <td>25.450</td>\n",
       "      <td>166.10</td>\n",
       "      <td>2027.0</td>\n",
       "      <td>0.2216</td>\n",
       "    </tr>\n",
       "    <tr>\n",
       "      <th>565</th>\n",
       "      <td>0.09791</td>\n",
       "      <td>23.690</td>\n",
       "      <td>155.00</td>\n",
       "      <td>1731.0</td>\n",
       "      <td>0.1628</td>\n",
       "    </tr>\n",
       "    <tr>\n",
       "      <th>566</th>\n",
       "      <td>0.05302</td>\n",
       "      <td>18.980</td>\n",
       "      <td>126.70</td>\n",
       "      <td>1124.0</td>\n",
       "      <td>0.1418</td>\n",
       "    </tr>\n",
       "    <tr>\n",
       "      <th>567</th>\n",
       "      <td>0.15200</td>\n",
       "      <td>25.740</td>\n",
       "      <td>184.60</td>\n",
       "      <td>1821.0</td>\n",
       "      <td>0.2650</td>\n",
       "    </tr>\n",
       "    <tr>\n",
       "      <th>568</th>\n",
       "      <td>0.00000</td>\n",
       "      <td>9.456</td>\n",
       "      <td>59.16</td>\n",
       "      <td>268.6</td>\n",
       "      <td>0.0000</td>\n",
       "    </tr>\n",
       "  </tbody>\n",
       "</table>\n",
       "<p>569 rows × 5 columns</p>\n",
       "</div>"
      ],
      "text/plain": [
       "     concave points_mean  radius_worst  perimeter_worst  area_worst  \\\n",
       "0                0.14710        25.380           184.60      2019.0   \n",
       "1                0.07017        24.990           158.80      1956.0   \n",
       "2                0.12790        23.570           152.50      1709.0   \n",
       "3                0.10520        14.910            98.87       567.7   \n",
       "4                0.10430        22.540           152.20      1575.0   \n",
       "..                   ...           ...              ...         ...   \n",
       "564              0.13890        25.450           166.10      2027.0   \n",
       "565              0.09791        23.690           155.00      1731.0   \n",
       "566              0.05302        18.980           126.70      1124.0   \n",
       "567              0.15200        25.740           184.60      1821.0   \n",
       "568              0.00000         9.456            59.16       268.6   \n",
       "\n",
       "     concave points_worst  \n",
       "0                  0.2654  \n",
       "1                  0.1860  \n",
       "2                  0.2430  \n",
       "3                  0.2575  \n",
       "4                  0.1625  \n",
       "..                    ...  \n",
       "564                0.2216  \n",
       "565                0.1628  \n",
       "566                0.1418  \n",
       "567                0.2650  \n",
       "568                0.0000  \n",
       "\n",
       "[569 rows x 5 columns]"
      ]
     },
     "execution_count": 150,
     "metadata": {},
     "output_type": "execute_result"
    }
   ],
   "source": [
    "df_limited = df.drop(columns=['texture_mean', 'perimeter_mean', 'smoothness_mean', 'concavity_mean',\n",
    "        'fractal_dimension_mean',\n",
    "       'radius_se', 'texture_se', 'perimeter_se', 'area_se', 'smoothness_se',\n",
    "       'compactness_se', 'concavity_se', 'concave points_se', 'symmetry_se',\n",
    "       'fractal_dimension_se', 'texture_worst', 'smoothness_worst',\n",
    "       'compactness_worst', 'concavity_worst',\n",
    "       'symmetry_worst', 'fractal_dimension_worst', 'diagnosis', 'radius_mean', 'area_mean', 'symmetry_mean', 'compactness_mean'])\n",
    "df_limited"
   ]
  },
  {
   "cell_type": "markdown",
   "id": "8bec5eca",
   "metadata": {},
   "source": [
    "### Splitting of Data Into input and Output Variables"
   ]
  },
  {
   "cell_type": "code",
   "execution_count": 157,
   "id": "68453667",
   "metadata": {},
   "outputs": [],
   "source": [
    "X2 = df_limited\n",
    "Y2 = df['diagnosis']"
   ]
  },
  {
   "cell_type": "markdown",
   "id": "ae7c7903",
   "metadata": {},
   "source": [
    "### Collection of Model Quality Scores"
   ]
  },
  {
   "cell_type": "code",
   "execution_count": 106,
   "id": "6143085c",
   "metadata": {},
   "outputs": [],
   "source": [
    "Algorithms_lim = ['Linear_SVM', 'Polynomial_SVM', 'Decision_Tree', 'Random_Forest', 'Neural_Network', 'AdaBoost', 'Naive_Bayes', 'QDA']\n",
    "classifiers_lim = [SVC(kernel='linear'), SVC(kernel='poly'), DecisionTreeClassifier(), RandomForestClassifier(), MLPClassifier(), AdaBoostClassifier(), GaussianNB(), QuadraticDiscriminantAnalysis()]"
   ]
  },
  {
   "cell_type": "code",
   "execution_count": 107,
   "id": "ebf9c489",
   "metadata": {},
   "outputs": [],
   "source": [
    "Acc_lim_scores = []\n",
    "Prec_lim_scores = []\n",
    "Rec_lim_scores = []\n",
    "F1_lim_scores = []\n",
    "for Alg, clf in zip(Algorithms_lim, classifiers_lim):\n",
    "    Acc_score = []\n",
    "    Prec_score = []\n",
    "    Rec_score = []\n",
    "    F1_score = []\n",
    "    kf = KFold(n_splits=20, shuffle=True, random_state=1)\n",
    "    splits = list(kf.split(X))\n",
    "    for train_indices, test_indices in splits:\n",
    "        X_train = X2.iloc[train_indices]\n",
    "        X_test = X2.iloc[test_indices]\n",
    "        Y_train = Y2.iloc[train_indices]\n",
    "        Y_test = Y2.iloc[test_indices]\n",
    "        clf.fit(X_train,Y_train)\n",
    "        y_pred = clf.predict(X_test)\n",
    "        tn, fp, fn, tp = confusion_matrix(Y_test, y_pred).ravel()\n",
    "        Acc_score.append(clf.score(X_test,Y_test))\n",
    "        Rec_score.append(tp / (tp + fn))\n",
    "        Prec_score.append(tp / (tp + fp))\n",
    "    for x, y in zip(Prec_score, Rec_score):\n",
    "        F1_score.append(2*((x * y)/(x + y)))\n",
    "    Acc_lim_scores.append(sum(Acc_score)/len(Acc_score))\n",
    "    Rec_lim_scores.append(sum(Rec_score)/len(Rec_score))\n",
    "    Prec_lim_scores.append(sum(Prec_score)/len(Prec_score))\n",
    "    F1_lim_scores.append(sum(F1_score)/len(F1_score))"
   ]
  },
  {
   "cell_type": "code",
   "execution_count": 108,
   "id": "6fdcbf7b",
   "metadata": {},
   "outputs": [
    {
     "data": {
      "text/html": [
       "<div>\n",
       "<style scoped>\n",
       "    .dataframe tbody tr th:only-of-type {\n",
       "        vertical-align: middle;\n",
       "    }\n",
       "\n",
       "    .dataframe tbody tr th {\n",
       "        vertical-align: top;\n",
       "    }\n",
       "\n",
       "    .dataframe thead th {\n",
       "        text-align: right;\n",
       "    }\n",
       "</style>\n",
       "<table border=\"1\" class=\"dataframe\">\n",
       "  <thead>\n",
       "    <tr style=\"text-align: right;\">\n",
       "      <th></th>\n",
       "      <th>Accuracy</th>\n",
       "      <th>Precision</th>\n",
       "      <th>Recall</th>\n",
       "      <th>F1</th>\n",
       "    </tr>\n",
       "  </thead>\n",
       "  <tbody>\n",
       "    <tr>\n",
       "      <th>Linear_SVM</th>\n",
       "      <td>0.919458</td>\n",
       "      <td>0.916962</td>\n",
       "      <td>0.865823</td>\n",
       "      <td>0.883314</td>\n",
       "    </tr>\n",
       "    <tr>\n",
       "      <th>Polynomial_SVM</th>\n",
       "      <td>0.917549</td>\n",
       "      <td>0.946313</td>\n",
       "      <td>0.823353</td>\n",
       "      <td>0.874294</td>\n",
       "    </tr>\n",
       "    <tr>\n",
       "      <th>Decision_Tree</th>\n",
       "      <td>0.926355</td>\n",
       "      <td>0.919755</td>\n",
       "      <td>0.886655</td>\n",
       "      <td>0.897096</td>\n",
       "    </tr>\n",
       "    <tr>\n",
       "      <th>Random_Forest</th>\n",
       "      <td>0.936946</td>\n",
       "      <td>0.927216</td>\n",
       "      <td>0.907623</td>\n",
       "      <td>0.912951</td>\n",
       "    </tr>\n",
       "    <tr>\n",
       "      <th>Neural_Network</th>\n",
       "      <td>0.893165</td>\n",
       "      <td>0.915210</td>\n",
       "      <td>0.794444</td>\n",
       "      <td>0.839538</td>\n",
       "    </tr>\n",
       "    <tr>\n",
       "      <th>AdaBoost</th>\n",
       "      <td>0.931835</td>\n",
       "      <td>0.918557</td>\n",
       "      <td>0.909268</td>\n",
       "      <td>0.908055</td>\n",
       "    </tr>\n",
       "    <tr>\n",
       "      <th>Naive_Bayes</th>\n",
       "      <td>0.949261</td>\n",
       "      <td>0.952758</td>\n",
       "      <td>0.909513</td>\n",
       "      <td>0.926936</td>\n",
       "    </tr>\n",
       "    <tr>\n",
       "      <th>QDA</th>\n",
       "      <td>0.936946</td>\n",
       "      <td>0.943181</td>\n",
       "      <td>0.882064</td>\n",
       "      <td>0.906407</td>\n",
       "    </tr>\n",
       "  </tbody>\n",
       "</table>\n",
       "</div>"
      ],
      "text/plain": [
       "                Accuracy  Precision    Recall        F1\n",
       "Linear_SVM      0.919458   0.916962  0.865823  0.883314\n",
       "Polynomial_SVM  0.917549   0.946313  0.823353  0.874294\n",
       "Decision_Tree   0.926355   0.919755  0.886655  0.897096\n",
       "Random_Forest   0.936946   0.927216  0.907623  0.912951\n",
       "Neural_Network  0.893165   0.915210  0.794444  0.839538\n",
       "AdaBoost        0.931835   0.918557  0.909268  0.908055\n",
       "Naive_Bayes     0.949261   0.952758  0.909513  0.926936\n",
       "QDA             0.936946   0.943181  0.882064  0.906407"
      ]
     },
     "execution_count": 108,
     "metadata": {},
     "output_type": "execute_result"
    }
   ],
   "source": [
    "df_limited_scores = pd.DataFrame({'Accuracy': Acc_lim_scores, 'Precision': Prec_lim_scores, 'Recall': Rec_lim_scores, 'F1': F1_lim_scores}, index=Algorithms_lim)\n",
    "df_limited_scores"
   ]
  },
  {
   "cell_type": "markdown",
   "id": "9510eeef",
   "metadata": {},
   "source": [
    "### Model Performance Heatmap with Limited Tumor Characteristics"
   ]
  },
  {
   "cell_type": "code",
   "execution_count": 109,
   "id": "b3597eb5",
   "metadata": {
    "scrolled": true
   },
   "outputs": [
    {
     "data": {
      "image/png": "[encoded data removed]",
      "text/plain": [
       "<Figure size 432x288 with 2 Axes>"
      ]
     },
     "metadata": {},
     "output_type": "display_data"
    }
   ],
   "source": [
    "sns.set(font_scale=1)\n",
    "ax = sns.heatmap(df_limited_scores, linewidths=1, linecolor='black', cmap='hot', annot=True, vmin=0.5, vmax=1)"
   ]
  },
  {
   "cell_type": "code",
   "execution_count": 110,
   "id": "2d76bdd5",
   "metadata": {},
   "outputs": [
    {
     "data": {
      "image/png": "[encoded data removed]",
      "text/plain": [
       "<Figure size 432x288 with 1 Axes>"
      ]
     },
     "metadata": {},
     "output_type": "display_data"
    }
   ],
   "source": [
    "sns.set(style='whitegrid')\n",
    "ax = sns.barplot(y=df_limited_scores.index, x=df_limited_scores['Accuracy'], data=df_limited_scores, saturation=1)"
   ]
  },
  {
   "cell_type": "markdown",
   "id": "24c777fb",
   "metadata": {},
   "source": [
    "## Random Forest Hyperparameter Tuning"
   ]
  },
  {
   "cell_type": "code",
   "execution_count": 201,
   "id": "de6ddfb0",
   "metadata": {},
   "outputs": [],
   "source": [
    "X2_train, X2_test, Y2_train, Y2_test = train_test_split(X2, Y2, test_size=0.15, random_state=1)"
   ]
  },
  {
   "cell_type": "code",
   "execution_count": 206,
   "id": "c2736b50",
   "metadata": {},
   "outputs": [
    {
     "data": {
      "text/html": [
       "<style>#sk-container-id-10 {color: black;background-color: white;}#sk-container-id-10 pre{padding: 0;}#sk-container-id-10 div.sk-toggleable {background-color: white;}#sk-container-id-10 label.sk-toggleable__label {cursor: pointer;display: block;width: 100%;margin-bottom: 0;padding: 0.3em;box-sizing: border-box;text-align: center;}#sk-container-id-10 label.sk-toggleable__label-arrow:before {content: \"▸\";float: left;margin-right: 0.25em;color: #696969;}#sk-container-id-10 label.sk-toggleable__label-arrow:hover:before {color: black;}#sk-container-id-10 div.sk-estimator:hover label.sk-toggleable__label-arrow:before {color: black;}#sk-container-id-10 div.sk-toggleable__content {max-height: 0;max-width: 0;overflow: hidden;text-align: left;background-color: #f0f8ff;}#sk-container-id-10 div.sk-toggleable__content pre {margin: 0.2em;color: black;border-radius: 0.25em;background-color: #f0f8ff;}#sk-container-id-10 input.sk-toggleable__control:checked~div.sk-toggleable__content {max-height: 200px;max-width: 100%;overflow: auto;}#sk-container-id-10 input.sk-toggleable__control:checked~label.sk-toggleable__label-arrow:before {content: \"▾\";}#sk-container-id-10 div.sk-estimator input.sk-toggleable__control:checked~label.sk-toggleable__label {background-color: #d4ebff;}#sk-container-id-10 div.sk-label input.sk-toggleable__control:checked~label.sk-toggleable__label {background-color: #d4ebff;}#sk-container-id-10 input.sk-hidden--visually {border: 0;clip: rect(1px 1px 1px 1px);clip: rect(1px, 1px, 1px, 1px);height: 1px;margin: -1px;overflow: hidden;padding: 0;position: absolute;width: 1px;}#sk-container-id-10 div.sk-estimator {font-family: monospace;background-color: #f0f8ff;border: 1px dotted black;border-radius: 0.25em;box-sizing: border-box;margin-bottom: 0.5em;}#sk-container-id-10 div.sk-estimator:hover {background-color: #d4ebff;}#sk-container-id-10 div.sk-parallel-item::after {content: \"\";width: 100%;border-bottom: 1px solid gray;flex-grow: 1;}#sk-container-id-10 div.sk-label:hover label.sk-toggleable__label {background-color: #d4ebff;}#sk-container-id-10 div.sk-serial::before {content: \"\";position: absolute;border-left: 1px solid gray;box-sizing: border-box;top: 0;bottom: 0;left: 50%;z-index: 0;}#sk-container-id-10 div.sk-serial {display: flex;flex-direction: column;align-items: center;background-color: white;padding-right: 0.2em;padding-left: 0.2em;position: relative;}#sk-container-id-10 div.sk-item {position: relative;z-index: 1;}#sk-container-id-10 div.sk-parallel {display: flex;align-items: stretch;justify-content: center;background-color: white;position: relative;}#sk-container-id-10 div.sk-item::before, #sk-container-id-10 div.sk-parallel-item::before {content: \"\";position: absolute;border-left: 1px solid gray;box-sizing: border-box;top: 0;bottom: 0;left: 50%;z-index: -1;}#sk-container-id-10 div.sk-parallel-item {display: flex;flex-direction: column;z-index: 1;position: relative;background-color: white;}#sk-container-id-10 div.sk-parallel-item:first-child::after {align-self: flex-end;width: 50%;}#sk-container-id-10 div.sk-parallel-item:last-child::after {align-self: flex-start;width: 50%;}#sk-container-id-10 div.sk-parallel-item:only-child::after {width: 0;}#sk-container-id-10 div.sk-dashed-wrapped {border: 1px dashed gray;margin: 0 0.4em 0.5em 0.4em;box-sizing: border-box;padding-bottom: 0.4em;background-color: white;}#sk-container-id-10 div.sk-label label {font-family: monospace;font-weight: bold;display: inline-block;line-height: 1.2em;}#sk-container-id-10 div.sk-label-container {text-align: center;}#sk-container-id-10 div.sk-container {/* jupyter's `normalize.less` sets `[hidden] { display: none; }` but bootstrap.min.css set `[hidden] { display: none !important; }` so we also need the `!important` here to be able to override the default hidden behavior on the sphinx rendered scikit-learn.org. See: https://github.com/scikit-learn/scikit-learn/issues/21755 */display: inline-block !important;position: relative;}#sk-container-id-10 div.sk-text-repr-fallback {display: none;}</style><div id=\"sk-container-id-10\" class=\"sk-top-container\"><div class=\"sk-text-repr-fallback\"><pre>GridSearchCV(cv=5, estimator=RandomForestClassifier(),\n",
       "             param_grid={&#x27;max_features&#x27;: array([ 1,  2,  3,  4,  5,  6,  7,  8,  9, 10]),\n",
       "                         &#x27;n_estimators&#x27;: array([ 10,  15,  20,  25,  30,  35,  40,  45,  50,  55,  60,  65,  70,\n",
       "        75,  80,  85,  90,  95, 100, 105, 110, 115, 120, 125, 130, 135,\n",
       "       140, 145, 150, 155])})</pre><b>In a Jupyter environment, please rerun this cell to show the HTML representation or trust the notebook. <br />On GitHub, the HTML representation is unable to render, please try loading this page with nbviewer.org.</b></div><div class=\"sk-container\" hidden><div class=\"sk-item sk-dashed-wrapped\"><div class=\"sk-label-container\"><div class=\"sk-label sk-toggleable\"><input class=\"sk-toggleable__control sk-hidden--visually\" id=\"sk-estimator-id-28\" type=\"checkbox\" ><label for=\"sk-estimator-id-28\" class=\"sk-toggleable__label sk-toggleable__label-arrow\">GridSearchCV</label><div class=\"sk-toggleable__content\"><pre>GridSearchCV(cv=5, estimator=RandomForestClassifier(),\n",
       "             param_grid={&#x27;max_features&#x27;: array([ 1,  2,  3,  4,  5,  6,  7,  8,  9, 10]),\n",
       "                         &#x27;n_estimators&#x27;: array([ 10,  15,  20,  25,  30,  35,  40,  45,  50,  55,  60,  65,  70,\n",
       "        75,  80,  85,  90,  95, 100, 105, 110, 115, 120, 125, 130, 135,\n",
       "       140, 145, 150, 155])})</pre></div></div></div><div class=\"sk-parallel\"><div class=\"sk-parallel-item\"><div class=\"sk-item\"><div class=\"sk-label-container\"><div class=\"sk-label sk-toggleable\"><input class=\"sk-toggleable__control sk-hidden--visually\" id=\"sk-estimator-id-29\" type=\"checkbox\" ><label for=\"sk-estimator-id-29\" class=\"sk-toggleable__label sk-toggleable__label-arrow\">estimator: RandomForestClassifier</label><div class=\"sk-toggleable__content\"><pre>RandomForestClassifier()</pre></div></div></div><div class=\"sk-serial\"><div class=\"sk-item\"><div class=\"sk-estimator sk-toggleable\"><input class=\"sk-toggleable__control sk-hidden--visually\" id=\"sk-estimator-id-30\" type=\"checkbox\" ><label for=\"sk-estimator-id-30\" class=\"sk-toggleable__label sk-toggleable__label-arrow\">RandomForestClassifier</label><div class=\"sk-toggleable__content\"><pre>RandomForestClassifier()</pre></div></div></div></div></div></div></div></div></div></div>"
      ],
      "text/plain": [
       "GridSearchCV(cv=5, estimator=RandomForestClassifier(),\n",
       "             param_grid={'max_features': array([ 1,  2,  3,  4,  5,  6,  7,  8,  9, 10]),\n",
       "                         'n_estimators': array([ 10,  15,  20,  25,  30,  35,  40,  45,  50,  55,  60,  65,  70,\n",
       "        75,  80,  85,  90,  95, 100, 105, 110, 115, 120, 125, 130, 135,\n",
       "       140, 145, 150, 155])})"
      ]
     },
     "execution_count": 206,
     "metadata": {},
     "output_type": "execute_result"
    }
   ],
   "source": [
    "model = RandomForestClassifier()\n",
    "max_features = np.arange(1, 11, 1)\n",
    "n_estimators = np.arange(10, 160, 5)\n",
    "param_grid = {'n_estimators':n_estimators, 'max_features': max_features}\n",
    "gs = GridSearchCV(estimator=model, param_grid=param_grid, cv=5)\n",
    "gs.fit(X2_train, Y2_train)"
   ]
  },
  {
   "cell_type": "markdown",
   "id": "3112d9de",
   "metadata": {},
   "source": [
    "## Random Forest Optimal Accuracy"
   ]
  },
  {
   "cell_type": "code",
   "execution_count": 208,
   "id": "80234b37",
   "metadata": {},
   "outputs": [
    {
     "name": "stdout",
     "output_type": "stream",
     "text": [
      "0.9483032646048111 {'max_features': 2, 'n_estimators': 50}\n"
     ]
    }
   ],
   "source": [
    "print(gs.best_score_, gs.best_params_)"
   ]
  },
  {
   "cell_type": "code",
   "execution_count": 209,
   "id": "80640197",
   "metadata": {},
   "outputs": [
    {
     "data": {
      "text/html": [
       "<div>\n",
       "<style scoped>\n",
       "    .dataframe tbody tr th:only-of-type {\n",
       "        vertical-align: middle;\n",
       "    }\n",
       "\n",
       "    .dataframe tbody tr th {\n",
       "        vertical-align: top;\n",
       "    }\n",
       "\n",
       "    .dataframe thead th {\n",
       "        text-align: right;\n",
       "    }\n",
       "</style>\n",
       "<table border=\"1\" class=\"dataframe\">\n",
       "  <thead>\n",
       "    <tr style=\"text-align: right;\">\n",
       "      <th></th>\n",
       "      <th>accuracy</th>\n",
       "      <th>max_features</th>\n",
       "      <th>n_estimators</th>\n",
       "    </tr>\n",
       "  </thead>\n",
       "  <tbody>\n",
       "    <tr>\n",
       "      <th>0</th>\n",
       "      <td>0.933763</td>\n",
       "      <td>1</td>\n",
       "      <td>10</td>\n",
       "    </tr>\n",
       "    <tr>\n",
       "      <th>1</th>\n",
       "      <td>0.940056</td>\n",
       "      <td>1</td>\n",
       "      <td>15</td>\n",
       "    </tr>\n",
       "    <tr>\n",
       "      <th>2</th>\n",
       "      <td>0.933784</td>\n",
       "      <td>1</td>\n",
       "      <td>20</td>\n",
       "    </tr>\n",
       "    <tr>\n",
       "      <th>3</th>\n",
       "      <td>0.940013</td>\n",
       "      <td>1</td>\n",
       "      <td>25</td>\n",
       "    </tr>\n",
       "    <tr>\n",
       "      <th>4</th>\n",
       "      <td>0.937973</td>\n",
       "      <td>1</td>\n",
       "      <td>30</td>\n",
       "    </tr>\n",
       "    <tr>\n",
       "      <th>...</th>\n",
       "      <td>...</td>\n",
       "      <td>...</td>\n",
       "      <td>...</td>\n",
       "    </tr>\n",
       "    <tr>\n",
       "      <th>295</th>\n",
       "      <td>0.940013</td>\n",
       "      <td>10</td>\n",
       "      <td>135</td>\n",
       "    </tr>\n",
       "    <tr>\n",
       "      <th>296</th>\n",
       "      <td>0.940013</td>\n",
       "      <td>10</td>\n",
       "      <td>140</td>\n",
       "    </tr>\n",
       "    <tr>\n",
       "      <th>297</th>\n",
       "      <td>0.942075</td>\n",
       "      <td>10</td>\n",
       "      <td>145</td>\n",
       "    </tr>\n",
       "    <tr>\n",
       "      <th>298</th>\n",
       "      <td>0.942075</td>\n",
       "      <td>10</td>\n",
       "      <td>150</td>\n",
       "    </tr>\n",
       "    <tr>\n",
       "      <th>299</th>\n",
       "      <td>0.940013</td>\n",
       "      <td>10</td>\n",
       "      <td>155</td>\n",
       "    </tr>\n",
       "  </tbody>\n",
       "</table>\n",
       "<p>300 rows × 3 columns</p>\n",
       "</div>"
      ],
      "text/plain": [
       "     accuracy  max_features  n_estimators\n",
       "0    0.933763             1            10\n",
       "1    0.940056             1            15\n",
       "2    0.933784             1            20\n",
       "3    0.940013             1            25\n",
       "4    0.937973             1            30\n",
       "..        ...           ...           ...\n",
       "295  0.940013            10           135\n",
       "296  0.940013            10           140\n",
       "297  0.942075            10           145\n",
       "298  0.942075            10           150\n",
       "299  0.940013            10           155\n",
       "\n",
       "[300 rows x 3 columns]"
      ]
     },
     "execution_count": 209,
     "metadata": {},
     "output_type": "execute_result"
    }
   ],
   "source": [
    "pd.set_option('display.max_rows', 50)\n",
    "grid_results = pd.concat([pd.DataFrame(gs.cv_results_['mean_test_score'], columns=['accuracy'])])\n",
    "grid_results[['max_features', 'n_estimators']] = pd.DataFrame(gs.cv_results_['params'])\n",
    "grid_results"
   ]
  },
  {
   "cell_type": "code",
   "execution_count": 210,
   "id": "83f33582",
   "metadata": {},
   "outputs": [
    {
     "data": {
      "text/html": [
       "<div>\n",
       "<style scoped>\n",
       "    .dataframe tbody tr th:only-of-type {\n",
       "        vertical-align: middle;\n",
       "    }\n",
       "\n",
       "    .dataframe tbody tr th {\n",
       "        vertical-align: top;\n",
       "    }\n",
       "\n",
       "    .dataframe thead th {\n",
       "        text-align: right;\n",
       "    }\n",
       "</style>\n",
       "<table border=\"1\" class=\"dataframe\">\n",
       "  <thead>\n",
       "    <tr style=\"text-align: right;\">\n",
       "      <th></th>\n",
       "      <th></th>\n",
       "      <th>accuracy</th>\n",
       "    </tr>\n",
       "    <tr>\n",
       "      <th>max_features</th>\n",
       "      <th>n_estimators</th>\n",
       "      <th></th>\n",
       "    </tr>\n",
       "  </thead>\n",
       "  <tbody>\n",
       "    <tr>\n",
       "      <th rowspan=\"5\" valign=\"top\">1</th>\n",
       "      <th>10</th>\n",
       "      <td>0.933763</td>\n",
       "    </tr>\n",
       "    <tr>\n",
       "      <th>15</th>\n",
       "      <td>0.940056</td>\n",
       "    </tr>\n",
       "    <tr>\n",
       "      <th>20</th>\n",
       "      <td>0.933784</td>\n",
       "    </tr>\n",
       "    <tr>\n",
       "      <th>25</th>\n",
       "      <td>0.940013</td>\n",
       "    </tr>\n",
       "    <tr>\n",
       "      <th>30</th>\n",
       "      <td>0.937973</td>\n",
       "    </tr>\n",
       "    <tr>\n",
       "      <th>...</th>\n",
       "      <th>...</th>\n",
       "      <td>...</td>\n",
       "    </tr>\n",
       "    <tr>\n",
       "      <th rowspan=\"5\" valign=\"top\">10</th>\n",
       "      <th>135</th>\n",
       "      <td>0.940013</td>\n",
       "    </tr>\n",
       "    <tr>\n",
       "      <th>140</th>\n",
       "      <td>0.940013</td>\n",
       "    </tr>\n",
       "    <tr>\n",
       "      <th>145</th>\n",
       "      <td>0.942075</td>\n",
       "    </tr>\n",
       "    <tr>\n",
       "      <th>150</th>\n",
       "      <td>0.942075</td>\n",
       "    </tr>\n",
       "    <tr>\n",
       "      <th>155</th>\n",
       "      <td>0.940013</td>\n",
       "    </tr>\n",
       "  </tbody>\n",
       "</table>\n",
       "<p>300 rows × 1 columns</p>\n",
       "</div>"
      ],
      "text/plain": [
       "                           accuracy\n",
       "max_features n_estimators          \n",
       "1            10            0.933763\n",
       "             15            0.940056\n",
       "             20            0.933784\n",
       "             25            0.940013\n",
       "             30            0.937973\n",
       "...                             ...\n",
       "10           135           0.940013\n",
       "             140           0.940013\n",
       "             145           0.942075\n",
       "             150           0.942075\n",
       "             155           0.940013\n",
       "\n",
       "[300 rows x 1 columns]"
      ]
     },
     "execution_count": 210,
     "metadata": {},
     "output_type": "execute_result"
    }
   ],
   "source": [
    "grid_contour = grid_results.groupby(['max_features', 'n_estimators']).mean()\n",
    "grid_contour"
   ]
  },
  {
   "cell_type": "code",
   "execution_count": 211,
   "id": "4ff06f23",
   "metadata": {},
   "outputs": [
    {
     "data": {
      "text/html": [
       "<div>\n",
       "<style scoped>\n",
       "    .dataframe tbody tr th:only-of-type {\n",
       "        vertical-align: middle;\n",
       "    }\n",
       "\n",
       "    .dataframe tbody tr th {\n",
       "        vertical-align: top;\n",
       "    }\n",
       "\n",
       "    .dataframe thead tr th {\n",
       "        text-align: left;\n",
       "    }\n",
       "\n",
       "    .dataframe thead tr:last-of-type th {\n",
       "        text-align: right;\n",
       "    }\n",
       "</style>\n",
       "<table border=\"1\" class=\"dataframe\">\n",
       "  <thead>\n",
       "    <tr>\n",
       "      <th></th>\n",
       "      <th colspan=\"21\" halign=\"left\">Accuracy</th>\n",
       "    </tr>\n",
       "    <tr>\n",
       "      <th>n_estimators</th>\n",
       "      <th>10</th>\n",
       "      <th>15</th>\n",
       "      <th>20</th>\n",
       "      <th>25</th>\n",
       "      <th>30</th>\n",
       "      <th>35</th>\n",
       "      <th>40</th>\n",
       "      <th>45</th>\n",
       "      <th>50</th>\n",
       "      <th>55</th>\n",
       "      <th>...</th>\n",
       "      <th>110</th>\n",
       "      <th>115</th>\n",
       "      <th>120</th>\n",
       "      <th>125</th>\n",
       "      <th>130</th>\n",
       "      <th>135</th>\n",
       "      <th>140</th>\n",
       "      <th>145</th>\n",
       "      <th>150</th>\n",
       "      <th>155</th>\n",
       "    </tr>\n",
       "    <tr>\n",
       "      <th>max_features</th>\n",
       "      <th></th>\n",
       "      <th></th>\n",
       "      <th></th>\n",
       "      <th></th>\n",
       "      <th></th>\n",
       "      <th></th>\n",
       "      <th></th>\n",
       "      <th></th>\n",
       "      <th></th>\n",
       "      <th></th>\n",
       "      <th></th>\n",
       "      <th></th>\n",
       "      <th></th>\n",
       "      <th></th>\n",
       "      <th></th>\n",
       "      <th></th>\n",
       "      <th></th>\n",
       "      <th></th>\n",
       "      <th></th>\n",
       "      <th></th>\n",
       "      <th></th>\n",
       "    </tr>\n",
       "  </thead>\n",
       "  <tbody>\n",
       "    <tr>\n",
       "      <th>1</th>\n",
       "      <td>0.933763</td>\n",
       "      <td>0.940056</td>\n",
       "      <td>0.933784</td>\n",
       "      <td>0.940013</td>\n",
       "      <td>0.937973</td>\n",
       "      <td>0.942075</td>\n",
       "      <td>0.944158</td>\n",
       "      <td>0.944180</td>\n",
       "      <td>0.942096</td>\n",
       "      <td>0.937951</td>\n",
       "      <td>...</td>\n",
       "      <td>0.940034</td>\n",
       "      <td>0.940034</td>\n",
       "      <td>0.946220</td>\n",
       "      <td>0.944180</td>\n",
       "      <td>0.944158</td>\n",
       "      <td>0.946241</td>\n",
       "      <td>0.942096</td>\n",
       "      <td>0.942096</td>\n",
       "      <td>0.944137</td>\n",
       "      <td>0.942096</td>\n",
       "    </tr>\n",
       "    <tr>\n",
       "      <th>2</th>\n",
       "      <td>0.937951</td>\n",
       "      <td>0.937973</td>\n",
       "      <td>0.933827</td>\n",
       "      <td>0.940013</td>\n",
       "      <td>0.935868</td>\n",
       "      <td>0.937930</td>\n",
       "      <td>0.944180</td>\n",
       "      <td>0.942118</td>\n",
       "      <td>0.948303</td>\n",
       "      <td>0.946241</td>\n",
       "      <td>...</td>\n",
       "      <td>0.940034</td>\n",
       "      <td>0.942096</td>\n",
       "      <td>0.944158</td>\n",
       "      <td>0.948303</td>\n",
       "      <td>0.946220</td>\n",
       "      <td>0.944158</td>\n",
       "      <td>0.946220</td>\n",
       "      <td>0.942096</td>\n",
       "      <td>0.944158</td>\n",
       "      <td>0.944158</td>\n",
       "    </tr>\n",
       "    <tr>\n",
       "      <th>3</th>\n",
       "      <td>0.937930</td>\n",
       "      <td>0.933806</td>\n",
       "      <td>0.929639</td>\n",
       "      <td>0.935868</td>\n",
       "      <td>0.929639</td>\n",
       "      <td>0.942053</td>\n",
       "      <td>0.937930</td>\n",
       "      <td>0.944158</td>\n",
       "      <td>0.942096</td>\n",
       "      <td>0.940034</td>\n",
       "      <td>...</td>\n",
       "      <td>0.942096</td>\n",
       "      <td>0.946220</td>\n",
       "      <td>0.942075</td>\n",
       "      <td>0.946220</td>\n",
       "      <td>0.946220</td>\n",
       "      <td>0.942075</td>\n",
       "      <td>0.944158</td>\n",
       "      <td>0.942075</td>\n",
       "      <td>0.944158</td>\n",
       "      <td>0.944158</td>\n",
       "    </tr>\n",
       "    <tr>\n",
       "      <th>4</th>\n",
       "      <td>0.940013</td>\n",
       "      <td>0.935846</td>\n",
       "      <td>0.937951</td>\n",
       "      <td>0.939991</td>\n",
       "      <td>0.935868</td>\n",
       "      <td>0.935846</td>\n",
       "      <td>0.942096</td>\n",
       "      <td>0.935846</td>\n",
       "      <td>0.937908</td>\n",
       "      <td>0.944158</td>\n",
       "      <td>...</td>\n",
       "      <td>0.944137</td>\n",
       "      <td>0.940013</td>\n",
       "      <td>0.942053</td>\n",
       "      <td>0.942053</td>\n",
       "      <td>0.942075</td>\n",
       "      <td>0.942075</td>\n",
       "      <td>0.944158</td>\n",
       "      <td>0.944137</td>\n",
       "      <td>0.942075</td>\n",
       "      <td>0.944137</td>\n",
       "    </tr>\n",
       "    <tr>\n",
       "      <th>5</th>\n",
       "      <td>0.929661</td>\n",
       "      <td>0.937951</td>\n",
       "      <td>0.942075</td>\n",
       "      <td>0.944180</td>\n",
       "      <td>0.935868</td>\n",
       "      <td>0.940013</td>\n",
       "      <td>0.942096</td>\n",
       "      <td>0.933806</td>\n",
       "      <td>0.942096</td>\n",
       "      <td>0.942096</td>\n",
       "      <td>...</td>\n",
       "      <td>0.939991</td>\n",
       "      <td>0.942075</td>\n",
       "      <td>0.942075</td>\n",
       "      <td>0.942075</td>\n",
       "      <td>0.939991</td>\n",
       "      <td>0.942075</td>\n",
       "      <td>0.944158</td>\n",
       "      <td>0.942075</td>\n",
       "      <td>0.939991</td>\n",
       "      <td>0.940013</td>\n",
       "    </tr>\n",
       "  </tbody>\n",
       "</table>\n",
       "<p>5 rows × 30 columns</p>\n",
       "</div>"
      ],
      "text/plain": [
       "              Accuracy                                                    \\\n",
       "n_estimators       10        15        20        25        30        35    \n",
       "max_features                                                               \n",
       "1             0.933763  0.940056  0.933784  0.940013  0.937973  0.942075   \n",
       "2             0.937951  0.937973  0.933827  0.940013  0.935868  0.937930   \n",
       "3             0.937930  0.933806  0.929639  0.935868  0.929639  0.942053   \n",
       "4             0.940013  0.935846  0.937951  0.939991  0.935868  0.935846   \n",
       "5             0.929661  0.937951  0.942075  0.944180  0.935868  0.940013   \n",
       "\n",
       "                                                      ...                      \\\n",
       "n_estimators       40        45        50        55   ...       110       115   \n",
       "max_features                                          ...                       \n",
       "1             0.944158  0.944180  0.942096  0.937951  ...  0.940034  0.940034   \n",
       "2             0.944180  0.942118  0.948303  0.946241  ...  0.940034  0.942096   \n",
       "3             0.937930  0.944158  0.942096  0.940034  ...  0.942096  0.946220   \n",
       "4             0.942096  0.935846  0.937908  0.944158  ...  0.944137  0.940013   \n",
       "5             0.942096  0.933806  0.942096  0.942096  ...  0.939991  0.942075   \n",
       "\n",
       "                                                                          \\\n",
       "n_estimators       120       125       130       135       140       145   \n",
       "max_features                                                               \n",
       "1             0.946220  0.944180  0.944158  0.946241  0.942096  0.942096   \n",
       "2             0.944158  0.948303  0.946220  0.944158  0.946220  0.942096   \n",
       "3             0.942075  0.946220  0.946220  0.942075  0.944158  0.942075   \n",
       "4             0.942053  0.942053  0.942075  0.942075  0.944158  0.944137   \n",
       "5             0.942075  0.942075  0.939991  0.942075  0.944158  0.942075   \n",
       "\n",
       "                                  \n",
       "n_estimators       150       155  \n",
       "max_features                      \n",
       "1             0.944137  0.942096  \n",
       "2             0.944158  0.944158  \n",
       "3             0.944158  0.944158  \n",
       "4             0.942075  0.944137  \n",
       "5             0.939991  0.940013  \n",
       "\n",
       "[5 rows x 30 columns]"
      ]
     },
     "execution_count": 211,
     "metadata": {},
     "output_type": "execute_result"
    }
   ],
   "source": [
    "grid_reset = grid_contour.reset_index()\n",
    "grid_reset.columns = ['max_features', 'n_estimators', 'Accuracy']\n",
    "grid_pivot = grid_reset.pivot('max_features', 'n_estimators')\n",
    "grid_pivot.head()"
   ]
  },
  {
   "cell_type": "code",
   "execution_count": 220,
   "id": "76d26398",
   "metadata": {},
   "outputs": [],
   "source": [
    "x = grid_pivot.columns.levels[1].values\n",
    "y = grid_pivot.index.values\n",
    "z = grid_pivot.values"
   ]
  },
  {
   "cell_type": "code",
   "execution_count": 221,
   "id": "333e77b3",
   "metadata": {},
   "outputs": [
    {
     "data": {
      "application/vnd.plotly.v1+json": {
       "config": {
        "plotlyServerURL": "https://plot.ly"
       },
       "data": [
        {
         "type": "contour",
         "x": [
          10,
          15,
          20,
          25,
          30,
          35,
          40,
          45,
          50,
          55,
          60,
          65,
          70,
          75,
          80,
          85,
          90,
          95,
          100,
          105,
          110,
          115,
          120,
          125,
          130,
          135,
          140,
          145,
          150,
          155
         ],
         "y": [
          1,
          2,
          3,
          4,
          5,
          6,
          7,
          8,
          9,
          10
         ],
         "z": [
          [
           0.9337628865979382,
           0.9400558419243985,
           0.9337843642611684,
           0.9400128865979381,
           0.9379725085910653,
           0.9420747422680412,
           0.9441580756013745,
           0.9441795532646047,
           0.9420962199312715,
           0.937951030927835,
           0.9462414089347078,
           0.9400128865979381,
           0.9420962199312715,
           0.9441580756013745,
           0.9462414089347078,
           0.9420962199312715,
           0.9400558419243985,
           0.9483032646048108,
           0.9462414089347078,
           0.9441580756013745,
           0.9400343642611684,
           0.9400343642611684,
           0.9462199312714776,
           0.9441795532646047,
           0.9441580756013745,
           0.9462414089347078,
           0.9420962199312715,
           0.9420962199312715,
           0.9441365979381443,
           0.9420962199312715
          ],
          [
           0.937951030927835,
           0.9379725085910653,
           0.9338273195876289,
           0.9400128865979381,
           0.9358676975945016,
           0.9379295532646047,
           0.9441795532646047,
           0.9421176975945016,
           0.9483032646048111,
           0.9462414089347078,
           0.9441580756013745,
           0.9400128865979381,
           0.9420747422680412,
           0.9379725085910653,
           0.9441580756013745,
           0.9400343642611684,
           0.9462414089347078,
           0.9420747422680412,
           0.9420962199312715,
           0.9483032646048111,
           0.9400343642611684,
           0.9420962199312715,
           0.9441580756013745,
           0.9483032646048111,
           0.9462199312714776,
           0.9441580756013745,
           0.9462199312714776,
           0.9420962199312715,
           0.9441580756013745,
           0.9441580756013745
          ],
          [
           0.9379295532646047,
           0.9338058419243985,
           0.929639175257732,
           0.9358676975945016,
           0.929639175257732,
           0.9420532646048111,
           0.9379295532646049,
           0.9441580756013745,
           0.9420962199312715,
           0.9400343642611684,
           0.9400128865979381,
           0.9420962199312715,
           0.9420962199312715,
           0.9420532646048111,
           0.9441580756013745,
           0.9441580756013745,
           0.9441580756013745,
           0.9420962199312715,
           0.9399699312714777,
           0.9441580756013745,
           0.9420962199312715,
           0.9462199312714776,
           0.9420747422680413,
           0.9462199312714776,
           0.9462199312714776,
           0.9420747422680413,
           0.9441580756013745,
           0.9420747422680413,
           0.9441580756013745,
           0.9441580756013745
          ],
          [
           0.9400128865979382,
           0.9358462199312715,
           0.937951030927835,
           0.939991408934708,
           0.9358676975945016,
           0.9358462199312715,
           0.9420962199312715,
           0.9358462199312715,
           0.9379080756013746,
           0.9441580756013745,
           0.9420747422680413,
           0.9379295532646047,
           0.9379295532646049,
           0.9441365979381444,
           0.9482817869415807,
           0.9400128865979381,
           0.9420962199312715,
           0.9462199312714776,
           0.9420747422680413,
           0.9441365979381444,
           0.9441365979381443,
           0.9400128865979382,
           0.9420532646048111,
           0.9420532646048111,
           0.9420747422680413,
           0.9420747422680413,
           0.9441580756013745,
           0.9441365979381443,
           0.9420747422680413,
           0.9441365979381444
          ],
          [
           0.9296606529209622,
           0.937951030927835,
           0.9420747422680412,
           0.9441795532646049,
           0.9358676975945016,
           0.9400128865979382,
           0.9420962199312715,
           0.9338058419243985,
           0.9420962199312715,
           0.9420962199312715,
           0.939991408934708,
           0.9379295532646049,
           0.939991408934708,
           0.9400128865979381,
           0.9441795532646047,
           0.9399699312714777,
           0.9420747422680413,
           0.9420532646048111,
           0.9420747422680413,
           0.9358676975945016,
           0.939991408934708,
           0.9420747422680413,
           0.9420747422680413,
           0.9420747422680413,
           0.939991408934708,
           0.9420747422680413,
           0.9441580756013745,
           0.9420747422680413,
           0.939991408934708,
           0.9400128865979381
          ],
          [
           0.9400343642611684,
           0.929725085910653,
           0.9441365979381443,
           0.937951030927835,
           0.9379510309278352,
           0.9379295532646047,
           0.9441580756013745,
           0.9358676975945016,
           0.9358676975945016,
           0.9400128865979381,
           0.9420747422680413,
           0.939991408934708,
           0.9441365979381444,
           0.939991408934708,
           0.9400128865979381,
           0.9420962199312715,
           0.9420532646048111,
           0.9400128865979381,
           0.939991408934708,
           0.9379295532646047,
           0.9400128865979382,
           0.9400128865979382,
           0.9441365979381444,
           0.9420747422680413,
           0.9420747422680413,
           0.939991408934708,
           0.9400128865979382,
           0.939991408934708,
           0.9420747422680413,
           0.9441365979381444
          ],
          [
           0.939991408934708,
           0.9358676975945016,
           0.9420747422680413,
           0.946241408934708,
           0.9379295532646047,
           0.939991408934708,
           0.939991408934708,
           0.9358462199312715,
           0.9358676975945016,
           0.9420962199312715,
           0.9400343642611684,
           0.9400128865979381,
           0.939991408934708,
           0.9420532646048111,
           0.9420747422680413,
           0.9379295532646049,
           0.9420962199312715,
           0.9441365979381444,
           0.9420532646048111,
           0.9420747422680413,
           0.9420532646048111,
           0.9420532646048111,
           0.9420747422680413,
           0.9420747422680413,
           0.9400128865979381,
           0.9462199312714776,
           0.9420747422680413,
           0.9441365979381444,
           0.9441365979381444,
           0.9441365979381444
          ],
          [
           0.9317010309278351,
           0.9337628865979383,
           0.9420747422680413,
           0.9399914089347078,
           0.9400128865979382,
           0.9420747422680413,
           0.9379295532646049,
           0.9420532646048111,
           0.9358247422680412,
           0.9400343642611684,
           0.9462199312714776,
           0.939991408934708,
           0.9420747422680413,
           0.9420747422680412,
           0.9441580756013745,
           0.939991408934708,
           0.9441580756013745,
           0.939991408934708,
           0.939991408934708,
           0.9379295532646047,
           0.9400128865979382,
           0.939991408934708,
           0.9441580756013745,
           0.9400128865979382,
           0.9400128865979381,
           0.9420747422680412,
           0.9420962199312715,
           0.9441580756013745,
           0.9400128865979382,
           0.9441365979381444
          ],
          [
           0.9400128865979381,
           0.9317010309278351,
           0.9358676975945016,
           0.9421176975945018,
           0.9379295532646047,
           0.9337843642611684,
           0.939991408934708,
           0.9420532646048111,
           0.9441365979381444,
           0.9420747422680413,
           0.9420532646048111,
           0.9400128865979381,
           0.9400128865979382,
           0.9400343642611684,
           0.935889175257732,
           0.937951030927835,
           0.939991408934708,
           0.9400128865979382,
           0.9399699312714777,
           0.9462199312714776,
           0.9400128865979382,
           0.939991408934708,
           0.9400128865979382,
           0.9420747422680413,
           0.9420747422680413,
           0.939991408934708,
           0.9420532646048111,
           0.9400343642611684,
           0.9420747422680413,
           0.9441365979381444
          ],
          [
           0.9296606529209622,
           0.939991408934708,
           0.9379295532646049,
           0.9462414089347078,
           0.9358676975945016,
           0.9441365979381443,
           0.9400128865979382,
           0.9379295532646047,
           0.9420747422680412,
           0.9358676975945016,
           0.9358676975945016,
           0.937951030927835,
           0.937951030927835,
           0.9400128865979381,
           0.939991408934708,
           0.9400128865979382,
           0.9400128865979382,
           0.9420962199312715,
           0.937951030927835,
           0.9420747422680412,
           0.9400128865979382,
           0.9420747422680413,
           0.9400128865979382,
           0.9420747422680413,
           0.9400128865979381,
           0.9400128865979382,
           0.9400128865979381,
           0.9420747422680413,
           0.9420747422680413,
           0.9400128865979382
          ]
         ]
        }
       ],
       "layout": {
        "autosize": false,
        "height": 500,
        "margin": {
         "b": 65,
         "l": 65,
         "r": 50,
         "t": 90
        },
        "template": {
         "data": {
          "bar": [
           {
            "error_x": {
             "color": "#2a3f5f"
            },
            "error_y": {
             "color": "#2a3f5f"
            },
            "marker": {
             "line": {
              "color": "#E5ECF6",
              "width": 0.5
             },
             "pattern": {
              "fillmode": "overlay",
              "size": 10,
              "solidity": 0.2
             }
            },
            "type": "bar"
           }
          ],
          "barpolar": [
           {
            "marker": {
             "line": {
              "color": "#E5ECF6",
              "width": 0.5
             },
             "pattern": {
              "fillmode": "overlay",
              "size": 10,
              "solidity": 0.2
             }
            },
            "type": "barpolar"
           }
          ],
          "carpet": [
           {
            "aaxis": {
             "endlinecolor": "#2a3f5f",
             "gridcolor": "white",
             "linecolor": "white",
             "minorgridcolor": "white",
             "startlinecolor": "#2a3f5f"
            },
            "baxis": {
             "endlinecolor": "#2a3f5f",
             "gridcolor": "white",
             "linecolor": "white",
             "minorgridcolor": "white",
             "startlinecolor": "#2a3f5f"
            },
            "type": "carpet"
           }
          ],
          "choropleth": [
           {
            "colorbar": {
             "outlinewidth": 0,
             "ticks": ""
            },
            "type": "choropleth"
           }
          ],
          "contour": [
           {
            "colorbar": {
             "outlinewidth": 0,
             "ticks": ""
            },
            "colorscale": [
             [
              0,
              "#0d0887"
             ],
             [
              0.1111111111111111,
              "#46039f"
             ],
             [
              0.2222222222222222,
              "#7201a8"
             ],
             [
              0.3333333333333333,
              "#9c179e"
             ],
             [
              0.4444444444444444,
              "#bd3786"
             ],
             [
              0.5555555555555556,
              "#d8576b"
             ],
             [
              0.6666666666666666,
              "#ed7953"
             ],
             [
              0.7777777777777778,
              "#fb9f3a"
             ],
             [
              0.8888888888888888,
              "#fdca26"
             ],
             [
              1,
              "#f0f921"
             ]
            ],
            "type": "contour"
           }
          ],
          "contourcarpet": [
           {
            "colorbar": {
             "outlinewidth": 0,
             "ticks": ""
            },
            "type": "contourcarpet"
           }
          ],
          "heatmap": [
           {
            "colorbar": {
             "outlinewidth": 0,
             "ticks": ""
            },
            "colorscale": [
             [
              0,
              "#0d0887"
             ],
             [
              0.1111111111111111,
              "#46039f"
             ],
             [
              0.2222222222222222,
              "#7201a8"
             ],
             [
              0.3333333333333333,
              "#9c179e"
             ],
             [
              0.4444444444444444,
              "#bd3786"
             ],
             [
              0.5555555555555556,
              "#d8576b"
             ],
             [
              0.6666666666666666,
              "#ed7953"
             ],
             [
              0.7777777777777778,
              "#fb9f3a"
             ],
             [
              0.8888888888888888,
              "#fdca26"
             ],
             [
              1,
              "#f0f921"
             ]
            ],
            "type": "heatmap"
           }
          ],
          "heatmapgl": [
           {
            "colorbar": {
             "outlinewidth": 0,
             "ticks": ""
            },
            "colorscale": [
             [
              0,
              "#0d0887"
             ],
             [
              0.1111111111111111,
              "#46039f"
             ],
             [
              0.2222222222222222,
              "#7201a8"
             ],
             [
              0.3333333333333333,
              "#9c179e"
             ],
             [
              0.4444444444444444,
              "#bd3786"
             ],
             [
              0.5555555555555556,
              "#d8576b"
             ],
             [
              0.6666666666666666,
              "#ed7953"
             ],
             [
              0.7777777777777778,
              "#fb9f3a"
             ],
             [
              0.8888888888888888,
              "#fdca26"
             ],
             [
              1,
              "#f0f921"
             ]
            ],
            "type": "heatmapgl"
           }
          ],
          "histogram": [
           {
            "marker": {
             "pattern": {
              "fillmode": "overlay",
              "size": 10,
              "solidity": 0.2
             }
            },
            "type": "histogram"
           }
          ],
          "histogram2d": [
           {
            "colorbar": {
             "outlinewidth": 0,
             "ticks": ""
            },
            "colorscale": [
             [
              0,
              "#0d0887"
             ],
             [
              0.1111111111111111,
              "#46039f"
             ],
             [
              0.2222222222222222,
              "#7201a8"
             ],
             [
              0.3333333333333333,
              "#9c179e"
             ],
             [
              0.4444444444444444,
              "#bd3786"
             ],
             [
              0.5555555555555556,
              "#d8576b"
             ],
             [
              0.6666666666666666,
              "#ed7953"
             ],
             [
              0.7777777777777778,
              "#fb9f3a"
             ],
             [
              0.8888888888888888,
              "#fdca26"
             ],
             [
              1,
              "#f0f921"
             ]
            ],
            "type": "histogram2d"
           }
          ],
          "histogram2dcontour": [
           {
            "colorbar": {
             "outlinewidth": 0,
             "ticks": ""
            },
            "colorscale": [
             [
              0,
              "#0d0887"
             ],
             [
              0.1111111111111111,
              "#46039f"
             ],
             [
              0.2222222222222222,
              "#7201a8"
             ],
             [
              0.3333333333333333,
              "#9c179e"
             ],
             [
              0.4444444444444444,
              "#bd3786"
             ],
             [
              0.5555555555555556,
              "#d8576b"
             ],
             [
              0.6666666666666666,
              "#ed7953"
             ],
             [
              0.7777777777777778,
              "#fb9f3a"
             ],
             [
              0.8888888888888888,
              "#fdca26"
             ],
             [
              1,
              "#f0f921"
             ]
            ],
            "type": "histogram2dcontour"
           }
          ],
          "mesh3d": [
           {
            "colorbar": {
             "outlinewidth": 0,
             "ticks": ""
            },
            "type": "mesh3d"
           }
          ],
          "parcoords": [
           {
            "line": {
             "colorbar": {
              "outlinewidth": 0,
              "ticks": ""
             }
            },
            "type": "parcoords"
           }
          ],
          "pie": [
           {
            "automargin": true,
            "type": "pie"
           }
          ],
          "scatter": [
           {
            "fillpattern": {
             "fillmode": "overlay",
             "size": 10,
             "solidity": 0.2
            },
            "type": "scatter"
           }
          ],
          "scatter3d": [
           {
            "line": {
             "colorbar": {
              "outlinewidth": 0,
              "ticks": ""
             }
            },
            "marker": {
             "colorbar": {
              "outlinewidth": 0,
              "ticks": ""
             }
            },
            "type": "scatter3d"
           }
          ],
          "scattercarpet": [
           {
            "marker": {
             "colorbar": {
              "outlinewidth": 0,
              "ticks": ""
             }
            },
            "type": "scattercarpet"
           }
          ],
          "scattergeo": [
           {
            "marker": {
             "colorbar": {
              "outlinewidth": 0,
              "ticks": ""
             }
            },
            "type": "scattergeo"
           }
          ],
          "scattergl": [
           {
            "marker": {
             "colorbar": {
              "outlinewidth": 0,
              "ticks": ""
             }
            },
            "type": "scattergl"
           }
          ],
          "scattermapbox": [
           {
            "marker": {
             "colorbar": {
              "outlinewidth": 0,
              "ticks": ""
             }
            },
            "type": "scattermapbox"
           }
          ],
          "scatterpolar": [
           {
            "marker": {
             "colorbar": {
              "outlinewidth": 0,
              "ticks": ""
             }
            },
            "type": "scatterpolar"
           }
          ],
          "scatterpolargl": [
           {
            "marker": {
             "colorbar": {
              "outlinewidth": 0,
              "ticks": ""
             }
            },
            "type": "scatterpolargl"
           }
          ],
          "scatterternary": [
           {
            "marker": {
             "colorbar": {
              "outlinewidth": 0,
              "ticks": ""
             }
            },
            "type": "scatterternary"
           }
          ],
          "surface": [
           {
            "colorbar": {
             "outlinewidth": 0,
             "ticks": ""
            },
            "colorscale": [
             [
              0,
              "#0d0887"
             ],
             [
              0.1111111111111111,
              "#46039f"
             ],
             [
              0.2222222222222222,
              "#7201a8"
             ],
             [
              0.3333333333333333,
              "#9c179e"
             ],
             [
              0.4444444444444444,
              "#bd3786"
             ],
             [
              0.5555555555555556,
              "#d8576b"
             ],
             [
              0.6666666666666666,
              "#ed7953"
             ],
             [
              0.7777777777777778,
              "#fb9f3a"
             ],
             [
              0.8888888888888888,
              "#fdca26"
             ],
             [
              1,
              "#f0f921"
             ]
            ],
            "type": "surface"
           }
          ],
          "table": [
           {
            "cells": {
             "fill": {
              "color": "#EBF0F8"
             },
             "line": {
              "color": "white"
             }
            },
            "header": {
             "fill": {
              "color": "#C8D4E3"
             },
             "line": {
              "color": "white"
             }
            },
            "type": "table"
           }
          ]
         },
         "layout": {
          "annotationdefaults": {
           "arrowcolor": "#2a3f5f",
           "arrowhead": 0,
           "arrowwidth": 1
          },
          "autotypenumbers": "strict",
          "coloraxis": {
           "colorbar": {
            "outlinewidth": 0,
            "ticks": ""
           }
          },
          "colorscale": {
           "diverging": [
            [
             0,
             "#8e0152"
            ],
            [
             0.1,
             "#c51b7d"
            ],
            [
             0.2,
             "#de77ae"
            ],
            [
             0.3,
             "#f1b6da"
            ],
            [
             0.4,
             "#fde0ef"
            ],
            [
             0.5,
             "#f7f7f7"
            ],
            [
             0.6,
             "#e6f5d0"
            ],
            [
             0.7,
             "#b8e186"
            ],
            [
             0.8,
             "#7fbc41"
            ],
            [
             0.9,
             "#4d9221"
            ],
            [
             1,
             "#276419"
            ]
           ],
           "sequential": [
            [
             0,
             "#0d0887"
            ],
            [
             0.1111111111111111,
             "#46039f"
            ],
            [
             0.2222222222222222,
             "#7201a8"
            ],
            [
             0.3333333333333333,
             "#9c179e"
            ],
            [
             0.4444444444444444,
             "#bd3786"
            ],
            [
             0.5555555555555556,
             "#d8576b"
            ],
            [
             0.6666666666666666,
             "#ed7953"
            ],
            [
             0.7777777777777778,
             "#fb9f3a"
            ],
            [
             0.8888888888888888,
             "#fdca26"
            ],
            [
             1,
             "#f0f921"
            ]
           ],
           "sequentialminus": [
            [
             0,
             "#0d0887"
            ],
            [
             0.1111111111111111,
             "#46039f"
            ],
            [
             0.2222222222222222,
             "#7201a8"
            ],
            [
             0.3333333333333333,
             "#9c179e"
            ],
            [
             0.4444444444444444,
             "#bd3786"
            ],
            [
             0.5555555555555556,
             "#d8576b"
            ],
            [
             0.6666666666666666,
             "#ed7953"
            ],
            [
             0.7777777777777778,
             "#fb9f3a"
            ],
            [
             0.8888888888888888,
             "#fdca26"
            ],
            [
             1,
             "#f0f921"
            ]
           ]
          },
          "colorway": [
           "#636efa",
           "#EF553B",
           "#00cc96",
           "#ab63fa",
           "#FFA15A",
           "#19d3f3",
           "#FF6692",
           "#B6E880",
           "#FF97FF",
           "#FECB52"
          ],
          "font": {
           "color": "#2a3f5f"
          },
          "geo": {
           "bgcolor": "white",
           "lakecolor": "white",
           "landcolor": "#E5ECF6",
           "showlakes": true,
           "showland": true,
           "subunitcolor": "white"
          },
          "hoverlabel": {
           "align": "left"
          },
          "hovermode": "closest",
          "mapbox": {
           "style": "light"
          },
          "paper_bgcolor": "white",
          "plot_bgcolor": "#E5ECF6",
          "polar": {
           "angularaxis": {
            "gridcolor": "white",
            "linecolor": "white",
            "ticks": ""
           },
           "bgcolor": "#E5ECF6",
           "radialaxis": {
            "gridcolor": "white",
            "linecolor": "white",
            "ticks": ""
           }
          },
          "scene": {
           "xaxis": {
            "backgroundcolor": "#E5ECF6",
            "gridcolor": "white",
            "gridwidth": 2,
            "linecolor": "white",
            "showbackground": true,
            "ticks": "",
            "zerolinecolor": "white"
           },
           "yaxis": {
            "backgroundcolor": "#E5ECF6",
            "gridcolor": "white",
            "gridwidth": 2,
            "linecolor": "white",
            "showbackground": true,
            "ticks": "",
            "zerolinecolor": "white"
           },
           "zaxis": {
            "backgroundcolor": "#E5ECF6",
            "gridcolor": "white",
            "gridwidth": 2,
            "linecolor": "white",
            "showbackground": true,
            "ticks": "",
            "zerolinecolor": "white"
           }
          },
          "shapedefaults": {
           "line": {
            "color": "#2a3f5f"
           }
          },
          "ternary": {
           "aaxis": {
            "gridcolor": "white",
            "linecolor": "white",
            "ticks": ""
           },
           "baxis": {
            "gridcolor": "white",
            "linecolor": "white",
            "ticks": ""
           },
           "bgcolor": "#E5ECF6",
           "caxis": {
            "gridcolor": "white",
            "linecolor": "white",
            "ticks": ""
           }
          },
          "title": {
           "x": 0.05
          },
          "xaxis": {
           "automargin": true,
           "gridcolor": "white",
           "linecolor": "white",
           "ticks": "",
           "title": {
            "standoff": 15
           },
           "zerolinecolor": "white",
           "zerolinewidth": 2
          },
          "yaxis": {
           "automargin": true,
           "gridcolor": "white",
           "linecolor": "white",
           "ticks": "",
           "title": {
            "standoff": 15
           },
           "zerolinecolor": "white",
           "zerolinewidth": 2
          }
         }
        },
        "title": {
         "text": "Random Forest Hyperparameter Tuning"
        },
        "width": 500,
        "xaxis": {
         "title": {
          "text": "max features"
         }
        },
        "yaxis": {
         "title": {
          "text": "n estimators"
         }
        }
       }
      },
      "text/html": [
       "<div>                            <div id=\"7cd314f8-4a30-44df-8008-cc0f11650e9d\" class=\"plotly-graph-div\" style=\"height:500px; width:500px;\"></div>            <script type=\"text/javascript\">                require([\"plotly\"], function(Plotly) {                    window.PLOTLYENV=window.PLOTLYENV || {};                                    if (document.getElementById(\"7cd314f8-4a30-44df-8008-cc0f11650e9d\")) {                    Plotly.newPlot(                        \"7cd314f8-4a30-44df-8008-cc0f11650e9d\",                        [{\"x\":[10,15,20,25,30,35,40,45,50,55,60,65,70,75,80,85,90,95,100,105,110,115,120,125,130,135,140,145,150,155],\"y\":[1,2,3,4,5,6,7,8,9,10],\"z\":[[0.9337628865979382,0.9400558419243985,0.9337843642611684,0.9400128865979381,0.9379725085910653,0.9420747422680412,0.9441580756013745,0.9441795532646047,0.9420962199312715,0.937951030927835,0.9462414089347078,0.9400128865979381,0.9420962199312715,0.9441580756013745,0.9462414089347078,0.9420962199312715,0.9400558419243985,0.9483032646048108,0.9462414089347078,0.9441580756013745,0.9400343642611684,0.9400343642611684,0.9462199312714776,0.9441795532646047,0.9441580756013745,0.9462414089347078,0.9420962199312715,0.9420962199312715,0.9441365979381443,0.9420962199312715],[0.937951030927835,0.9379725085910653,0.9338273195876289,0.9400128865979381,0.9358676975945016,0.9379295532646047,0.9441795532646047,0.9421176975945016,0.9483032646048111,0.9462414089347078,0.9441580756013745,0.9400128865979381,0.9420747422680412,0.9379725085910653,0.9441580756013745,0.9400343642611684,0.9462414089347078,0.9420747422680412,0.9420962199312715,0.9483032646048111,0.9400343642611684,0.9420962199312715,0.9441580756013745,0.9483032646048111,0.9462199312714776,0.9441580756013745,0.9462199312714776,0.9420962199312715,0.9441580756013745,0.9441580756013745],[0.9379295532646047,0.9338058419243985,0.929639175257732,0.9358676975945016,0.929639175257732,0.9420532646048111,0.9379295532646049,0.9441580756013745,0.9420962199312715,0.9400343642611684,0.9400128865979381,0.9420962199312715,0.9420962199312715,0.9420532646048111,0.9441580756013745,0.9441580756013745,0.9441580756013745,0.9420962199312715,0.9399699312714777,0.9441580756013745,0.9420962199312715,0.9462199312714776,0.9420747422680413,0.9462199312714776,0.9462199312714776,0.9420747422680413,0.9441580756013745,0.9420747422680413,0.9441580756013745,0.9441580756013745],[0.9400128865979382,0.9358462199312715,0.937951030927835,0.939991408934708,0.9358676975945016,0.9358462199312715,0.9420962199312715,0.9358462199312715,0.9379080756013746,0.9441580756013745,0.9420747422680413,0.9379295532646047,0.9379295532646049,0.9441365979381444,0.9482817869415807,0.9400128865979381,0.9420962199312715,0.9462199312714776,0.9420747422680413,0.9441365979381444,0.9441365979381443,0.9400128865979382,0.9420532646048111,0.9420532646048111,0.9420747422680413,0.9420747422680413,0.9441580756013745,0.9441365979381443,0.9420747422680413,0.9441365979381444],[0.9296606529209622,0.937951030927835,0.9420747422680412,0.9441795532646049,0.9358676975945016,0.9400128865979382,0.9420962199312715,0.9338058419243985,0.9420962199312715,0.9420962199312715,0.939991408934708,0.9379295532646049,0.939991408934708,0.9400128865979381,0.9441795532646047,0.9399699312714777,0.9420747422680413,0.9420532646048111,0.9420747422680413,0.9358676975945016,0.939991408934708,0.9420747422680413,0.9420747422680413,0.9420747422680413,0.939991408934708,0.9420747422680413,0.9441580756013745,0.9420747422680413,0.939991408934708,0.9400128865979381],[0.9400343642611684,0.929725085910653,0.9441365979381443,0.937951030927835,0.9379510309278352,0.9379295532646047,0.9441580756013745,0.9358676975945016,0.9358676975945016,0.9400128865979381,0.9420747422680413,0.939991408934708,0.9441365979381444,0.939991408934708,0.9400128865979381,0.9420962199312715,0.9420532646048111,0.9400128865979381,0.939991408934708,0.9379295532646047,0.9400128865979382,0.9400128865979382,0.9441365979381444,0.9420747422680413,0.9420747422680413,0.939991408934708,0.9400128865979382,0.939991408934708,0.9420747422680413,0.9441365979381444],[0.939991408934708,0.9358676975945016,0.9420747422680413,0.946241408934708,0.9379295532646047,0.939991408934708,0.939991408934708,0.9358462199312715,0.9358676975945016,0.9420962199312715,0.9400343642611684,0.9400128865979381,0.939991408934708,0.9420532646048111,0.9420747422680413,0.9379295532646049,0.9420962199312715,0.9441365979381444,0.9420532646048111,0.9420747422680413,0.9420532646048111,0.9420532646048111,0.9420747422680413,0.9420747422680413,0.9400128865979381,0.9462199312714776,0.9420747422680413,0.9441365979381444,0.9441365979381444,0.9441365979381444],[0.9317010309278351,0.9337628865979383,0.9420747422680413,0.9399914089347078,0.9400128865979382,0.9420747422680413,0.9379295532646049,0.9420532646048111,0.9358247422680412,0.9400343642611684,0.9462199312714776,0.939991408934708,0.9420747422680413,0.9420747422680412,0.9441580756013745,0.939991408934708,0.9441580756013745,0.939991408934708,0.939991408934708,0.9379295532646047,0.9400128865979382,0.939991408934708,0.9441580756013745,0.9400128865979382,0.9400128865979381,0.9420747422680412,0.9420962199312715,0.9441580756013745,0.9400128865979382,0.9441365979381444],[0.9400128865979381,0.9317010309278351,0.9358676975945016,0.9421176975945018,0.9379295532646047,0.9337843642611684,0.939991408934708,0.9420532646048111,0.9441365979381444,0.9420747422680413,0.9420532646048111,0.9400128865979381,0.9400128865979382,0.9400343642611684,0.935889175257732,0.937951030927835,0.939991408934708,0.9400128865979382,0.9399699312714777,0.9462199312714776,0.9400128865979382,0.939991408934708,0.9400128865979382,0.9420747422680413,0.9420747422680413,0.939991408934708,0.9420532646048111,0.9400343642611684,0.9420747422680413,0.9441365979381444],[0.9296606529209622,0.939991408934708,0.9379295532646049,0.9462414089347078,0.9358676975945016,0.9441365979381443,0.9400128865979382,0.9379295532646047,0.9420747422680412,0.9358676975945016,0.9358676975945016,0.937951030927835,0.937951030927835,0.9400128865979381,0.939991408934708,0.9400128865979382,0.9400128865979382,0.9420962199312715,0.937951030927835,0.9420747422680412,0.9400128865979382,0.9420747422680413,0.9400128865979382,0.9420747422680413,0.9400128865979381,0.9400128865979382,0.9400128865979381,0.9420747422680413,0.9420747422680413,0.9400128865979382]],\"type\":\"contour\"}],                        {\"xaxis\":{\"title\":{\"text\":\"max features\"}},\"yaxis\":{\"title\":{\"text\":\"n estimators\"}},\"template\":{\"data\":{\"histogram2dcontour\":[{\"type\":\"histogram2dcontour\",\"colorbar\":{\"outlinewidth\":0,\"ticks\":\"\"},\"colorscale\":[[0.0,\"#0d0887\"],[0.1111111111111111,\"#46039f\"],[0.2222222222222222,\"#7201a8\"],[0.3333333333333333,\"#9c179e\"],[0.4444444444444444,\"#bd3786\"],[0.5555555555555556,\"#d8576b\"],[0.6666666666666666,\"#ed7953\"],[0.7777777777777778,\"#fb9f3a\"],[0.8888888888888888,\"#fdca26\"],[1.0,\"#f0f921\"]]}],\"choropleth\":[{\"type\":\"choropleth\",\"colorbar\":{\"outlinewidth\":0,\"ticks\":\"\"}}],\"histogram2d\":[{\"type\":\"histogram2d\",\"colorbar\":{\"outlinewidth\":0,\"ticks\":\"\"},\"colorscale\":[[0.0,\"#0d0887\"],[0.1111111111111111,\"#46039f\"],[0.2222222222222222,\"#7201a8\"],[0.3333333333333333,\"#9c179e\"],[0.4444444444444444,\"#bd3786\"],[0.5555555555555556,\"#d8576b\"],[0.6666666666666666,\"#ed7953\"],[0.7777777777777778,\"#fb9f3a\"],[0.8888888888888888,\"#fdca26\"],[1.0,\"#f0f921\"]]}],\"heatmap\":[{\"type\":\"heatmap\",\"colorbar\":{\"outlinewidth\":0,\"ticks\":\"\"},\"colorscale\":[[0.0,\"#0d0887\"],[0.1111111111111111,\"#46039f\"],[0.2222222222222222,\"#7201a8\"],[0.3333333333333333,\"#9c179e\"],[0.4444444444444444,\"#bd3786\"],[0.5555555555555556,\"#d8576b\"],[0.6666666666666666,\"#ed7953\"],[0.7777777777777778,\"#fb9f3a\"],[0.8888888888888888,\"#fdca26\"],[1.0,\"#f0f921\"]]}],\"heatmapgl\":[{\"type\":\"heatmapgl\",\"colorbar\":{\"outlinewidth\":0,\"ticks\":\"\"},\"colorscale\":[[0.0,\"#0d0887\"],[0.1111111111111111,\"#46039f\"],[0.2222222222222222,\"#7201a8\"],[0.3333333333333333,\"#9c179e\"],[0.4444444444444444,\"#bd3786\"],[0.5555555555555556,\"#d8576b\"],[0.6666666666666666,\"#ed7953\"],[0.7777777777777778,\"#fb9f3a\"],[0.8888888888888888,\"#fdca26\"],[1.0,\"#f0f921\"]]}],\"contourcarpet\":[{\"type\":\"contourcarpet\",\"colorbar\":{\"outlinewidth\":0,\"ticks\":\"\"}}],\"contour\":[{\"type\":\"contour\",\"colorbar\":{\"outlinewidth\":0,\"ticks\":\"\"},\"colorscale\":[[0.0,\"#0d0887\"],[0.1111111111111111,\"#46039f\"],[0.2222222222222222,\"#7201a8\"],[0.3333333333333333,\"#9c179e\"],[0.4444444444444444,\"#bd3786\"],[0.5555555555555556,\"#d8576b\"],[0.6666666666666666,\"#ed7953\"],[0.7777777777777778,\"#fb9f3a\"],[0.8888888888888888,\"#fdca26\"],[1.0,\"#f0f921\"]]}],\"surface\":[{\"type\":\"surface\",\"colorbar\":{\"outlinewidth\":0,\"ticks\":\"\"},\"colorscale\":[[0.0,\"#0d0887\"],[0.1111111111111111,\"#46039f\"],[0.2222222222222222,\"#7201a8\"],[0.3333333333333333,\"#9c179e\"],[0.4444444444444444,\"#bd3786\"],[0.5555555555555556,\"#d8576b\"],[0.6666666666666666,\"#ed7953\"],[0.7777777777777778,\"#fb9f3a\"],[0.8888888888888888,\"#fdca26\"],[1.0,\"#f0f921\"]]}],\"mesh3d\":[{\"type\":\"mesh3d\",\"colorbar\":{\"outlinewidth\":0,\"ticks\":\"\"}}],\"scatter\":[{\"fillpattern\":{\"fillmode\":\"overlay\",\"size\":10,\"solidity\":0.2},\"type\":\"scatter\"}],\"parcoords\":[{\"type\":\"parcoords\",\"line\":{\"colorbar\":{\"outlinewidth\":0,\"ticks\":\"\"}}}],\"scatterpolargl\":[{\"type\":\"scatterpolargl\",\"marker\":{\"colorbar\":{\"outlinewidth\":0,\"ticks\":\"\"}}}],\"bar\":[{\"error_x\":{\"color\":\"#2a3f5f\"},\"error_y\":{\"color\":\"#2a3f5f\"},\"marker\":{\"line\":{\"color\":\"#E5ECF6\",\"width\":0.5},\"pattern\":{\"fillmode\":\"overlay\",\"size\":10,\"solidity\":0.2}},\"type\":\"bar\"}],\"scattergeo\":[{\"type\":\"scattergeo\",\"marker\":{\"colorbar\":{\"outlinewidth\":0,\"ticks\":\"\"}}}],\"scatterpolar\":[{\"type\":\"scatterpolar\",\"marker\":{\"colorbar\":{\"outlinewidth\":0,\"ticks\":\"\"}}}],\"histogram\":[{\"marker\":{\"pattern\":{\"fillmode\":\"overlay\",\"size\":10,\"solidity\":0.2}},\"type\":\"histogram\"}],\"scattergl\":[{\"type\":\"scattergl\",\"marker\":{\"colorbar\":{\"outlinewidth\":0,\"ticks\":\"\"}}}],\"scatter3d\":[{\"type\":\"scatter3d\",\"line\":{\"colorbar\":{\"outlinewidth\":0,\"ticks\":\"\"}},\"marker\":{\"colorbar\":{\"outlinewidth\":0,\"ticks\":\"\"}}}],\"scattermapbox\":[{\"type\":\"scattermapbox\",\"marker\":{\"colorbar\":{\"outlinewidth\":0,\"ticks\":\"\"}}}],\"scatterternary\":[{\"type\":\"scatterternary\",\"marker\":{\"colorbar\":{\"outlinewidth\":0,\"ticks\":\"\"}}}],\"scattercarpet\":[{\"type\":\"scattercarpet\",\"marker\":{\"colorbar\":{\"outlinewidth\":0,\"ticks\":\"\"}}}],\"carpet\":[{\"aaxis\":{\"endlinecolor\":\"#2a3f5f\",\"gridcolor\":\"white\",\"linecolor\":\"white\",\"minorgridcolor\":\"white\",\"startlinecolor\":\"#2a3f5f\"},\"baxis\":{\"endlinecolor\":\"#2a3f5f\",\"gridcolor\":\"white\",\"linecolor\":\"white\",\"minorgridcolor\":\"white\",\"startlinecolor\":\"#2a3f5f\"},\"type\":\"carpet\"}],\"table\":[{\"cells\":{\"fill\":{\"color\":\"#EBF0F8\"},\"line\":{\"color\":\"white\"}},\"header\":{\"fill\":{\"color\":\"#C8D4E3\"},\"line\":{\"color\":\"white\"}},\"type\":\"table\"}],\"barpolar\":[{\"marker\":{\"line\":{\"color\":\"#E5ECF6\",\"width\":0.5},\"pattern\":{\"fillmode\":\"overlay\",\"size\":10,\"solidity\":0.2}},\"type\":\"barpolar\"}],\"pie\":[{\"automargin\":true,\"type\":\"pie\"}]},\"layout\":{\"autotypenumbers\":\"strict\",\"colorway\":[\"#636efa\",\"#EF553B\",\"#00cc96\",\"#ab63fa\",\"#FFA15A\",\"#19d3f3\",\"#FF6692\",\"#B6E880\",\"#FF97FF\",\"#FECB52\"],\"font\":{\"color\":\"#2a3f5f\"},\"hovermode\":\"closest\",\"hoverlabel\":{\"align\":\"left\"},\"paper_bgcolor\":\"white\",\"plot_bgcolor\":\"#E5ECF6\",\"polar\":{\"bgcolor\":\"#E5ECF6\",\"angularaxis\":{\"gridcolor\":\"white\",\"linecolor\":\"white\",\"ticks\":\"\"},\"radialaxis\":{\"gridcolor\":\"white\",\"linecolor\":\"white\",\"ticks\":\"\"}},\"ternary\":{\"bgcolor\":\"#E5ECF6\",\"aaxis\":{\"gridcolor\":\"white\",\"linecolor\":\"white\",\"ticks\":\"\"},\"baxis\":{\"gridcolor\":\"white\",\"linecolor\":\"white\",\"ticks\":\"\"},\"caxis\":{\"gridcolor\":\"white\",\"linecolor\":\"white\",\"ticks\":\"\"}},\"coloraxis\":{\"colorbar\":{\"outlinewidth\":0,\"ticks\":\"\"}},\"colorscale\":{\"sequential\":[[0.0,\"#0d0887\"],[0.1111111111111111,\"#46039f\"],[0.2222222222222222,\"#7201a8\"],[0.3333333333333333,\"#9c179e\"],[0.4444444444444444,\"#bd3786\"],[0.5555555555555556,\"#d8576b\"],[0.6666666666666666,\"#ed7953\"],[0.7777777777777778,\"#fb9f3a\"],[0.8888888888888888,\"#fdca26\"],[1.0,\"#f0f921\"]],\"sequentialminus\":[[0.0,\"#0d0887\"],[0.1111111111111111,\"#46039f\"],[0.2222222222222222,\"#7201a8\"],[0.3333333333333333,\"#9c179e\"],[0.4444444444444444,\"#bd3786\"],[0.5555555555555556,\"#d8576b\"],[0.6666666666666666,\"#ed7953\"],[0.7777777777777778,\"#fb9f3a\"],[0.8888888888888888,\"#fdca26\"],[1.0,\"#f0f921\"]],\"diverging\":[[0,\"#8e0152\"],[0.1,\"#c51b7d\"],[0.2,\"#de77ae\"],[0.3,\"#f1b6da\"],[0.4,\"#fde0ef\"],[0.5,\"#f7f7f7\"],[0.6,\"#e6f5d0\"],[0.7,\"#b8e186\"],[0.8,\"#7fbc41\"],[0.9,\"#4d9221\"],[1,\"#276419\"]]},\"xaxis\":{\"gridcolor\":\"white\",\"linecolor\":\"white\",\"ticks\":\"\",\"title\":{\"standoff\":15},\"zerolinecolor\":\"white\",\"automargin\":true,\"zerolinewidth\":2},\"yaxis\":{\"gridcolor\":\"white\",\"linecolor\":\"white\",\"ticks\":\"\",\"title\":{\"standoff\":15},\"zerolinecolor\":\"white\",\"automargin\":true,\"zerolinewidth\":2},\"scene\":{\"xaxis\":{\"backgroundcolor\":\"#E5ECF6\",\"gridcolor\":\"white\",\"linecolor\":\"white\",\"showbackground\":true,\"ticks\":\"\",\"zerolinecolor\":\"white\",\"gridwidth\":2},\"yaxis\":{\"backgroundcolor\":\"#E5ECF6\",\"gridcolor\":\"white\",\"linecolor\":\"white\",\"showbackground\":true,\"ticks\":\"\",\"zerolinecolor\":\"white\",\"gridwidth\":2},\"zaxis\":{\"backgroundcolor\":\"#E5ECF6\",\"gridcolor\":\"white\",\"linecolor\":\"white\",\"showbackground\":true,\"ticks\":\"\",\"zerolinecolor\":\"white\",\"gridwidth\":2}},\"shapedefaults\":{\"line\":{\"color\":\"#2a3f5f\"}},\"annotationdefaults\":{\"arrowcolor\":\"#2a3f5f\",\"arrowhead\":0,\"arrowwidth\":1},\"geo\":{\"bgcolor\":\"white\",\"landcolor\":\"#E5ECF6\",\"subunitcolor\":\"white\",\"showland\":true,\"showlakes\":true,\"lakecolor\":\"white\"},\"title\":{\"x\":0.05},\"mapbox\":{\"style\":\"light\"}}},\"margin\":{\"l\":65,\"r\":50,\"b\":65,\"t\":90},\"title\":{\"text\":\"Random Forest Hyperparameter Tuning\"},\"autosize\":false,\"width\":500,\"height\":500},                        {\"responsive\": true}                    ).then(function(){\n",
       "                            \n",
       "var gd = document.getElementById('7cd314f8-4a30-44df-8008-cc0f11650e9d');\n",
       "var x = new MutationObserver(function (mutations, observer) {{\n",
       "        var display = window.getComputedStyle(gd).display;\n",
       "        if (!display || display === 'none') {{\n",
       "            console.log([gd, 'removed!']);\n",
       "            Plotly.purge(gd);\n",
       "            observer.disconnect();\n",
       "        }}\n",
       "}});\n",
       "\n",
       "// Listen for the removal of the full notebook cells\n",
       "var notebookContainer = gd.closest('#notebook-container');\n",
       "if (notebookContainer) {{\n",
       "    x.observe(notebookContainer, {childList: true});\n",
       "}}\n",
       "\n",
       "// Listen for the clearing of the current output cell\n",
       "var outputEl = gd.closest('.output');\n",
       "if (outputEl) {{\n",
       "    x.observe(outputEl, {childList: true});\n",
       "}}\n",
       "\n",
       "                        })                };                });            </script>        </div>"
      ]
     },
     "metadata": {},
     "output_type": "display_data"
    }
   ],
   "source": [
    "layout = go.Layout(xaxis=go.layout.XAxis(title=go.layout.xaxis.Title(text='max features')), yaxis=go.layout.YAxis(title=go.layout.yaxis.Title(text='n estimators')))\n",
    "\n",
    "fig = go.Figure(data = [go.Contour(z=z, x=x, y=y)], layout=layout)\n",
    "\n",
    "fig.update_layout(title = 'Random Forest Hyperparameter Tuning', autosize=False, width=500, height=500, margin=dict(l=65, r=50, b=65, t=90))\n",
    "\n",
    "fig.show()"
   ]
  },
  {
   "cell_type": "code",
   "execution_count": 214,
   "id": "dfbfada2",
   "metadata": {},
   "outputs": [
    {
     "data": {
      "application/vnd.plotly.v1+json": {
       "config": {
        "plotlyServerURL": "https://plot.ly"
       },
       "data": [
        {
         "type": "surface",
         "x": [
          10,
          15,
          20,
          25,
          30,
          35,
          40,
          45,
          50,
          55,
          60,
          65,
          70,
          75,
          80,
          85,
          90,
          95,
          100,
          105,
          110,
          115,
          120,
          125,
          130,
          135,
          140,
          145,
          150,
          155
         ],
         "y": [
          1,
          2,
          3,
          4,
          5,
          6,
          7,
          8,
          9,
          10
         ],
         "z": [
          [
           0.9337628865979382,
           0.9400558419243985,
           0.9337843642611684,
           0.9400128865979381,
           0.9379725085910653,
           0.9420747422680412,
           0.9441580756013745,
           0.9441795532646047,
           0.9420962199312715,
           0.937951030927835,
           0.9462414089347078,
           0.9400128865979381,
           0.9420962199312715,
           0.9441580756013745,
           0.9462414089347078,
           0.9420962199312715,
           0.9400558419243985,
           0.9483032646048108,
           0.9462414089347078,
           0.9441580756013745,
           0.9400343642611684,
           0.9400343642611684,
           0.9462199312714776,
           0.9441795532646047,
           0.9441580756013745,
           0.9462414089347078,
           0.9420962199312715,
           0.9420962199312715,
           0.9441365979381443,
           0.9420962199312715
          ],
          [
           0.937951030927835,
           0.9379725085910653,
           0.9338273195876289,
           0.9400128865979381,
           0.9358676975945016,
           0.9379295532646047,
           0.9441795532646047,
           0.9421176975945016,
           0.9483032646048111,
           0.9462414089347078,
           0.9441580756013745,
           0.9400128865979381,
           0.9420747422680412,
           0.9379725085910653,
           0.9441580756013745,
           0.9400343642611684,
           0.9462414089347078,
           0.9420747422680412,
           0.9420962199312715,
           0.9483032646048111,
           0.9400343642611684,
           0.9420962199312715,
           0.9441580756013745,
           0.9483032646048111,
           0.9462199312714776,
           0.9441580756013745,
           0.9462199312714776,
           0.9420962199312715,
           0.9441580756013745,
           0.9441580756013745
          ],
          [
           0.9379295532646047,
           0.9338058419243985,
           0.929639175257732,
           0.9358676975945016,
           0.929639175257732,
           0.9420532646048111,
           0.9379295532646049,
           0.9441580756013745,
           0.9420962199312715,
           0.9400343642611684,
           0.9400128865979381,
           0.9420962199312715,
           0.9420962199312715,
           0.9420532646048111,
           0.9441580756013745,
           0.9441580756013745,
           0.9441580756013745,
           0.9420962199312715,
           0.9399699312714777,
           0.9441580756013745,
           0.9420962199312715,
           0.9462199312714776,
           0.9420747422680413,
           0.9462199312714776,
           0.9462199312714776,
           0.9420747422680413,
           0.9441580756013745,
           0.9420747422680413,
           0.9441580756013745,
           0.9441580756013745
          ],
          [
           0.9400128865979382,
           0.9358462199312715,
           0.937951030927835,
           0.939991408934708,
           0.9358676975945016,
           0.9358462199312715,
           0.9420962199312715,
           0.9358462199312715,
           0.9379080756013746,
           0.9441580756013745,
           0.9420747422680413,
           0.9379295532646047,
           0.9379295532646049,
           0.9441365979381444,
           0.9482817869415807,
           0.9400128865979381,
           0.9420962199312715,
           0.9462199312714776,
           0.9420747422680413,
           0.9441365979381444,
           0.9441365979381443,
           0.9400128865979382,
           0.9420532646048111,
           0.9420532646048111,
           0.9420747422680413,
           0.9420747422680413,
           0.9441580756013745,
           0.9441365979381443,
           0.9420747422680413,
           0.9441365979381444
          ],
          [
           0.9296606529209622,
           0.937951030927835,
           0.9420747422680412,
           0.9441795532646049,
           0.9358676975945016,
           0.9400128865979382,
           0.9420962199312715,
           0.9338058419243985,
           0.9420962199312715,
           0.9420962199312715,
           0.939991408934708,
           0.9379295532646049,
           0.939991408934708,
           0.9400128865979381,
           0.9441795532646047,
           0.9399699312714777,
           0.9420747422680413,
           0.9420532646048111,
           0.9420747422680413,
           0.9358676975945016,
           0.939991408934708,
           0.9420747422680413,
           0.9420747422680413,
           0.9420747422680413,
           0.939991408934708,
           0.9420747422680413,
           0.9441580756013745,
           0.9420747422680413,
           0.939991408934708,
           0.9400128865979381
          ],
          [
           0.9400343642611684,
           0.929725085910653,
           0.9441365979381443,
           0.937951030927835,
           0.9379510309278352,
           0.9379295532646047,
           0.9441580756013745,
           0.9358676975945016,
           0.9358676975945016,
           0.9400128865979381,
           0.9420747422680413,
           0.939991408934708,
           0.9441365979381444,
           0.939991408934708,
           0.9400128865979381,
           0.9420962199312715,
           0.9420532646048111,
           0.9400128865979381,
           0.939991408934708,
           0.9379295532646047,
           0.9400128865979382,
           0.9400128865979382,
           0.9441365979381444,
           0.9420747422680413,
           0.9420747422680413,
           0.939991408934708,
           0.9400128865979382,
           0.939991408934708,
           0.9420747422680413,
           0.9441365979381444
          ],
          [
           0.939991408934708,
           0.9358676975945016,
           0.9420747422680413,
           0.946241408934708,
           0.9379295532646047,
           0.939991408934708,
           0.939991408934708,
           0.9358462199312715,
           0.9358676975945016,
           0.9420962199312715,
           0.9400343642611684,
           0.9400128865979381,
           0.939991408934708,
           0.9420532646048111,
           0.9420747422680413,
           0.9379295532646049,
           0.9420962199312715,
           0.9441365979381444,
           0.9420532646048111,
           0.9420747422680413,
           0.9420532646048111,
           0.9420532646048111,
           0.9420747422680413,
           0.9420747422680413,
           0.9400128865979381,
           0.9462199312714776,
           0.9420747422680413,
           0.9441365979381444,
           0.9441365979381444,
           0.9441365979381444
          ],
          [
           0.9317010309278351,
           0.9337628865979383,
           0.9420747422680413,
           0.9399914089347078,
           0.9400128865979382,
           0.9420747422680413,
           0.9379295532646049,
           0.9420532646048111,
           0.9358247422680412,
           0.9400343642611684,
           0.9462199312714776,
           0.939991408934708,
           0.9420747422680413,
           0.9420747422680412,
           0.9441580756013745,
           0.939991408934708,
           0.9441580756013745,
           0.939991408934708,
           0.939991408934708,
           0.9379295532646047,
           0.9400128865979382,
           0.939991408934708,
           0.9441580756013745,
           0.9400128865979382,
           0.9400128865979381,
           0.9420747422680412,
           0.9420962199312715,
           0.9441580756013745,
           0.9400128865979382,
           0.9441365979381444
          ],
          [
           0.9400128865979381,
           0.9317010309278351,
           0.9358676975945016,
           0.9421176975945018,
           0.9379295532646047,
           0.9337843642611684,
           0.939991408934708,
           0.9420532646048111,
           0.9441365979381444,
           0.9420747422680413,
           0.9420532646048111,
           0.9400128865979381,
           0.9400128865979382,
           0.9400343642611684,
           0.935889175257732,
           0.937951030927835,
           0.939991408934708,
           0.9400128865979382,
           0.9399699312714777,
           0.9462199312714776,
           0.9400128865979382,
           0.939991408934708,
           0.9400128865979382,
           0.9420747422680413,
           0.9420747422680413,
           0.939991408934708,
           0.9420532646048111,
           0.9400343642611684,
           0.9420747422680413,
           0.9441365979381444
          ],
          [
           0.9296606529209622,
           0.939991408934708,
           0.9379295532646049,
           0.9462414089347078,
           0.9358676975945016,
           0.9441365979381443,
           0.9400128865979382,
           0.9379295532646047,
           0.9420747422680412,
           0.9358676975945016,
           0.9358676975945016,
           0.937951030927835,
           0.937951030927835,
           0.9400128865979381,
           0.939991408934708,
           0.9400128865979382,
           0.9400128865979382,
           0.9420962199312715,
           0.937951030927835,
           0.9420747422680412,
           0.9400128865979382,
           0.9420747422680413,
           0.9400128865979382,
           0.9420747422680413,
           0.9400128865979381,
           0.9400128865979382,
           0.9400128865979381,
           0.9420747422680413,
           0.9420747422680413,
           0.9400128865979382
          ]
         ]
        }
       ],
       "layout": {
        "autosize": false,
        "height": 500,
        "margin": {
         "b": 65,
         "l": 65,
         "r": 50,
         "t": 90
        },
        "scene": {
         "xaxis": {
          "title": {
           "text": "n estimators"
          }
         },
         "yaxis": {
          "title": {
           "text": "max features"
          }
         },
         "zaxis": {
          "title": {
           "text": "Accuracy"
          }
         }
        },
        "template": {
         "data": {
          "bar": [
           {
            "error_x": {
             "color": "#2a3f5f"
            },
            "error_y": {
             "color": "#2a3f5f"
            },
            "marker": {
             "line": {
              "color": "#E5ECF6",
              "width": 0.5
             },
             "pattern": {
              "fillmode": "overlay",
              "size": 10,
              "solidity": 0.2
             }
            },
            "type": "bar"
           }
          ],
          "barpolar": [
           {
            "marker": {
             "line": {
              "color": "#E5ECF6",
              "width": 0.5
             },
             "pattern": {
              "fillmode": "overlay",
              "size": 10,
              "solidity": 0.2
             }
            },
            "type": "barpolar"
           }
          ],
          "carpet": [
           {
            "aaxis": {
             "endlinecolor": "#2a3f5f",
             "gridcolor": "white",
             "linecolor": "white",
             "minorgridcolor": "white",
             "startlinecolor": "#2a3f5f"
            },
            "baxis": {
             "endlinecolor": "#2a3f5f",
             "gridcolor": "white",
             "linecolor": "white",
             "minorgridcolor": "white",
             "startlinecolor": "#2a3f5f"
            },
            "type": "carpet"
           }
          ],
          "choropleth": [
           {
            "colorbar": {
             "outlinewidth": 0,
             "ticks": ""
            },
            "type": "choropleth"
           }
          ],
          "contour": [
           {
            "colorbar": {
             "outlinewidth": 0,
             "ticks": ""
            },
            "colorscale": [
             [
              0,
              "#0d0887"
             ],
             [
              0.1111111111111111,
              "#46039f"
             ],
             [
              0.2222222222222222,
              "#7201a8"
             ],
             [
              0.3333333333333333,
              "#9c179e"
             ],
             [
              0.4444444444444444,
              "#bd3786"
             ],
             [
              0.5555555555555556,
              "#d8576b"
             ],
             [
              0.6666666666666666,
              "#ed7953"
             ],
             [
              0.7777777777777778,
              "#fb9f3a"
             ],
             [
              0.8888888888888888,
              "#fdca26"
             ],
             [
              1,
              "#f0f921"
             ]
            ],
            "type": "contour"
           }
          ],
          "contourcarpet": [
           {
            "colorbar": {
             "outlinewidth": 0,
             "ticks": ""
            },
            "type": "contourcarpet"
           }
          ],
          "heatmap": [
           {
            "colorbar": {
             "outlinewidth": 0,
             "ticks": ""
            },
            "colorscale": [
             [
              0,
              "#0d0887"
             ],
             [
              0.1111111111111111,
              "#46039f"
             ],
             [
              0.2222222222222222,
              "#7201a8"
             ],
             [
              0.3333333333333333,
              "#9c179e"
             ],
             [
              0.4444444444444444,
              "#bd3786"
             ],
             [
              0.5555555555555556,
              "#d8576b"
             ],
             [
              0.6666666666666666,
              "#ed7953"
             ],
             [
              0.7777777777777778,
              "#fb9f3a"
             ],
             [
              0.8888888888888888,
              "#fdca26"
             ],
             [
              1,
              "#f0f921"
             ]
            ],
            "type": "heatmap"
           }
          ],
          "heatmapgl": [
           {
            "colorbar": {
             "outlinewidth": 0,
             "ticks": ""
            },
            "colorscale": [
             [
              0,
              "#0d0887"
             ],
             [
              0.1111111111111111,
              "#46039f"
             ],
             [
              0.2222222222222222,
              "#7201a8"
             ],
             [
              0.3333333333333333,
              "#9c179e"
             ],
             [
              0.4444444444444444,
              "#bd3786"
             ],
             [
              0.5555555555555556,
              "#d8576b"
             ],
             [
              0.6666666666666666,
              "#ed7953"
             ],
             [
              0.7777777777777778,
              "#fb9f3a"
             ],
             [
              0.8888888888888888,
              "#fdca26"
             ],
             [
              1,
              "#f0f921"
             ]
            ],
            "type": "heatmapgl"
           }
          ],
          "histogram": [
           {
            "marker": {
             "pattern": {
              "fillmode": "overlay",
              "size": 10,
              "solidity": 0.2
             }
            },
            "type": "histogram"
           }
          ],
          "histogram2d": [
           {
            "colorbar": {
             "outlinewidth": 0,
             "ticks": ""
            },
            "colorscale": [
             [
              0,
              "#0d0887"
             ],
             [
              0.1111111111111111,
              "#46039f"
             ],
             [
              0.2222222222222222,
              "#7201a8"
             ],
             [
              0.3333333333333333,
              "#9c179e"
             ],
             [
              0.4444444444444444,
              "#bd3786"
             ],
             [
              0.5555555555555556,
              "#d8576b"
             ],
             [
              0.6666666666666666,
              "#ed7953"
             ],
             [
              0.7777777777777778,
              "#fb9f3a"
             ],
             [
              0.8888888888888888,
              "#fdca26"
             ],
             [
              1,
              "#f0f921"
             ]
            ],
            "type": "histogram2d"
           }
          ],
          "histogram2dcontour": [
           {
            "colorbar": {
             "outlinewidth": 0,
             "ticks": ""
            },
            "colorscale": [
             [
              0,
              "#0d0887"
             ],
             [
              0.1111111111111111,
              "#46039f"
             ],
             [
              0.2222222222222222,
              "#7201a8"
             ],
             [
              0.3333333333333333,
              "#9c179e"
             ],
             [
              0.4444444444444444,
              "#bd3786"
             ],
             [
              0.5555555555555556,
              "#d8576b"
             ],
             [
              0.6666666666666666,
              "#ed7953"
             ],
             [
              0.7777777777777778,
              "#fb9f3a"
             ],
             [
              0.8888888888888888,
              "#fdca26"
             ],
             [
              1,
              "#f0f921"
             ]
            ],
            "type": "histogram2dcontour"
           }
          ],
          "mesh3d": [
           {
            "colorbar": {
             "outlinewidth": 0,
             "ticks": ""
            },
            "type": "mesh3d"
           }
          ],
          "parcoords": [
           {
            "line": {
             "colorbar": {
              "outlinewidth": 0,
              "ticks": ""
             }
            },
            "type": "parcoords"
           }
          ],
          "pie": [
           {
            "automargin": true,
            "type": "pie"
           }
          ],
          "scatter": [
           {
            "fillpattern": {
             "fillmode": "overlay",
             "size": 10,
             "solidity": 0.2
            },
            "type": "scatter"
           }
          ],
          "scatter3d": [
           {
            "line": {
             "colorbar": {
              "outlinewidth": 0,
              "ticks": ""
             }
            },
            "marker": {
             "colorbar": {
              "outlinewidth": 0,
              "ticks": ""
             }
            },
            "type": "scatter3d"
           }
          ],
          "scattercarpet": [
           {
            "marker": {
             "colorbar": {
              "outlinewidth": 0,
              "ticks": ""
             }
            },
            "type": "scattercarpet"
           }
          ],
          "scattergeo": [
           {
            "marker": {
             "colorbar": {
              "outlinewidth": 0,
              "ticks": ""
             }
            },
            "type": "scattergeo"
           }
          ],
          "scattergl": [
           {
            "marker": {
             "colorbar": {
              "outlinewidth": 0,
              "ticks": ""
             }
            },
            "type": "scattergl"
           }
          ],
          "scattermapbox": [
           {
            "marker": {
             "colorbar": {
              "outlinewidth": 0,
              "ticks": ""
             }
            },
            "type": "scattermapbox"
           }
          ],
          "scatterpolar": [
           {
            "marker": {
             "colorbar": {
              "outlinewidth": 0,
              "ticks": ""
             }
            },
            "type": "scatterpolar"
           }
          ],
          "scatterpolargl": [
           {
            "marker": {
             "colorbar": {
              "outlinewidth": 0,
              "ticks": ""
             }
            },
            "type": "scatterpolargl"
           }
          ],
          "scatterternary": [
           {
            "marker": {
             "colorbar": {
              "outlinewidth": 0,
              "ticks": ""
             }
            },
            "type": "scatterternary"
           }
          ],
          "surface": [
           {
            "colorbar": {
             "outlinewidth": 0,
             "ticks": ""
            },
            "colorscale": [
             [
              0,
              "#0d0887"
             ],
             [
              0.1111111111111111,
              "#46039f"
             ],
             [
              0.2222222222222222,
              "#7201a8"
             ],
             [
              0.3333333333333333,
              "#9c179e"
             ],
             [
              0.4444444444444444,
              "#bd3786"
             ],
             [
              0.5555555555555556,
              "#d8576b"
             ],
             [
              0.6666666666666666,
              "#ed7953"
             ],
             [
              0.7777777777777778,
              "#fb9f3a"
             ],
             [
              0.8888888888888888,
              "#fdca26"
             ],
             [
              1,
              "#f0f921"
             ]
            ],
            "type": "surface"
           }
          ],
          "table": [
           {
            "cells": {
             "fill": {
              "color": "#EBF0F8"
             },
             "line": {
              "color": "white"
             }
            },
            "header": {
             "fill": {
              "color": "#C8D4E3"
             },
             "line": {
              "color": "white"
             }
            },
            "type": "table"
           }
          ]
         },
         "layout": {
          "annotationdefaults": {
           "arrowcolor": "#2a3f5f",
           "arrowhead": 0,
           "arrowwidth": 1
          },
          "autotypenumbers": "strict",
          "coloraxis": {
           "colorbar": {
            "outlinewidth": 0,
            "ticks": ""
           }
          },
          "colorscale": {
           "diverging": [
            [
             0,
             "#8e0152"
            ],
            [
             0.1,
             "#c51b7d"
            ],
            [
             0.2,
             "#de77ae"
            ],
            [
             0.3,
             "#f1b6da"
            ],
            [
             0.4,
             "#fde0ef"
            ],
            [
             0.5,
             "#f7f7f7"
            ],
            [
             0.6,
             "#e6f5d0"
            ],
            [
             0.7,
             "#b8e186"
            ],
            [
             0.8,
             "#7fbc41"
            ],
            [
             0.9,
             "#4d9221"
            ],
            [
             1,
             "#276419"
            ]
           ],
           "sequential": [
            [
             0,
             "#0d0887"
            ],
            [
             0.1111111111111111,
             "#46039f"
            ],
            [
             0.2222222222222222,
             "#7201a8"
            ],
            [
             0.3333333333333333,
             "#9c179e"
            ],
            [
             0.4444444444444444,
             "#bd3786"
            ],
            [
             0.5555555555555556,
             "#d8576b"
            ],
            [
             0.6666666666666666,
             "#ed7953"
            ],
            [
             0.7777777777777778,
             "#fb9f3a"
            ],
            [
             0.8888888888888888,
             "#fdca26"
            ],
            [
             1,
             "#f0f921"
            ]
           ],
           "sequentialminus": [
            [
             0,
             "#0d0887"
            ],
            [
             0.1111111111111111,
             "#46039f"
            ],
            [
             0.2222222222222222,
             "#7201a8"
            ],
            [
             0.3333333333333333,
             "#9c179e"
            ],
            [
             0.4444444444444444,
             "#bd3786"
            ],
            [
             0.5555555555555556,
             "#d8576b"
            ],
            [
             0.6666666666666666,
             "#ed7953"
            ],
            [
             0.7777777777777778,
             "#fb9f3a"
            ],
            [
             0.8888888888888888,
             "#fdca26"
            ],
            [
             1,
             "#f0f921"
            ]
           ]
          },
          "colorway": [
           "#636efa",
           "#EF553B",
           "#00cc96",
           "#ab63fa",
           "#FFA15A",
           "#19d3f3",
           "#FF6692",
           "#B6E880",
           "#FF97FF",
           "#FECB52"
          ],
          "font": {
           "color": "#2a3f5f"
          },
          "geo": {
           "bgcolor": "white",
           "lakecolor": "white",
           "landcolor": "#E5ECF6",
           "showlakes": true,
           "showland": true,
           "subunitcolor": "white"
          },
          "hoverlabel": {
           "align": "left"
          },
          "hovermode": "closest",
          "mapbox": {
           "style": "light"
          },
          "paper_bgcolor": "white",
          "plot_bgcolor": "#E5ECF6",
          "polar": {
           "angularaxis": {
            "gridcolor": "white",
            "linecolor": "white",
            "ticks": ""
           },
           "bgcolor": "#E5ECF6",
           "radialaxis": {
            "gridcolor": "white",
            "linecolor": "white",
            "ticks": ""
           }
          },
          "scene": {
           "xaxis": {
            "backgroundcolor": "#E5ECF6",
            "gridcolor": "white",
            "gridwidth": 2,
            "linecolor": "white",
            "showbackground": true,
            "ticks": "",
            "zerolinecolor": "white"
           },
           "yaxis": {
            "backgroundcolor": "#E5ECF6",
            "gridcolor": "white",
            "gridwidth": 2,
            "linecolor": "white",
            "showbackground": true,
            "ticks": "",
            "zerolinecolor": "white"
           },
           "zaxis": {
            "backgroundcolor": "#E5ECF6",
            "gridcolor": "white",
            "gridwidth": 2,
            "linecolor": "white",
            "showbackground": true,
            "ticks": "",
            "zerolinecolor": "white"
           }
          },
          "shapedefaults": {
           "line": {
            "color": "#2a3f5f"
           }
          },
          "ternary": {
           "aaxis": {
            "gridcolor": "white",
            "linecolor": "white",
            "ticks": ""
           },
           "baxis": {
            "gridcolor": "white",
            "linecolor": "white",
            "ticks": ""
           },
           "bgcolor": "#E5ECF6",
           "caxis": {
            "gridcolor": "white",
            "linecolor": "white",
            "ticks": ""
           }
          },
          "title": {
           "x": 0.05
          },
          "xaxis": {
           "automargin": true,
           "gridcolor": "white",
           "linecolor": "white",
           "ticks": "",
           "title": {
            "standoff": 15
           },
           "zerolinecolor": "white",
           "zerolinewidth": 2
          },
          "yaxis": {
           "automargin": true,
           "gridcolor": "white",
           "linecolor": "white",
           "ticks": "",
           "title": {
            "standoff": 15
           },
           "zerolinecolor": "white",
           "zerolinewidth": 2
          }
         }
        },
        "title": {
         "text": "Random Forest Hyperparameter Tuning"
        },
        "width": 500,
        "xaxis": {
         "title": {
          "text": "max features"
         }
        },
        "yaxis": {
         "title": {
          "text": "n estimators"
         }
        }
       }
      },
      "text/html": [
       "<div>                            <div id=\"c79edd40-e08f-45fb-9252-374d1899f464\" class=\"plotly-graph-div\" style=\"height:500px; width:500px;\"></div>            <script type=\"text/javascript\">                require([\"plotly\"], function(Plotly) {                    window.PLOTLYENV=window.PLOTLYENV || {};                                    if (document.getElementById(\"c79edd40-e08f-45fb-9252-374d1899f464\")) {                    Plotly.newPlot(                        \"c79edd40-e08f-45fb-9252-374d1899f464\",                        [{\"x\":[10,15,20,25,30,35,40,45,50,55,60,65,70,75,80,85,90,95,100,105,110,115,120,125,130,135,140,145,150,155],\"y\":[1,2,3,4,5,6,7,8,9,10],\"z\":[[0.9337628865979382,0.9400558419243985,0.9337843642611684,0.9400128865979381,0.9379725085910653,0.9420747422680412,0.9441580756013745,0.9441795532646047,0.9420962199312715,0.937951030927835,0.9462414089347078,0.9400128865979381,0.9420962199312715,0.9441580756013745,0.9462414089347078,0.9420962199312715,0.9400558419243985,0.9483032646048108,0.9462414089347078,0.9441580756013745,0.9400343642611684,0.9400343642611684,0.9462199312714776,0.9441795532646047,0.9441580756013745,0.9462414089347078,0.9420962199312715,0.9420962199312715,0.9441365979381443,0.9420962199312715],[0.937951030927835,0.9379725085910653,0.9338273195876289,0.9400128865979381,0.9358676975945016,0.9379295532646047,0.9441795532646047,0.9421176975945016,0.9483032646048111,0.9462414089347078,0.9441580756013745,0.9400128865979381,0.9420747422680412,0.9379725085910653,0.9441580756013745,0.9400343642611684,0.9462414089347078,0.9420747422680412,0.9420962199312715,0.9483032646048111,0.9400343642611684,0.9420962199312715,0.9441580756013745,0.9483032646048111,0.9462199312714776,0.9441580756013745,0.9462199312714776,0.9420962199312715,0.9441580756013745,0.9441580756013745],[0.9379295532646047,0.9338058419243985,0.929639175257732,0.9358676975945016,0.929639175257732,0.9420532646048111,0.9379295532646049,0.9441580756013745,0.9420962199312715,0.9400343642611684,0.9400128865979381,0.9420962199312715,0.9420962199312715,0.9420532646048111,0.9441580756013745,0.9441580756013745,0.9441580756013745,0.9420962199312715,0.9399699312714777,0.9441580756013745,0.9420962199312715,0.9462199312714776,0.9420747422680413,0.9462199312714776,0.9462199312714776,0.9420747422680413,0.9441580756013745,0.9420747422680413,0.9441580756013745,0.9441580756013745],[0.9400128865979382,0.9358462199312715,0.937951030927835,0.939991408934708,0.9358676975945016,0.9358462199312715,0.9420962199312715,0.9358462199312715,0.9379080756013746,0.9441580756013745,0.9420747422680413,0.9379295532646047,0.9379295532646049,0.9441365979381444,0.9482817869415807,0.9400128865979381,0.9420962199312715,0.9462199312714776,0.9420747422680413,0.9441365979381444,0.9441365979381443,0.9400128865979382,0.9420532646048111,0.9420532646048111,0.9420747422680413,0.9420747422680413,0.9441580756013745,0.9441365979381443,0.9420747422680413,0.9441365979381444],[0.9296606529209622,0.937951030927835,0.9420747422680412,0.9441795532646049,0.9358676975945016,0.9400128865979382,0.9420962199312715,0.9338058419243985,0.9420962199312715,0.9420962199312715,0.939991408934708,0.9379295532646049,0.939991408934708,0.9400128865979381,0.9441795532646047,0.9399699312714777,0.9420747422680413,0.9420532646048111,0.9420747422680413,0.9358676975945016,0.939991408934708,0.9420747422680413,0.9420747422680413,0.9420747422680413,0.939991408934708,0.9420747422680413,0.9441580756013745,0.9420747422680413,0.939991408934708,0.9400128865979381],[0.9400343642611684,0.929725085910653,0.9441365979381443,0.937951030927835,0.9379510309278352,0.9379295532646047,0.9441580756013745,0.9358676975945016,0.9358676975945016,0.9400128865979381,0.9420747422680413,0.939991408934708,0.9441365979381444,0.939991408934708,0.9400128865979381,0.9420962199312715,0.9420532646048111,0.9400128865979381,0.939991408934708,0.9379295532646047,0.9400128865979382,0.9400128865979382,0.9441365979381444,0.9420747422680413,0.9420747422680413,0.939991408934708,0.9400128865979382,0.939991408934708,0.9420747422680413,0.9441365979381444],[0.939991408934708,0.9358676975945016,0.9420747422680413,0.946241408934708,0.9379295532646047,0.939991408934708,0.939991408934708,0.9358462199312715,0.9358676975945016,0.9420962199312715,0.9400343642611684,0.9400128865979381,0.939991408934708,0.9420532646048111,0.9420747422680413,0.9379295532646049,0.9420962199312715,0.9441365979381444,0.9420532646048111,0.9420747422680413,0.9420532646048111,0.9420532646048111,0.9420747422680413,0.9420747422680413,0.9400128865979381,0.9462199312714776,0.9420747422680413,0.9441365979381444,0.9441365979381444,0.9441365979381444],[0.9317010309278351,0.9337628865979383,0.9420747422680413,0.9399914089347078,0.9400128865979382,0.9420747422680413,0.9379295532646049,0.9420532646048111,0.9358247422680412,0.9400343642611684,0.9462199312714776,0.939991408934708,0.9420747422680413,0.9420747422680412,0.9441580756013745,0.939991408934708,0.9441580756013745,0.939991408934708,0.939991408934708,0.9379295532646047,0.9400128865979382,0.939991408934708,0.9441580756013745,0.9400128865979382,0.9400128865979381,0.9420747422680412,0.9420962199312715,0.9441580756013745,0.9400128865979382,0.9441365979381444],[0.9400128865979381,0.9317010309278351,0.9358676975945016,0.9421176975945018,0.9379295532646047,0.9337843642611684,0.939991408934708,0.9420532646048111,0.9441365979381444,0.9420747422680413,0.9420532646048111,0.9400128865979381,0.9400128865979382,0.9400343642611684,0.935889175257732,0.937951030927835,0.939991408934708,0.9400128865979382,0.9399699312714777,0.9462199312714776,0.9400128865979382,0.939991408934708,0.9400128865979382,0.9420747422680413,0.9420747422680413,0.939991408934708,0.9420532646048111,0.9400343642611684,0.9420747422680413,0.9441365979381444],[0.9296606529209622,0.939991408934708,0.9379295532646049,0.9462414089347078,0.9358676975945016,0.9441365979381443,0.9400128865979382,0.9379295532646047,0.9420747422680412,0.9358676975945016,0.9358676975945016,0.937951030927835,0.937951030927835,0.9400128865979381,0.939991408934708,0.9400128865979382,0.9400128865979382,0.9420962199312715,0.937951030927835,0.9420747422680412,0.9400128865979382,0.9420747422680413,0.9400128865979382,0.9420747422680413,0.9400128865979381,0.9400128865979382,0.9400128865979381,0.9420747422680413,0.9420747422680413,0.9400128865979382]],\"type\":\"surface\"}],                        {\"xaxis\":{\"title\":{\"text\":\"max features\"}},\"yaxis\":{\"title\":{\"text\":\"n estimators\"}},\"template\":{\"data\":{\"histogram2dcontour\":[{\"type\":\"histogram2dcontour\",\"colorbar\":{\"outlinewidth\":0,\"ticks\":\"\"},\"colorscale\":[[0.0,\"#0d0887\"],[0.1111111111111111,\"#46039f\"],[0.2222222222222222,\"#7201a8\"],[0.3333333333333333,\"#9c179e\"],[0.4444444444444444,\"#bd3786\"],[0.5555555555555556,\"#d8576b\"],[0.6666666666666666,\"#ed7953\"],[0.7777777777777778,\"#fb9f3a\"],[0.8888888888888888,\"#fdca26\"],[1.0,\"#f0f921\"]]}],\"choropleth\":[{\"type\":\"choropleth\",\"colorbar\":{\"outlinewidth\":0,\"ticks\":\"\"}}],\"histogram2d\":[{\"type\":\"histogram2d\",\"colorbar\":{\"outlinewidth\":0,\"ticks\":\"\"},\"colorscale\":[[0.0,\"#0d0887\"],[0.1111111111111111,\"#46039f\"],[0.2222222222222222,\"#7201a8\"],[0.3333333333333333,\"#9c179e\"],[0.4444444444444444,\"#bd3786\"],[0.5555555555555556,\"#d8576b\"],[0.6666666666666666,\"#ed7953\"],[0.7777777777777778,\"#fb9f3a\"],[0.8888888888888888,\"#fdca26\"],[1.0,\"#f0f921\"]]}],\"heatmap\":[{\"type\":\"heatmap\",\"colorbar\":{\"outlinewidth\":0,\"ticks\":\"\"},\"colorscale\":[[0.0,\"#0d0887\"],[0.1111111111111111,\"#46039f\"],[0.2222222222222222,\"#7201a8\"],[0.3333333333333333,\"#9c179e\"],[0.4444444444444444,\"#bd3786\"],[0.5555555555555556,\"#d8576b\"],[0.6666666666666666,\"#ed7953\"],[0.7777777777777778,\"#fb9f3a\"],[0.8888888888888888,\"#fdca26\"],[1.0,\"#f0f921\"]]}],\"heatmapgl\":[{\"type\":\"heatmapgl\",\"colorbar\":{\"outlinewidth\":0,\"ticks\":\"\"},\"colorscale\":[[0.0,\"#0d0887\"],[0.1111111111111111,\"#46039f\"],[0.2222222222222222,\"#7201a8\"],[0.3333333333333333,\"#9c179e\"],[0.4444444444444444,\"#bd3786\"],[0.5555555555555556,\"#d8576b\"],[0.6666666666666666,\"#ed7953\"],[0.7777777777777778,\"#fb9f3a\"],[0.8888888888888888,\"#fdca26\"],[1.0,\"#f0f921\"]]}],\"contourcarpet\":[{\"type\":\"contourcarpet\",\"colorbar\":{\"outlinewidth\":0,\"ticks\":\"\"}}],\"contour\":[{\"type\":\"contour\",\"colorbar\":{\"outlinewidth\":0,\"ticks\":\"\"},\"colorscale\":[[0.0,\"#0d0887\"],[0.1111111111111111,\"#46039f\"],[0.2222222222222222,\"#7201a8\"],[0.3333333333333333,\"#9c179e\"],[0.4444444444444444,\"#bd3786\"],[0.5555555555555556,\"#d8576b\"],[0.6666666666666666,\"#ed7953\"],[0.7777777777777778,\"#fb9f3a\"],[0.8888888888888888,\"#fdca26\"],[1.0,\"#f0f921\"]]}],\"surface\":[{\"type\":\"surface\",\"colorbar\":{\"outlinewidth\":0,\"ticks\":\"\"},\"colorscale\":[[0.0,\"#0d0887\"],[0.1111111111111111,\"#46039f\"],[0.2222222222222222,\"#7201a8\"],[0.3333333333333333,\"#9c179e\"],[0.4444444444444444,\"#bd3786\"],[0.5555555555555556,\"#d8576b\"],[0.6666666666666666,\"#ed7953\"],[0.7777777777777778,\"#fb9f3a\"],[0.8888888888888888,\"#fdca26\"],[1.0,\"#f0f921\"]]}],\"mesh3d\":[{\"type\":\"mesh3d\",\"colorbar\":{\"outlinewidth\":0,\"ticks\":\"\"}}],\"scatter\":[{\"fillpattern\":{\"fillmode\":\"overlay\",\"size\":10,\"solidity\":0.2},\"type\":\"scatter\"}],\"parcoords\":[{\"type\":\"parcoords\",\"line\":{\"colorbar\":{\"outlinewidth\":0,\"ticks\":\"\"}}}],\"scatterpolargl\":[{\"type\":\"scatterpolargl\",\"marker\":{\"colorbar\":{\"outlinewidth\":0,\"ticks\":\"\"}}}],\"bar\":[{\"error_x\":{\"color\":\"#2a3f5f\"},\"error_y\":{\"color\":\"#2a3f5f\"},\"marker\":{\"line\":{\"color\":\"#E5ECF6\",\"width\":0.5},\"pattern\":{\"fillmode\":\"overlay\",\"size\":10,\"solidity\":0.2}},\"type\":\"bar\"}],\"scattergeo\":[{\"type\":\"scattergeo\",\"marker\":{\"colorbar\":{\"outlinewidth\":0,\"ticks\":\"\"}}}],\"scatterpolar\":[{\"type\":\"scatterpolar\",\"marker\":{\"colorbar\":{\"outlinewidth\":0,\"ticks\":\"\"}}}],\"histogram\":[{\"marker\":{\"pattern\":{\"fillmode\":\"overlay\",\"size\":10,\"solidity\":0.2}},\"type\":\"histogram\"}],\"scattergl\":[{\"type\":\"scattergl\",\"marker\":{\"colorbar\":{\"outlinewidth\":0,\"ticks\":\"\"}}}],\"scatter3d\":[{\"type\":\"scatter3d\",\"line\":{\"colorbar\":{\"outlinewidth\":0,\"ticks\":\"\"}},\"marker\":{\"colorbar\":{\"outlinewidth\":0,\"ticks\":\"\"}}}],\"scattermapbox\":[{\"type\":\"scattermapbox\",\"marker\":{\"colorbar\":{\"outlinewidth\":0,\"ticks\":\"\"}}}],\"scatterternary\":[{\"type\":\"scatterternary\",\"marker\":{\"colorbar\":{\"outlinewidth\":0,\"ticks\":\"\"}}}],\"scattercarpet\":[{\"type\":\"scattercarpet\",\"marker\":{\"colorbar\":{\"outlinewidth\":0,\"ticks\":\"\"}}}],\"carpet\":[{\"aaxis\":{\"endlinecolor\":\"#2a3f5f\",\"gridcolor\":\"white\",\"linecolor\":\"white\",\"minorgridcolor\":\"white\",\"startlinecolor\":\"#2a3f5f\"},\"baxis\":{\"endlinecolor\":\"#2a3f5f\",\"gridcolor\":\"white\",\"linecolor\":\"white\",\"minorgridcolor\":\"white\",\"startlinecolor\":\"#2a3f5f\"},\"type\":\"carpet\"}],\"table\":[{\"cells\":{\"fill\":{\"color\":\"#EBF0F8\"},\"line\":{\"color\":\"white\"}},\"header\":{\"fill\":{\"color\":\"#C8D4E3\"},\"line\":{\"color\":\"white\"}},\"type\":\"table\"}],\"barpolar\":[{\"marker\":{\"line\":{\"color\":\"#E5ECF6\",\"width\":0.5},\"pattern\":{\"fillmode\":\"overlay\",\"size\":10,\"solidity\":0.2}},\"type\":\"barpolar\"}],\"pie\":[{\"automargin\":true,\"type\":\"pie\"}]},\"layout\":{\"autotypenumbers\":\"strict\",\"colorway\":[\"#636efa\",\"#EF553B\",\"#00cc96\",\"#ab63fa\",\"#FFA15A\",\"#19d3f3\",\"#FF6692\",\"#B6E880\",\"#FF97FF\",\"#FECB52\"],\"font\":{\"color\":\"#2a3f5f\"},\"hovermode\":\"closest\",\"hoverlabel\":{\"align\":\"left\"},\"paper_bgcolor\":\"white\",\"plot_bgcolor\":\"#E5ECF6\",\"polar\":{\"bgcolor\":\"#E5ECF6\",\"angularaxis\":{\"gridcolor\":\"white\",\"linecolor\":\"white\",\"ticks\":\"\"},\"radialaxis\":{\"gridcolor\":\"white\",\"linecolor\":\"white\",\"ticks\":\"\"}},\"ternary\":{\"bgcolor\":\"#E5ECF6\",\"aaxis\":{\"gridcolor\":\"white\",\"linecolor\":\"white\",\"ticks\":\"\"},\"baxis\":{\"gridcolor\":\"white\",\"linecolor\":\"white\",\"ticks\":\"\"},\"caxis\":{\"gridcolor\":\"white\",\"linecolor\":\"white\",\"ticks\":\"\"}},\"coloraxis\":{\"colorbar\":{\"outlinewidth\":0,\"ticks\":\"\"}},\"colorscale\":{\"sequential\":[[0.0,\"#0d0887\"],[0.1111111111111111,\"#46039f\"],[0.2222222222222222,\"#7201a8\"],[0.3333333333333333,\"#9c179e\"],[0.4444444444444444,\"#bd3786\"],[0.5555555555555556,\"#d8576b\"],[0.6666666666666666,\"#ed7953\"],[0.7777777777777778,\"#fb9f3a\"],[0.8888888888888888,\"#fdca26\"],[1.0,\"#f0f921\"]],\"sequentialminus\":[[0.0,\"#0d0887\"],[0.1111111111111111,\"#46039f\"],[0.2222222222222222,\"#7201a8\"],[0.3333333333333333,\"#9c179e\"],[0.4444444444444444,\"#bd3786\"],[0.5555555555555556,\"#d8576b\"],[0.6666666666666666,\"#ed7953\"],[0.7777777777777778,\"#fb9f3a\"],[0.8888888888888888,\"#fdca26\"],[1.0,\"#f0f921\"]],\"diverging\":[[0,\"#8e0152\"],[0.1,\"#c51b7d\"],[0.2,\"#de77ae\"],[0.3,\"#f1b6da\"],[0.4,\"#fde0ef\"],[0.5,\"#f7f7f7\"],[0.6,\"#e6f5d0\"],[0.7,\"#b8e186\"],[0.8,\"#7fbc41\"],[0.9,\"#4d9221\"],[1,\"#276419\"]]},\"xaxis\":{\"gridcolor\":\"white\",\"linecolor\":\"white\",\"ticks\":\"\",\"title\":{\"standoff\":15},\"zerolinecolor\":\"white\",\"automargin\":true,\"zerolinewidth\":2},\"yaxis\":{\"gridcolor\":\"white\",\"linecolor\":\"white\",\"ticks\":\"\",\"title\":{\"standoff\":15},\"zerolinecolor\":\"white\",\"automargin\":true,\"zerolinewidth\":2},\"scene\":{\"xaxis\":{\"backgroundcolor\":\"#E5ECF6\",\"gridcolor\":\"white\",\"linecolor\":\"white\",\"showbackground\":true,\"ticks\":\"\",\"zerolinecolor\":\"white\",\"gridwidth\":2},\"yaxis\":{\"backgroundcolor\":\"#E5ECF6\",\"gridcolor\":\"white\",\"linecolor\":\"white\",\"showbackground\":true,\"ticks\":\"\",\"zerolinecolor\":\"white\",\"gridwidth\":2},\"zaxis\":{\"backgroundcolor\":\"#E5ECF6\",\"gridcolor\":\"white\",\"linecolor\":\"white\",\"showbackground\":true,\"ticks\":\"\",\"zerolinecolor\":\"white\",\"gridwidth\":2}},\"shapedefaults\":{\"line\":{\"color\":\"#2a3f5f\"}},\"annotationdefaults\":{\"arrowcolor\":\"#2a3f5f\",\"arrowhead\":0,\"arrowwidth\":1},\"geo\":{\"bgcolor\":\"white\",\"landcolor\":\"#E5ECF6\",\"subunitcolor\":\"white\",\"showland\":true,\"showlakes\":true,\"lakecolor\":\"white\"},\"title\":{\"x\":0.05},\"mapbox\":{\"style\":\"light\"}}},\"margin\":{\"l\":65,\"r\":50,\"b\":65,\"t\":90},\"title\":{\"text\":\"Random Forest Hyperparameter Tuning\"},\"scene\":{\"xaxis\":{\"title\":{\"text\":\"n estimators\"}},\"yaxis\":{\"title\":{\"text\":\"max features\"}},\"zaxis\":{\"title\":{\"text\":\"Accuracy\"}}},\"autosize\":false,\"width\":500,\"height\":500},                        {\"responsive\": true}                    ).then(function(){\n",
       "                            \n",
       "var gd = document.getElementById('c79edd40-e08f-45fb-9252-374d1899f464');\n",
       "var x = new MutationObserver(function (mutations, observer) {{\n",
       "        var display = window.getComputedStyle(gd).display;\n",
       "        if (!display || display === 'none') {{\n",
       "            console.log([gd, 'removed!']);\n",
       "            Plotly.purge(gd);\n",
       "            observer.disconnect();\n",
       "        }}\n",
       "}});\n",
       "\n",
       "// Listen for the removal of the full notebook cells\n",
       "var notebookContainer = gd.closest('#notebook-container');\n",
       "if (notebookContainer) {{\n",
       "    x.observe(notebookContainer, {childList: true});\n",
       "}}\n",
       "\n",
       "// Listen for the clearing of the current output cell\n",
       "var outputEl = gd.closest('.output');\n",
       "if (outputEl) {{\n",
       "    x.observe(outputEl, {childList: true});\n",
       "}}\n",
       "\n",
       "                        })                };                });            </script>        </div>"
      ]
     },
     "metadata": {},
     "output_type": "display_data"
    }
   ],
   "source": [
    "fig = go.Figure(data = [go.Surface(z=z, y=y, x=x)], layout=layout)\n",
    "fig.update_layout(title='Random Forest Hyperparameter Tuning', scene = dict(xaxis_title='n estimators', yaxis_title='max features', zaxis_title='Accuracy'), autosize=False, width=500, height=500, margin=dict(l=65, r=50, b=65, t=90))\n",
    "\n",
    "fig.show()"
   ]
  },
  {
   "cell_type": "markdown",
   "id": "49291fee",
   "metadata": {},
   "source": [
    "## AdaBoost Hyperparameter Tuning"
   ]
  },
  {
   "cell_type": "code",
   "execution_count": 174,
   "id": "8e680b5e",
   "metadata": {},
   "outputs": [
    {
     "data": {
      "text/html": [
       "<style>#sk-container-id-7 {color: black;background-color: white;}#sk-container-id-7 pre{padding: 0;}#sk-container-id-7 div.sk-toggleable {background-color: white;}#sk-container-id-7 label.sk-toggleable__label {cursor: pointer;display: block;width: 100%;margin-bottom: 0;padding: 0.3em;box-sizing: border-box;text-align: center;}#sk-container-id-7 label.sk-toggleable__label-arrow:before {content: \"▸\";float: left;margin-right: 0.25em;color: #696969;}#sk-container-id-7 label.sk-toggleable__label-arrow:hover:before {color: black;}#sk-container-id-7 div.sk-estimator:hover label.sk-toggleable__label-arrow:before {color: black;}#sk-container-id-7 div.sk-toggleable__content {max-height: 0;max-width: 0;overflow: hidden;text-align: left;background-color: #f0f8ff;}#sk-container-id-7 div.sk-toggleable__content pre {margin: 0.2em;color: black;border-radius: 0.25em;background-color: #f0f8ff;}#sk-container-id-7 input.sk-toggleable__control:checked~div.sk-toggleable__content {max-height: 200px;max-width: 100%;overflow: auto;}#sk-container-id-7 input.sk-toggleable__control:checked~label.sk-toggleable__label-arrow:before {content: \"▾\";}#sk-container-id-7 div.sk-estimator input.sk-toggleable__control:checked~label.sk-toggleable__label {background-color: #d4ebff;}#sk-container-id-7 div.sk-label input.sk-toggleable__control:checked~label.sk-toggleable__label {background-color: #d4ebff;}#sk-container-id-7 input.sk-hidden--visually {border: 0;clip: rect(1px 1px 1px 1px);clip: rect(1px, 1px, 1px, 1px);height: 1px;margin: -1px;overflow: hidden;padding: 0;position: absolute;width: 1px;}#sk-container-id-7 div.sk-estimator {font-family: monospace;background-color: #f0f8ff;border: 1px dotted black;border-radius: 0.25em;box-sizing: border-box;margin-bottom: 0.5em;}#sk-container-id-7 div.sk-estimator:hover {background-color: #d4ebff;}#sk-container-id-7 div.sk-parallel-item::after {content: \"\";width: 100%;border-bottom: 1px solid gray;flex-grow: 1;}#sk-container-id-7 div.sk-label:hover label.sk-toggleable__label {background-color: #d4ebff;}#sk-container-id-7 div.sk-serial::before {content: \"\";position: absolute;border-left: 1px solid gray;box-sizing: border-box;top: 0;bottom: 0;left: 50%;z-index: 0;}#sk-container-id-7 div.sk-serial {display: flex;flex-direction: column;align-items: center;background-color: white;padding-right: 0.2em;padding-left: 0.2em;position: relative;}#sk-container-id-7 div.sk-item {position: relative;z-index: 1;}#sk-container-id-7 div.sk-parallel {display: flex;align-items: stretch;justify-content: center;background-color: white;position: relative;}#sk-container-id-7 div.sk-item::before, #sk-container-id-7 div.sk-parallel-item::before {content: \"\";position: absolute;border-left: 1px solid gray;box-sizing: border-box;top: 0;bottom: 0;left: 50%;z-index: -1;}#sk-container-id-7 div.sk-parallel-item {display: flex;flex-direction: column;z-index: 1;position: relative;background-color: white;}#sk-container-id-7 div.sk-parallel-item:first-child::after {align-self: flex-end;width: 50%;}#sk-container-id-7 div.sk-parallel-item:last-child::after {align-self: flex-start;width: 50%;}#sk-container-id-7 div.sk-parallel-item:only-child::after {width: 0;}#sk-container-id-7 div.sk-dashed-wrapped {border: 1px dashed gray;margin: 0 0.4em 0.5em 0.4em;box-sizing: border-box;padding-bottom: 0.4em;background-color: white;}#sk-container-id-7 div.sk-label label {font-family: monospace;font-weight: bold;display: inline-block;line-height: 1.2em;}#sk-container-id-7 div.sk-label-container {text-align: center;}#sk-container-id-7 div.sk-container {/* jupyter's `normalize.less` sets `[hidden] { display: none; }` but bootstrap.min.css set `[hidden] { display: none !important; }` so we also need the `!important` here to be able to override the default hidden behavior on the sphinx rendered scikit-learn.org. See: https://github.com/scikit-learn/scikit-learn/issues/21755 */display: inline-block !important;position: relative;}#sk-container-id-7 div.sk-text-repr-fallback {display: none;}</style><div id=\"sk-container-id-7\" class=\"sk-top-container\"><div class=\"sk-text-repr-fallback\"><pre>GridSearchCV(cv=5, estimator=AdaBoostClassifier(),\n",
       "             param_grid={&#x27;learning_rate&#x27;: [0.1, 0.2, 0.3, 0.4, 0.5, 0.6, 0.7,\n",
       "                                           0.8, 0.9, 1],\n",
       "                         &#x27;n_estimators&#x27;: array([ 10,  20,  30,  40,  50,  60,  70,  80,  90, 100, 110, 120, 130,\n",
       "       140, 150, 160, 170, 180, 190, 200, 210, 220, 230, 240, 250])})</pre><b>In a Jupyter environment, please rerun this cell to show the HTML representation or trust the notebook. <br />On GitHub, the HTML representation is unable to render, please try loading this page with nbviewer.org.</b></div><div class=\"sk-container\" hidden><div class=\"sk-item sk-dashed-wrapped\"><div class=\"sk-label-container\"><div class=\"sk-label sk-toggleable\"><input class=\"sk-toggleable__control sk-hidden--visually\" id=\"sk-estimator-id-19\" type=\"checkbox\" ><label for=\"sk-estimator-id-19\" class=\"sk-toggleable__label sk-toggleable__label-arrow\">GridSearchCV</label><div class=\"sk-toggleable__content\"><pre>GridSearchCV(cv=5, estimator=AdaBoostClassifier(),\n",
       "             param_grid={&#x27;learning_rate&#x27;: [0.1, 0.2, 0.3, 0.4, 0.5, 0.6, 0.7,\n",
       "                                           0.8, 0.9, 1],\n",
       "                         &#x27;n_estimators&#x27;: array([ 10,  20,  30,  40,  50,  60,  70,  80,  90, 100, 110, 120, 130,\n",
       "       140, 150, 160, 170, 180, 190, 200, 210, 220, 230, 240, 250])})</pre></div></div></div><div class=\"sk-parallel\"><div class=\"sk-parallel-item\"><div class=\"sk-item\"><div class=\"sk-label-container\"><div class=\"sk-label sk-toggleable\"><input class=\"sk-toggleable__control sk-hidden--visually\" id=\"sk-estimator-id-20\" type=\"checkbox\" ><label for=\"sk-estimator-id-20\" class=\"sk-toggleable__label sk-toggleable__label-arrow\">estimator: AdaBoostClassifier</label><div class=\"sk-toggleable__content\"><pre>AdaBoostClassifier()</pre></div></div></div><div class=\"sk-serial\"><div class=\"sk-item\"><div class=\"sk-estimator sk-toggleable\"><input class=\"sk-toggleable__control sk-hidden--visually\" id=\"sk-estimator-id-21\" type=\"checkbox\" ><label for=\"sk-estimator-id-21\" class=\"sk-toggleable__label sk-toggleable__label-arrow\">AdaBoostClassifier</label><div class=\"sk-toggleable__content\"><pre>AdaBoostClassifier()</pre></div></div></div></div></div></div></div></div></div></div>"
      ],
      "text/plain": [
       "GridSearchCV(cv=5, estimator=AdaBoostClassifier(),\n",
       "             param_grid={'learning_rate': [0.1, 0.2, 0.3, 0.4, 0.5, 0.6, 0.7,\n",
       "                                           0.8, 0.9, 1],\n",
       "                         'n_estimators': array([ 10,  20,  30,  40,  50,  60,  70,  80,  90, 100, 110, 120, 130,\n",
       "       140, 150, 160, 170, 180, 190, 200, 210, 220, 230, 240, 250])})"
      ]
     },
     "execution_count": 174,
     "metadata": {},
     "output_type": "execute_result"
    }
   ],
   "source": [
    "model = AdaBoostClassifier()\n",
    "n_estimators = np.arange(10, 260, 10)\n",
    "learning_rate = [.1, .2, .3, .4, .5, .6, .7, .8, .9, 1]\n",
    "param_grid = {'n_estimators': n_estimators, 'learning_rate': learning_rate}\n",
    "ada_gs = GridSearchCV(estimator=model, param_grid=param_grid, cv=5)\n",
    "ada_gs.fit(X2_train, Y2_train)"
   ]
  },
  {
   "cell_type": "markdown",
   "id": "83b5e847",
   "metadata": {},
   "source": [
    "## Optimal AdaBoost Accuracy"
   ]
  },
  {
   "cell_type": "code",
   "execution_count": 176,
   "id": "c8ba0a20",
   "metadata": {},
   "outputs": [
    {
     "name": "stdout",
     "output_type": "stream",
     "text": [
      "0.9585481099656358 {'learning_rate': 0.1, 'n_estimators': 40}\n"
     ]
    }
   ],
   "source": [
    "print(ada_gs.best_score_, ada_gs.best_params_)"
   ]
  },
  {
   "cell_type": "code",
   "execution_count": 177,
   "id": "6826066c",
   "metadata": {},
   "outputs": [
    {
     "data": {
      "text/html": [
       "<div>\n",
       "<style scoped>\n",
       "    .dataframe tbody tr th:only-of-type {\n",
       "        vertical-align: middle;\n",
       "    }\n",
       "\n",
       "    .dataframe tbody tr th {\n",
       "        vertical-align: top;\n",
       "    }\n",
       "\n",
       "    .dataframe thead th {\n",
       "        text-align: right;\n",
       "    }\n",
       "</style>\n",
       "<table border=\"1\" class=\"dataframe\">\n",
       "  <thead>\n",
       "    <tr style=\"text-align: right;\">\n",
       "      <th></th>\n",
       "      <th>accuracy</th>\n",
       "      <th>learning_rate</th>\n",
       "      <th>n_estimators</th>\n",
       "    </tr>\n",
       "  </thead>\n",
       "  <tbody>\n",
       "    <tr>\n",
       "      <th>0</th>\n",
       "      <td>0.946134</td>\n",
       "      <td>0.1</td>\n",
       "      <td>10</td>\n",
       "    </tr>\n",
       "    <tr>\n",
       "      <th>1</th>\n",
       "      <td>0.950279</td>\n",
       "      <td>0.1</td>\n",
       "      <td>20</td>\n",
       "    </tr>\n",
       "    <tr>\n",
       "      <th>2</th>\n",
       "      <td>0.952363</td>\n",
       "      <td>0.1</td>\n",
       "      <td>30</td>\n",
       "    </tr>\n",
       "    <tr>\n",
       "      <th>3</th>\n",
       "      <td>0.958548</td>\n",
       "      <td>0.1</td>\n",
       "      <td>40</td>\n",
       "    </tr>\n",
       "    <tr>\n",
       "      <th>4</th>\n",
       "      <td>0.958548</td>\n",
       "      <td>0.1</td>\n",
       "      <td>50</td>\n",
       "    </tr>\n",
       "    <tr>\n",
       "      <th>...</th>\n",
       "      <td>...</td>\n",
       "      <td>...</td>\n",
       "      <td>...</td>\n",
       "    </tr>\n",
       "    <tr>\n",
       "      <th>245</th>\n",
       "      <td>0.937908</td>\n",
       "      <td>1.0</td>\n",
       "      <td>210</td>\n",
       "    </tr>\n",
       "    <tr>\n",
       "      <th>246</th>\n",
       "      <td>0.939970</td>\n",
       "      <td>1.0</td>\n",
       "      <td>220</td>\n",
       "    </tr>\n",
       "    <tr>\n",
       "      <th>247</th>\n",
       "      <td>0.937908</td>\n",
       "      <td>1.0</td>\n",
       "      <td>230</td>\n",
       "    </tr>\n",
       "    <tr>\n",
       "      <th>248</th>\n",
       "      <td>0.937908</td>\n",
       "      <td>1.0</td>\n",
       "      <td>240</td>\n",
       "    </tr>\n",
       "    <tr>\n",
       "      <th>249</th>\n",
       "      <td>0.937908</td>\n",
       "      <td>1.0</td>\n",
       "      <td>250</td>\n",
       "    </tr>\n",
       "  </tbody>\n",
       "</table>\n",
       "<p>250 rows × 3 columns</p>\n",
       "</div>"
      ],
      "text/plain": [
       "     accuracy  learning_rate  n_estimators\n",
       "0    0.946134            0.1            10\n",
       "1    0.950279            0.1            20\n",
       "2    0.952363            0.1            30\n",
       "3    0.958548            0.1            40\n",
       "4    0.958548            0.1            50\n",
       "..        ...            ...           ...\n",
       "245  0.937908            1.0           210\n",
       "246  0.939970            1.0           220\n",
       "247  0.937908            1.0           230\n",
       "248  0.937908            1.0           240\n",
       "249  0.937908            1.0           250\n",
       "\n",
       "[250 rows x 3 columns]"
      ]
     },
     "execution_count": 177,
     "metadata": {},
     "output_type": "execute_result"
    }
   ],
   "source": [
    "ada_grid_results = pd.concat([pd.DataFrame(ada_gs.cv_results_['mean_test_score'], columns=['accuracy'])])\n",
    "ada_grid_results[[ 'learning_rate','n_estimators']] = pd.DataFrame(ada_gs.cv_results_['params'])\n",
    "ada_grid_results"
   ]
  },
  {
   "cell_type": "code",
   "execution_count": 178,
   "id": "d1e88ec3",
   "metadata": {},
   "outputs": [
    {
     "data": {
      "text/html": [
       "<div>\n",
       "<style scoped>\n",
       "    .dataframe tbody tr th:only-of-type {\n",
       "        vertical-align: middle;\n",
       "    }\n",
       "\n",
       "    .dataframe tbody tr th {\n",
       "        vertical-align: top;\n",
       "    }\n",
       "\n",
       "    .dataframe thead th {\n",
       "        text-align: right;\n",
       "    }\n",
       "</style>\n",
       "<table border=\"1\" class=\"dataframe\">\n",
       "  <thead>\n",
       "    <tr style=\"text-align: right;\">\n",
       "      <th></th>\n",
       "      <th></th>\n",
       "      <th>accuracy</th>\n",
       "    </tr>\n",
       "    <tr>\n",
       "      <th>learning_rate</th>\n",
       "      <th>n_estimators</th>\n",
       "      <th></th>\n",
       "    </tr>\n",
       "  </thead>\n",
       "  <tbody>\n",
       "    <tr>\n",
       "      <th rowspan=\"5\" valign=\"top\">0.1</th>\n",
       "      <th>10</th>\n",
       "      <td>0.946134</td>\n",
       "    </tr>\n",
       "    <tr>\n",
       "      <th>20</th>\n",
       "      <td>0.950279</td>\n",
       "    </tr>\n",
       "    <tr>\n",
       "      <th>30</th>\n",
       "      <td>0.952363</td>\n",
       "    </tr>\n",
       "    <tr>\n",
       "      <th>40</th>\n",
       "      <td>0.958548</td>\n",
       "    </tr>\n",
       "    <tr>\n",
       "      <th>50</th>\n",
       "      <td>0.958548</td>\n",
       "    </tr>\n",
       "    <tr>\n",
       "      <th>...</th>\n",
       "      <th>...</th>\n",
       "      <td>...</td>\n",
       "    </tr>\n",
       "    <tr>\n",
       "      <th rowspan=\"5\" valign=\"top\">1.0</th>\n",
       "      <th>210</th>\n",
       "      <td>0.937908</td>\n",
       "    </tr>\n",
       "    <tr>\n",
       "      <th>220</th>\n",
       "      <td>0.939970</td>\n",
       "    </tr>\n",
       "    <tr>\n",
       "      <th>230</th>\n",
       "      <td>0.937908</td>\n",
       "    </tr>\n",
       "    <tr>\n",
       "      <th>240</th>\n",
       "      <td>0.937908</td>\n",
       "    </tr>\n",
       "    <tr>\n",
       "      <th>250</th>\n",
       "      <td>0.937908</td>\n",
       "    </tr>\n",
       "  </tbody>\n",
       "</table>\n",
       "<p>250 rows × 1 columns</p>\n",
       "</div>"
      ],
      "text/plain": [
       "                            accuracy\n",
       "learning_rate n_estimators          \n",
       "0.1           10            0.946134\n",
       "              20            0.950279\n",
       "              30            0.952363\n",
       "              40            0.958548\n",
       "              50            0.958548\n",
       "...                              ...\n",
       "1.0           210           0.937908\n",
       "              220           0.939970\n",
       "              230           0.937908\n",
       "              240           0.937908\n",
       "              250           0.937908\n",
       "\n",
       "[250 rows x 1 columns]"
      ]
     },
     "execution_count": 178,
     "metadata": {},
     "output_type": "execute_result"
    }
   ],
   "source": [
    "ada_grid_contour = ada_grid_results.groupby([ 'learning_rate', 'n_estimators']).mean()\n",
    "ada_grid_contour"
   ]
  },
  {
   "cell_type": "code",
   "execution_count": 179,
   "id": "73a711b0",
   "metadata": {},
   "outputs": [
    {
     "data": {
      "text/html": [
       "<div>\n",
       "<style scoped>\n",
       "    .dataframe tbody tr th:only-of-type {\n",
       "        vertical-align: middle;\n",
       "    }\n",
       "\n",
       "    .dataframe tbody tr th {\n",
       "        vertical-align: top;\n",
       "    }\n",
       "\n",
       "    .dataframe thead tr th {\n",
       "        text-align: left;\n",
       "    }\n",
       "\n",
       "    .dataframe thead tr:last-of-type th {\n",
       "        text-align: right;\n",
       "    }\n",
       "</style>\n",
       "<table border=\"1\" class=\"dataframe\">\n",
       "  <thead>\n",
       "    <tr>\n",
       "      <th></th>\n",
       "      <th colspan=\"10\" halign=\"left\">Accuracy</th>\n",
       "    </tr>\n",
       "    <tr>\n",
       "      <th>learning_rate</th>\n",
       "      <th>0.1</th>\n",
       "      <th>0.2</th>\n",
       "      <th>0.3</th>\n",
       "      <th>0.4</th>\n",
       "      <th>0.5</th>\n",
       "      <th>0.6</th>\n",
       "      <th>0.7</th>\n",
       "      <th>0.8</th>\n",
       "      <th>0.9</th>\n",
       "      <th>1.0</th>\n",
       "    </tr>\n",
       "    <tr>\n",
       "      <th>n_estimators</th>\n",
       "      <th></th>\n",
       "      <th></th>\n",
       "      <th></th>\n",
       "      <th></th>\n",
       "      <th></th>\n",
       "      <th></th>\n",
       "      <th></th>\n",
       "      <th></th>\n",
       "      <th></th>\n",
       "      <th></th>\n",
       "    </tr>\n",
       "  </thead>\n",
       "  <tbody>\n",
       "    <tr>\n",
       "      <th>10</th>\n",
       "      <td>0.946134</td>\n",
       "      <td>0.944072</td>\n",
       "      <td>0.948217</td>\n",
       "      <td>0.950279</td>\n",
       "      <td>0.944051</td>\n",
       "      <td>0.946155</td>\n",
       "      <td>0.950279</td>\n",
       "      <td>0.942010</td>\n",
       "      <td>0.942032</td>\n",
       "      <td>0.942032</td>\n",
       "    </tr>\n",
       "    <tr>\n",
       "      <th>20</th>\n",
       "      <td>0.950279</td>\n",
       "      <td>0.950279</td>\n",
       "      <td>0.950279</td>\n",
       "      <td>0.952341</td>\n",
       "      <td>0.950301</td>\n",
       "      <td>0.950301</td>\n",
       "      <td>0.942032</td>\n",
       "      <td>0.944115</td>\n",
       "      <td>0.946177</td>\n",
       "      <td>0.939927</td>\n",
       "    </tr>\n",
       "    <tr>\n",
       "      <th>30</th>\n",
       "      <td>0.952363</td>\n",
       "      <td>0.952363</td>\n",
       "      <td>0.950279</td>\n",
       "      <td>0.952363</td>\n",
       "      <td>0.954424</td>\n",
       "      <td>0.950301</td>\n",
       "      <td>0.942053</td>\n",
       "      <td>0.946177</td>\n",
       "      <td>0.944094</td>\n",
       "      <td>0.948239</td>\n",
       "    </tr>\n",
       "    <tr>\n",
       "      <th>40</th>\n",
       "      <td>0.958548</td>\n",
       "      <td>0.952341</td>\n",
       "      <td>0.954424</td>\n",
       "      <td>0.952363</td>\n",
       "      <td>0.950279</td>\n",
       "      <td>0.948239</td>\n",
       "      <td>0.942053</td>\n",
       "      <td>0.946177</td>\n",
       "      <td>0.942032</td>\n",
       "      <td>0.937908</td>\n",
       "    </tr>\n",
       "    <tr>\n",
       "      <th>50</th>\n",
       "      <td>0.958548</td>\n",
       "      <td>0.954424</td>\n",
       "      <td>0.954424</td>\n",
       "      <td>0.954424</td>\n",
       "      <td>0.948217</td>\n",
       "      <td>0.952363</td>\n",
       "      <td>0.946177</td>\n",
       "      <td>0.944115</td>\n",
       "      <td>0.948239</td>\n",
       "      <td>0.939970</td>\n",
       "    </tr>\n",
       "  </tbody>\n",
       "</table>\n",
       "</div>"
      ],
      "text/plain": [
       "               Accuracy                                                    \\\n",
       "learning_rate       0.1       0.2       0.3       0.4       0.5       0.6   \n",
       "n_estimators                                                                \n",
       "10             0.946134  0.944072  0.948217  0.950279  0.944051  0.946155   \n",
       "20             0.950279  0.950279  0.950279  0.952341  0.950301  0.950301   \n",
       "30             0.952363  0.952363  0.950279  0.952363  0.954424  0.950301   \n",
       "40             0.958548  0.952341  0.954424  0.952363  0.950279  0.948239   \n",
       "50             0.958548  0.954424  0.954424  0.954424  0.948217  0.952363   \n",
       "\n",
       "                                                       \n",
       "learning_rate       0.7       0.8       0.9       1.0  \n",
       "n_estimators                                           \n",
       "10             0.950279  0.942010  0.942032  0.942032  \n",
       "20             0.942032  0.944115  0.946177  0.939927  \n",
       "30             0.942053  0.946177  0.944094  0.948239  \n",
       "40             0.942053  0.946177  0.942032  0.937908  \n",
       "50             0.946177  0.944115  0.948239  0.939970  "
      ]
     },
     "execution_count": 179,
     "metadata": {},
     "output_type": "execute_result"
    }
   ],
   "source": [
    "ada_grid_reset = ada_grid_contour.reset_index()\n",
    "ada_grid_reset.columns = [ 'learning_rate','n_estimators', 'Accuracy']\n",
    "ada_grid_pivot = ada_grid_reset.pivot('n_estimators', 'learning_rate')\n",
    "ada_grid_pivot.head()"
   ]
  },
  {
   "cell_type": "code",
   "execution_count": 180,
   "id": "490368eb",
   "metadata": {},
   "outputs": [],
   "source": [
    "x = ada_grid_pivot.columns.levels[1].values\n",
    "y = ada_grid_pivot.index.values\n",
    "z = ada_grid_pivot.values"
   ]
  },
  {
   "cell_type": "code",
   "execution_count": 181,
   "id": "cc3ced1f",
   "metadata": {},
   "outputs": [
    {
     "data": {
      "application/vnd.plotly.v1+json": {
       "config": {
        "plotlyServerURL": "https://plot.ly"
       },
       "data": [
        {
         "type": "contour",
         "x": [
          0.1,
          0.2,
          0.3,
          0.4,
          0.5,
          0.6,
          0.7,
          0.8,
          0.9,
          1
         ],
         "y": [
          10,
          20,
          30,
          40,
          50,
          60,
          70,
          80,
          90,
          100,
          110,
          120,
          130,
          140,
          150,
          160,
          170,
          180,
          190,
          200,
          210,
          220,
          230,
          240,
          250
         ],
         "z": [
          [
           0.9461340206185568,
           0.9440721649484537,
           0.94821735395189,
           0.9502792096219931,
           0.9440506872852235,
           0.9461554982817869,
           0.9502792096219931,
           0.9420103092783505,
           0.9420317869415807,
           0.9420317869415807
          ],
          [
           0.9502792096219931,
           0.9502792096219931,
           0.9502792096219931,
           0.9523410652920962,
           0.9503006872852234,
           0.9503006872852234,
           0.9420317869415807,
           0.9441151202749142,
           0.9461769759450173,
           0.9399269759450173
          ],
          [
           0.9523625429553265,
           0.9523625429553265,
           0.9502792096219931,
           0.9523625429553265,
           0.9544243986254296,
           0.9503006872852234,
           0.9420532646048111,
           0.9461769759450173,
           0.9440936426116838,
           0.9482388316151203
          ],
          [
           0.9585481099656358,
           0.9523410652920962,
           0.9544243986254296,
           0.9523625429553265,
           0.9502792096219931,
           0.9482388316151203,
           0.9420532646048111,
           0.9461769759450173,
           0.9420317869415807,
           0.9379080756013746
          ],
          [
           0.9585481099656358,
           0.9544243986254296,
           0.9544243986254296,
           0.9544243986254296,
           0.94821735395189,
           0.9523625429553265,
           0.9461769759450173,
           0.9441151202749142,
           0.9482388316151203,
           0.9399699312714777
          ],
          [
           0.9544243986254296,
           0.9523410652920962,
           0.9564862542955327,
           0.9523625429553265,
           0.9502792096219931,
           0.9461769759450173,
           0.9441151202749142,
           0.9441151202749142,
           0.9461769759450173,
           0.9440936426116838
          ],
          [
           0.9564862542955327,
           0.9564862542955327,
           0.9503006872852234,
           0.9482388316151203,
           0.94821735395189,
           0.9482388316151203,
           0.939991408934708,
           0.9420317869415807,
           0.9461769759450173,
           0.9420317869415807
          ],
          [
           0.9564862542955327,
           0.9523625429553265,
           0.9503006872852234,
           0.9482388316151203,
           0.9461554982817869,
           0.94821735395189,
           0.9379295532646047,
           0.9420317869415807,
           0.9440936426116838,
           0.9420317869415807
          ],
          [
           0.9564862542955327,
           0.9523625429553265,
           0.9544243986254296,
           0.9482388316151203,
           0.9440936426116838,
           0.9461769759450173,
           0.939991408934708,
           0.9378865979381444,
           0.9399484536082475,
           0.9420103092783506
          ],
          [
           0.9564862542955327,
           0.9523625429553265,
           0.9523625429553265,
           0.9482388316151203,
           0.9461554982817869,
           0.9399699312714777,
           0.9420532646048109,
           0.9337628865979383,
           0.9358247422680412,
           0.9440936426116838
          ],
          [
           0.9564862542955327,
           0.9523625429553265,
           0.9482388316151203,
           0.9503006872852234,
           0.9440721649484537,
           0.9420317869415807,
           0.9399914089347078,
           0.9337628865979383,
           0.9502792096219931,
           0.9399484536082475
          ],
          [
           0.9564862542955327,
           0.9523625429553265,
           0.9523625429553265,
           0.9441151202749142,
           0.9420103092783506,
           0.9440936426116838,
           0.9399914089347078,
           0.9399699312714777,
           0.9461554982817869,
           0.9420103092783506
          ],
          [
           0.9544243986254296,
           0.9523625429553265,
           0.9523625429553265,
           0.9461769759450173,
           0.9420103092783506,
           0.9379080756013746,
           0.9379295532646047,
           0.9461554982817869,
           0.9420317869415807,
           0.9399484536082475
          ],
          [
           0.9564862542955327,
           0.9503006872852234,
           0.9482388316151203,
           0.9441151202749142,
           0.9420103092783506,
           0.9420317869415807,
           0.9441151202749142,
           0.9440936426116838,
           0.9461554982817869,
           0.9420103092783506
          ],
          [
           0.9564862542955327,
           0.9503006872852234,
           0.9461554982817869,
           0.9441151202749142,
           0.9440721649484537,
           0.9461554982817869,
           0.9441151202749142,
           0.9399484536082475,
           0.9420317869415807,
           0.9378651202749142
          ],
          [
           0.9564862542955327,
           0.9503006872852234,
           0.9461554982817869,
           0.9461769759450173,
           0.9440721649484537,
           0.9440936426116838,
           0.9461769759450173,
           0.9440936426116838,
           0.9440936426116838,
           0.9378651202749142
          ],
          [
           0.9564862542955327,
           0.9503006872852234,
           0.9461554982817869,
           0.9420317869415807,
           0.9420103092783506,
           0.9440936426116838,
           0.9441151202749142,
           0.9461554982817869,
           0.9420317869415807,
           0.9358032646048111
          ],
          [
           0.9564862542955327,
           0.9503006872852234,
           0.9461554982817869,
           0.9440936426116838,
           0.9420103092783506,
           0.9461554982817869,
           0.9399699312714777,
           0.9440936426116838,
           0.9440936426116838,
           0.9358247422680414
          ],
          [
           0.9564862542955327,
           0.9523625429553265,
           0.9461554982817869,
           0.9420317869415807,
           0.9420103092783506,
           0.9440936426116838,
           0.9399699312714777,
           0.9399484536082475,
           0.9440936426116838,
           0.9358462199312715
          ],
          [
           0.9544243986254296,
           0.9503006872852234,
           0.9461554982817869,
           0.9461554982817869,
           0.9420103092783506,
           0.9461554982817869,
           0.9420317869415807,
           0.9440936426116838,
           0.9420317869415807,
           0.9379080756013746
          ],
          [
           0.9544243986254296,
           0.9523625429553265,
           0.9461554982817869,
           0.9440936426116838,
           0.9420103092783506,
           0.9440721649484537,
           0.9399699312714777,
           0.9399699312714777,
           0.9399484536082474,
           0.9379080756013746
          ],
          [
           0.9544243986254296,
           0.9503006872852234,
           0.9461554982817869,
           0.9440936426116838,
           0.9420103092783506,
           0.9420103092783506,
           0.9399699312714777,
           0.9461554982817869,
           0.939991408934708,
           0.9399699312714777
          ],
          [
           0.9544243986254296,
           0.9523625429553265,
           0.9440936426116838,
           0.94821735395189,
           0.9420103092783506,
           0.9420317869415807,
           0.9420317869415807,
           0.9419888316151204,
           0.9378865979381443,
           0.9379080756013746
          ],
          [
           0.9523625429553265,
           0.9503006872852234,
           0.9399699312714777,
           0.9440936426116838,
           0.9420103092783506,
           0.9420317869415807,
           0.9420317869415807,
           0.9399484536082475,
           0.9378865979381443,
           0.9379080756013746
          ],
          [
           0.9544243986254296,
           0.9482388316151203,
           0.9399699312714777,
           0.9440721649484537,
           0.9440721649484537,
           0.9420317869415807,
           0.9420103092783506,
           0.9399484536082475,
           0.9440936426116838,
           0.9379080756013746
          ]
         ]
        }
       ],
       "layout": {
        "autosize": false,
        "height": 500,
        "margin": {
         "b": 65,
         "l": 65,
         "r": 50,
         "t": 90
        },
        "template": {
         "data": {
          "bar": [
           {
            "error_x": {
             "color": "#2a3f5f"
            },
            "error_y": {
             "color": "#2a3f5f"
            },
            "marker": {
             "line": {
              "color": "#E5ECF6",
              "width": 0.5
             },
             "pattern": {
              "fillmode": "overlay",
              "size": 10,
              "solidity": 0.2
             }
            },
            "type": "bar"
           }
          ],
          "barpolar": [
           {
            "marker": {
             "line": {
              "color": "#E5ECF6",
              "width": 0.5
             },
             "pattern": {
              "fillmode": "overlay",
              "size": 10,
              "solidity": 0.2
             }
            },
            "type": "barpolar"
           }
          ],
          "carpet": [
           {
            "aaxis": {
             "endlinecolor": "#2a3f5f",
             "gridcolor": "white",
             "linecolor": "white",
             "minorgridcolor": "white",
             "startlinecolor": "#2a3f5f"
            },
            "baxis": {
             "endlinecolor": "#2a3f5f",
             "gridcolor": "white",
             "linecolor": "white",
             "minorgridcolor": "white",
             "startlinecolor": "#2a3f5f"
            },
            "type": "carpet"
           }
          ],
          "choropleth": [
           {
            "colorbar": {
             "outlinewidth": 0,
             "ticks": ""
            },
            "type": "choropleth"
           }
          ],
          "contour": [
           {
            "colorbar": {
             "outlinewidth": 0,
             "ticks": ""
            },
            "colorscale": [
             [
              0,
              "#0d0887"
             ],
             [
              0.1111111111111111,
              "#46039f"
             ],
             [
              0.2222222222222222,
              "#7201a8"
             ],
             [
              0.3333333333333333,
              "#9c179e"
             ],
             [
              0.4444444444444444,
              "#bd3786"
             ],
             [
              0.5555555555555556,
              "#d8576b"
             ],
             [
              0.6666666666666666,
              "#ed7953"
             ],
             [
              0.7777777777777778,
              "#fb9f3a"
             ],
             [
              0.8888888888888888,
              "#fdca26"
             ],
             [
              1,
              "#f0f921"
             ]
            ],
            "type": "contour"
           }
          ],
          "contourcarpet": [
           {
            "colorbar": {
             "outlinewidth": 0,
             "ticks": ""
            },
            "type": "contourcarpet"
           }
          ],
          "heatmap": [
           {
            "colorbar": {
             "outlinewidth": 0,
             "ticks": ""
            },
            "colorscale": [
             [
              0,
              "#0d0887"
             ],
             [
              0.1111111111111111,
              "#46039f"
             ],
             [
              0.2222222222222222,
              "#7201a8"
             ],
             [
              0.3333333333333333,
              "#9c179e"
             ],
             [
              0.4444444444444444,
              "#bd3786"
             ],
             [
              0.5555555555555556,
              "#d8576b"
             ],
             [
              0.6666666666666666,
              "#ed7953"
             ],
             [
              0.7777777777777778,
              "#fb9f3a"
             ],
             [
              0.8888888888888888,
              "#fdca26"
             ],
             [
              1,
              "#f0f921"
             ]
            ],
            "type": "heatmap"
           }
          ],
          "heatmapgl": [
           {
            "colorbar": {
             "outlinewidth": 0,
             "ticks": ""
            },
            "colorscale": [
             [
              0,
              "#0d0887"
             ],
             [
              0.1111111111111111,
              "#46039f"
             ],
             [
              0.2222222222222222,
              "#7201a8"
             ],
             [
              0.3333333333333333,
              "#9c179e"
             ],
             [
              0.4444444444444444,
              "#bd3786"
             ],
             [
              0.5555555555555556,
              "#d8576b"
             ],
             [
              0.6666666666666666,
              "#ed7953"
             ],
             [
              0.7777777777777778,
              "#fb9f3a"
             ],
             [
              0.8888888888888888,
              "#fdca26"
             ],
             [
              1,
              "#f0f921"
             ]
            ],
            "type": "heatmapgl"
           }
          ],
          "histogram": [
           {
            "marker": {
             "pattern": {
              "fillmode": "overlay",
              "size": 10,
              "solidity": 0.2
             }
            },
            "type": "histogram"
           }
          ],
          "histogram2d": [
           {
            "colorbar": {
             "outlinewidth": 0,
             "ticks": ""
            },
            "colorscale": [
             [
              0,
              "#0d0887"
             ],
             [
              0.1111111111111111,
              "#46039f"
             ],
             [
              0.2222222222222222,
              "#7201a8"
             ],
             [
              0.3333333333333333,
              "#9c179e"
             ],
             [
              0.4444444444444444,
              "#bd3786"
             ],
             [
              0.5555555555555556,
              "#d8576b"
             ],
             [
              0.6666666666666666,
              "#ed7953"
             ],
             [
              0.7777777777777778,
              "#fb9f3a"
             ],
             [
              0.8888888888888888,
              "#fdca26"
             ],
             [
              1,
              "#f0f921"
             ]
            ],
            "type": "histogram2d"
           }
          ],
          "histogram2dcontour": [
           {
            "colorbar": {
             "outlinewidth": 0,
             "ticks": ""
            },
            "colorscale": [
             [
              0,
              "#0d0887"
             ],
             [
              0.1111111111111111,
              "#46039f"
             ],
             [
              0.2222222222222222,
              "#7201a8"
             ],
             [
              0.3333333333333333,
              "#9c179e"
             ],
             [
              0.4444444444444444,
              "#bd3786"
             ],
             [
              0.5555555555555556,
              "#d8576b"
             ],
             [
              0.6666666666666666,
              "#ed7953"
             ],
             [
              0.7777777777777778,
              "#fb9f3a"
             ],
             [
              0.8888888888888888,
              "#fdca26"
             ],
             [
              1,
              "#f0f921"
             ]
            ],
            "type": "histogram2dcontour"
           }
          ],
          "mesh3d": [
           {
            "colorbar": {
             "outlinewidth": 0,
             "ticks": ""
            },
            "type": "mesh3d"
           }
          ],
          "parcoords": [
           {
            "line": {
             "colorbar": {
              "outlinewidth": 0,
              "ticks": ""
             }
            },
            "type": "parcoords"
           }
          ],
          "pie": [
           {
            "automargin": true,
            "type": "pie"
           }
          ],
          "scatter": [
           {
            "fillpattern": {
             "fillmode": "overlay",
             "size": 10,
             "solidity": 0.2
            },
            "type": "scatter"
           }
          ],
          "scatter3d": [
           {
            "line": {
             "colorbar": {
              "outlinewidth": 0,
              "ticks": ""
             }
            },
            "marker": {
             "colorbar": {
              "outlinewidth": 0,
              "ticks": ""
             }
            },
            "type": "scatter3d"
           }
          ],
          "scattercarpet": [
           {
            "marker": {
             "colorbar": {
              "outlinewidth": 0,
              "ticks": ""
             }
            },
            "type": "scattercarpet"
           }
          ],
          "scattergeo": [
           {
            "marker": {
             "colorbar": {
              "outlinewidth": 0,
              "ticks": ""
             }
            },
            "type": "scattergeo"
           }
          ],
          "scattergl": [
           {
            "marker": {
             "colorbar": {
              "outlinewidth": 0,
              "ticks": ""
             }
            },
            "type": "scattergl"
           }
          ],
          "scattermapbox": [
           {
            "marker": {
             "colorbar": {
              "outlinewidth": 0,
              "ticks": ""
             }
            },
            "type": "scattermapbox"
           }
          ],
          "scatterpolar": [
           {
            "marker": {
             "colorbar": {
              "outlinewidth": 0,
              "ticks": ""
             }
            },
            "type": "scatterpolar"
           }
          ],
          "scatterpolargl": [
           {
            "marker": {
             "colorbar": {
              "outlinewidth": 0,
              "ticks": ""
             }
            },
            "type": "scatterpolargl"
           }
          ],
          "scatterternary": [
           {
            "marker": {
             "colorbar": {
              "outlinewidth": 0,
              "ticks": ""
             }
            },
            "type": "scatterternary"
           }
          ],
          "surface": [
           {
            "colorbar": {
             "outlinewidth": 0,
             "ticks": ""
            },
            "colorscale": [
             [
              0,
              "#0d0887"
             ],
             [
              0.1111111111111111,
              "#46039f"
             ],
             [
              0.2222222222222222,
              "#7201a8"
             ],
             [
              0.3333333333333333,
              "#9c179e"
             ],
             [
              0.4444444444444444,
              "#bd3786"
             ],
             [
              0.5555555555555556,
              "#d8576b"
             ],
             [
              0.6666666666666666,
              "#ed7953"
             ],
             [
              0.7777777777777778,
              "#fb9f3a"
             ],
             [
              0.8888888888888888,
              "#fdca26"
             ],
             [
              1,
              "#f0f921"
             ]
            ],
            "type": "surface"
           }
          ],
          "table": [
           {
            "cells": {
             "fill": {
              "color": "#EBF0F8"
             },
             "line": {
              "color": "white"
             }
            },
            "header": {
             "fill": {
              "color": "#C8D4E3"
             },
             "line": {
              "color": "white"
             }
            },
            "type": "table"
           }
          ]
         },
         "layout": {
          "annotationdefaults": {
           "arrowcolor": "#2a3f5f",
           "arrowhead": 0,
           "arrowwidth": 1
          },
          "autotypenumbers": "strict",
          "coloraxis": {
           "colorbar": {
            "outlinewidth": 0,
            "ticks": ""
           }
          },
          "colorscale": {
           "diverging": [
            [
             0,
             "#8e0152"
            ],
            [
             0.1,
             "#c51b7d"
            ],
            [
             0.2,
             "#de77ae"
            ],
            [
             0.3,
             "#f1b6da"
            ],
            [
             0.4,
             "#fde0ef"
            ],
            [
             0.5,
             "#f7f7f7"
            ],
            [
             0.6,
             "#e6f5d0"
            ],
            [
             0.7,
             "#b8e186"
            ],
            [
             0.8,
             "#7fbc41"
            ],
            [
             0.9,
             "#4d9221"
            ],
            [
             1,
             "#276419"
            ]
           ],
           "sequential": [
            [
             0,
             "#0d0887"
            ],
            [
             0.1111111111111111,
             "#46039f"
            ],
            [
             0.2222222222222222,
             "#7201a8"
            ],
            [
             0.3333333333333333,
             "#9c179e"
            ],
            [
             0.4444444444444444,
             "#bd3786"
            ],
            [
             0.5555555555555556,
             "#d8576b"
            ],
            [
             0.6666666666666666,
             "#ed7953"
            ],
            [
             0.7777777777777778,
             "#fb9f3a"
            ],
            [
             0.8888888888888888,
             "#fdca26"
            ],
            [
             1,
             "#f0f921"
            ]
           ],
           "sequentialminus": [
            [
             0,
             "#0d0887"
            ],
            [
             0.1111111111111111,
             "#46039f"
            ],
            [
             0.2222222222222222,
             "#7201a8"
            ],
            [
             0.3333333333333333,
             "#9c179e"
            ],
            [
             0.4444444444444444,
             "#bd3786"
            ],
            [
             0.5555555555555556,
             "#d8576b"
            ],
            [
             0.6666666666666666,
             "#ed7953"
            ],
            [
             0.7777777777777778,
             "#fb9f3a"
            ],
            [
             0.8888888888888888,
             "#fdca26"
            ],
            [
             1,
             "#f0f921"
            ]
           ]
          },
          "colorway": [
           "#636efa",
           "#EF553B",
           "#00cc96",
           "#ab63fa",
           "#FFA15A",
           "#19d3f3",
           "#FF6692",
           "#B6E880",
           "#FF97FF",
           "#FECB52"
          ],
          "font": {
           "color": "#2a3f5f"
          },
          "geo": {
           "bgcolor": "white",
           "lakecolor": "white",
           "landcolor": "#E5ECF6",
           "showlakes": true,
           "showland": true,
           "subunitcolor": "white"
          },
          "hoverlabel": {
           "align": "left"
          },
          "hovermode": "closest",
          "mapbox": {
           "style": "light"
          },
          "paper_bgcolor": "white",
          "plot_bgcolor": "#E5ECF6",
          "polar": {
           "angularaxis": {
            "gridcolor": "white",
            "linecolor": "white",
            "ticks": ""
           },
           "bgcolor": "#E5ECF6",
           "radialaxis": {
            "gridcolor": "white",
            "linecolor": "white",
            "ticks": ""
           }
          },
          "scene": {
           "xaxis": {
            "backgroundcolor": "#E5ECF6",
            "gridcolor": "white",
            "gridwidth": 2,
            "linecolor": "white",
            "showbackground": true,
            "ticks": "",
            "zerolinecolor": "white"
           },
           "yaxis": {
            "backgroundcolor": "#E5ECF6",
            "gridcolor": "white",
            "gridwidth": 2,
            "linecolor": "white",
            "showbackground": true,
            "ticks": "",
            "zerolinecolor": "white"
           },
           "zaxis": {
            "backgroundcolor": "#E5ECF6",
            "gridcolor": "white",
            "gridwidth": 2,
            "linecolor": "white",
            "showbackground": true,
            "ticks": "",
            "zerolinecolor": "white"
           }
          },
          "shapedefaults": {
           "line": {
            "color": "#2a3f5f"
           }
          },
          "ternary": {
           "aaxis": {
            "gridcolor": "white",
            "linecolor": "white",
            "ticks": ""
           },
           "baxis": {
            "gridcolor": "white",
            "linecolor": "white",
            "ticks": ""
           },
           "bgcolor": "#E5ECF6",
           "caxis": {
            "gridcolor": "white",
            "linecolor": "white",
            "ticks": ""
           }
          },
          "title": {
           "x": 0.05
          },
          "xaxis": {
           "automargin": true,
           "gridcolor": "white",
           "linecolor": "white",
           "ticks": "",
           "title": {
            "standoff": 15
           },
           "zerolinecolor": "white",
           "zerolinewidth": 2
          },
          "yaxis": {
           "automargin": true,
           "gridcolor": "white",
           "linecolor": "white",
           "ticks": "",
           "title": {
            "standoff": 15
           },
           "zerolinecolor": "white",
           "zerolinewidth": 2
          }
         }
        },
        "title": {
         "text": "AdaBoost Hyperparameter Tuning"
        },
        "width": 500,
        "xaxis": {
         "title": {
          "text": "learning rate"
         }
        },
        "yaxis": {
         "title": {
          "text": "n estimators"
         }
        }
       }
      },
      "text/html": [
       "<div>                            <div id=\"e95bff47-3c47-4d31-838f-2b2cf926c1ad\" class=\"plotly-graph-div\" style=\"height:500px; width:500px;\"></div>            <script type=\"text/javascript\">                require([\"plotly\"], function(Plotly) {                    window.PLOTLYENV=window.PLOTLYENV || {};                                    if (document.getElementById(\"e95bff47-3c47-4d31-838f-2b2cf926c1ad\")) {                    Plotly.newPlot(                        \"e95bff47-3c47-4d31-838f-2b2cf926c1ad\",                        [{\"x\":[0.1,0.2,0.3,0.4,0.5,0.6,0.7,0.8,0.9,1.0],\"y\":[10,20,30,40,50,60,70,80,90,100,110,120,130,140,150,160,170,180,190,200,210,220,230,240,250],\"z\":[[0.9461340206185568,0.9440721649484537,0.94821735395189,0.9502792096219931,0.9440506872852235,0.9461554982817869,0.9502792096219931,0.9420103092783505,0.9420317869415807,0.9420317869415807],[0.9502792096219931,0.9502792096219931,0.9502792096219931,0.9523410652920962,0.9503006872852234,0.9503006872852234,0.9420317869415807,0.9441151202749142,0.9461769759450173,0.9399269759450173],[0.9523625429553265,0.9523625429553265,0.9502792096219931,0.9523625429553265,0.9544243986254296,0.9503006872852234,0.9420532646048111,0.9461769759450173,0.9440936426116838,0.9482388316151203],[0.9585481099656358,0.9523410652920962,0.9544243986254296,0.9523625429553265,0.9502792096219931,0.9482388316151203,0.9420532646048111,0.9461769759450173,0.9420317869415807,0.9379080756013746],[0.9585481099656358,0.9544243986254296,0.9544243986254296,0.9544243986254296,0.94821735395189,0.9523625429553265,0.9461769759450173,0.9441151202749142,0.9482388316151203,0.9399699312714777],[0.9544243986254296,0.9523410652920962,0.9564862542955327,0.9523625429553265,0.9502792096219931,0.9461769759450173,0.9441151202749142,0.9441151202749142,0.9461769759450173,0.9440936426116838],[0.9564862542955327,0.9564862542955327,0.9503006872852234,0.9482388316151203,0.94821735395189,0.9482388316151203,0.939991408934708,0.9420317869415807,0.9461769759450173,0.9420317869415807],[0.9564862542955327,0.9523625429553265,0.9503006872852234,0.9482388316151203,0.9461554982817869,0.94821735395189,0.9379295532646047,0.9420317869415807,0.9440936426116838,0.9420317869415807],[0.9564862542955327,0.9523625429553265,0.9544243986254296,0.9482388316151203,0.9440936426116838,0.9461769759450173,0.939991408934708,0.9378865979381444,0.9399484536082475,0.9420103092783506],[0.9564862542955327,0.9523625429553265,0.9523625429553265,0.9482388316151203,0.9461554982817869,0.9399699312714777,0.9420532646048109,0.9337628865979383,0.9358247422680412,0.9440936426116838],[0.9564862542955327,0.9523625429553265,0.9482388316151203,0.9503006872852234,0.9440721649484537,0.9420317869415807,0.9399914089347078,0.9337628865979383,0.9502792096219931,0.9399484536082475],[0.9564862542955327,0.9523625429553265,0.9523625429553265,0.9441151202749142,0.9420103092783506,0.9440936426116838,0.9399914089347078,0.9399699312714777,0.9461554982817869,0.9420103092783506],[0.9544243986254296,0.9523625429553265,0.9523625429553265,0.9461769759450173,0.9420103092783506,0.9379080756013746,0.9379295532646047,0.9461554982817869,0.9420317869415807,0.9399484536082475],[0.9564862542955327,0.9503006872852234,0.9482388316151203,0.9441151202749142,0.9420103092783506,0.9420317869415807,0.9441151202749142,0.9440936426116838,0.9461554982817869,0.9420103092783506],[0.9564862542955327,0.9503006872852234,0.9461554982817869,0.9441151202749142,0.9440721649484537,0.9461554982817869,0.9441151202749142,0.9399484536082475,0.9420317869415807,0.9378651202749142],[0.9564862542955327,0.9503006872852234,0.9461554982817869,0.9461769759450173,0.9440721649484537,0.9440936426116838,0.9461769759450173,0.9440936426116838,0.9440936426116838,0.9378651202749142],[0.9564862542955327,0.9503006872852234,0.9461554982817869,0.9420317869415807,0.9420103092783506,0.9440936426116838,0.9441151202749142,0.9461554982817869,0.9420317869415807,0.9358032646048111],[0.9564862542955327,0.9503006872852234,0.9461554982817869,0.9440936426116838,0.9420103092783506,0.9461554982817869,0.9399699312714777,0.9440936426116838,0.9440936426116838,0.9358247422680414],[0.9564862542955327,0.9523625429553265,0.9461554982817869,0.9420317869415807,0.9420103092783506,0.9440936426116838,0.9399699312714777,0.9399484536082475,0.9440936426116838,0.9358462199312715],[0.9544243986254296,0.9503006872852234,0.9461554982817869,0.9461554982817869,0.9420103092783506,0.9461554982817869,0.9420317869415807,0.9440936426116838,0.9420317869415807,0.9379080756013746],[0.9544243986254296,0.9523625429553265,0.9461554982817869,0.9440936426116838,0.9420103092783506,0.9440721649484537,0.9399699312714777,0.9399699312714777,0.9399484536082474,0.9379080756013746],[0.9544243986254296,0.9503006872852234,0.9461554982817869,0.9440936426116838,0.9420103092783506,0.9420103092783506,0.9399699312714777,0.9461554982817869,0.939991408934708,0.9399699312714777],[0.9544243986254296,0.9523625429553265,0.9440936426116838,0.94821735395189,0.9420103092783506,0.9420317869415807,0.9420317869415807,0.9419888316151204,0.9378865979381443,0.9379080756013746],[0.9523625429553265,0.9503006872852234,0.9399699312714777,0.9440936426116838,0.9420103092783506,0.9420317869415807,0.9420317869415807,0.9399484536082475,0.9378865979381443,0.9379080756013746],[0.9544243986254296,0.9482388316151203,0.9399699312714777,0.9440721649484537,0.9440721649484537,0.9420317869415807,0.9420103092783506,0.9399484536082475,0.9440936426116838,0.9379080756013746]],\"type\":\"contour\"}],                        {\"xaxis\":{\"title\":{\"text\":\"learning rate\"}},\"yaxis\":{\"title\":{\"text\":\"n estimators\"}},\"template\":{\"data\":{\"histogram2dcontour\":[{\"type\":\"histogram2dcontour\",\"colorbar\":{\"outlinewidth\":0,\"ticks\":\"\"},\"colorscale\":[[0.0,\"#0d0887\"],[0.1111111111111111,\"#46039f\"],[0.2222222222222222,\"#7201a8\"],[0.3333333333333333,\"#9c179e\"],[0.4444444444444444,\"#bd3786\"],[0.5555555555555556,\"#d8576b\"],[0.6666666666666666,\"#ed7953\"],[0.7777777777777778,\"#fb9f3a\"],[0.8888888888888888,\"#fdca26\"],[1.0,\"#f0f921\"]]}],\"choropleth\":[{\"type\":\"choropleth\",\"colorbar\":{\"outlinewidth\":0,\"ticks\":\"\"}}],\"histogram2d\":[{\"type\":\"histogram2d\",\"colorbar\":{\"outlinewidth\":0,\"ticks\":\"\"},\"colorscale\":[[0.0,\"#0d0887\"],[0.1111111111111111,\"#46039f\"],[0.2222222222222222,\"#7201a8\"],[0.3333333333333333,\"#9c179e\"],[0.4444444444444444,\"#bd3786\"],[0.5555555555555556,\"#d8576b\"],[0.6666666666666666,\"#ed7953\"],[0.7777777777777778,\"#fb9f3a\"],[0.8888888888888888,\"#fdca26\"],[1.0,\"#f0f921\"]]}],\"heatmap\":[{\"type\":\"heatmap\",\"colorbar\":{\"outlinewidth\":0,\"ticks\":\"\"},\"colorscale\":[[0.0,\"#0d0887\"],[0.1111111111111111,\"#46039f\"],[0.2222222222222222,\"#7201a8\"],[0.3333333333333333,\"#9c179e\"],[0.4444444444444444,\"#bd3786\"],[0.5555555555555556,\"#d8576b\"],[0.6666666666666666,\"#ed7953\"],[0.7777777777777778,\"#fb9f3a\"],[0.8888888888888888,\"#fdca26\"],[1.0,\"#f0f921\"]]}],\"heatmapgl\":[{\"type\":\"heatmapgl\",\"colorbar\":{\"outlinewidth\":0,\"ticks\":\"\"},\"colorscale\":[[0.0,\"#0d0887\"],[0.1111111111111111,\"#46039f\"],[0.2222222222222222,\"#7201a8\"],[0.3333333333333333,\"#9c179e\"],[0.4444444444444444,\"#bd3786\"],[0.5555555555555556,\"#d8576b\"],[0.6666666666666666,\"#ed7953\"],[0.7777777777777778,\"#fb9f3a\"],[0.8888888888888888,\"#fdca26\"],[1.0,\"#f0f921\"]]}],\"contourcarpet\":[{\"type\":\"contourcarpet\",\"colorbar\":{\"outlinewidth\":0,\"ticks\":\"\"}}],\"contour\":[{\"type\":\"contour\",\"colorbar\":{\"outlinewidth\":0,\"ticks\":\"\"},\"colorscale\":[[0.0,\"#0d0887\"],[0.1111111111111111,\"#46039f\"],[0.2222222222222222,\"#7201a8\"],[0.3333333333333333,\"#9c179e\"],[0.4444444444444444,\"#bd3786\"],[0.5555555555555556,\"#d8576b\"],[0.6666666666666666,\"#ed7953\"],[0.7777777777777778,\"#fb9f3a\"],[0.8888888888888888,\"#fdca26\"],[1.0,\"#f0f921\"]]}],\"surface\":[{\"type\":\"surface\",\"colorbar\":{\"outlinewidth\":0,\"ticks\":\"\"},\"colorscale\":[[0.0,\"#0d0887\"],[0.1111111111111111,\"#46039f\"],[0.2222222222222222,\"#7201a8\"],[0.3333333333333333,\"#9c179e\"],[0.4444444444444444,\"#bd3786\"],[0.5555555555555556,\"#d8576b\"],[0.6666666666666666,\"#ed7953\"],[0.7777777777777778,\"#fb9f3a\"],[0.8888888888888888,\"#fdca26\"],[1.0,\"#f0f921\"]]}],\"mesh3d\":[{\"type\":\"mesh3d\",\"colorbar\":{\"outlinewidth\":0,\"ticks\":\"\"}}],\"scatter\":[{\"fillpattern\":{\"fillmode\":\"overlay\",\"size\":10,\"solidity\":0.2},\"type\":\"scatter\"}],\"parcoords\":[{\"type\":\"parcoords\",\"line\":{\"colorbar\":{\"outlinewidth\":0,\"ticks\":\"\"}}}],\"scatterpolargl\":[{\"type\":\"scatterpolargl\",\"marker\":{\"colorbar\":{\"outlinewidth\":0,\"ticks\":\"\"}}}],\"bar\":[{\"error_x\":{\"color\":\"#2a3f5f\"},\"error_y\":{\"color\":\"#2a3f5f\"},\"marker\":{\"line\":{\"color\":\"#E5ECF6\",\"width\":0.5},\"pattern\":{\"fillmode\":\"overlay\",\"size\":10,\"solidity\":0.2}},\"type\":\"bar\"}],\"scattergeo\":[{\"type\":\"scattergeo\",\"marker\":{\"colorbar\":{\"outlinewidth\":0,\"ticks\":\"\"}}}],\"scatterpolar\":[{\"type\":\"scatterpolar\",\"marker\":{\"colorbar\":{\"outlinewidth\":0,\"ticks\":\"\"}}}],\"histogram\":[{\"marker\":{\"pattern\":{\"fillmode\":\"overlay\",\"size\":10,\"solidity\":0.2}},\"type\":\"histogram\"}],\"scattergl\":[{\"type\":\"scattergl\",\"marker\":{\"colorbar\":{\"outlinewidth\":0,\"ticks\":\"\"}}}],\"scatter3d\":[{\"type\":\"scatter3d\",\"line\":{\"colorbar\":{\"outlinewidth\":0,\"ticks\":\"\"}},\"marker\":{\"colorbar\":{\"outlinewidth\":0,\"ticks\":\"\"}}}],\"scattermapbox\":[{\"type\":\"scattermapbox\",\"marker\":{\"colorbar\":{\"outlinewidth\":0,\"ticks\":\"\"}}}],\"scatterternary\":[{\"type\":\"scatterternary\",\"marker\":{\"colorbar\":{\"outlinewidth\":0,\"ticks\":\"\"}}}],\"scattercarpet\":[{\"type\":\"scattercarpet\",\"marker\":{\"colorbar\":{\"outlinewidth\":0,\"ticks\":\"\"}}}],\"carpet\":[{\"aaxis\":{\"endlinecolor\":\"#2a3f5f\",\"gridcolor\":\"white\",\"linecolor\":\"white\",\"minorgridcolor\":\"white\",\"startlinecolor\":\"#2a3f5f\"},\"baxis\":{\"endlinecolor\":\"#2a3f5f\",\"gridcolor\":\"white\",\"linecolor\":\"white\",\"minorgridcolor\":\"white\",\"startlinecolor\":\"#2a3f5f\"},\"type\":\"carpet\"}],\"table\":[{\"cells\":{\"fill\":{\"color\":\"#EBF0F8\"},\"line\":{\"color\":\"white\"}},\"header\":{\"fill\":{\"color\":\"#C8D4E3\"},\"line\":{\"color\":\"white\"}},\"type\":\"table\"}],\"barpolar\":[{\"marker\":{\"line\":{\"color\":\"#E5ECF6\",\"width\":0.5},\"pattern\":{\"fillmode\":\"overlay\",\"size\":10,\"solidity\":0.2}},\"type\":\"barpolar\"}],\"pie\":[{\"automargin\":true,\"type\":\"pie\"}]},\"layout\":{\"autotypenumbers\":\"strict\",\"colorway\":[\"#636efa\",\"#EF553B\",\"#00cc96\",\"#ab63fa\",\"#FFA15A\",\"#19d3f3\",\"#FF6692\",\"#B6E880\",\"#FF97FF\",\"#FECB52\"],\"font\":{\"color\":\"#2a3f5f\"},\"hovermode\":\"closest\",\"hoverlabel\":{\"align\":\"left\"},\"paper_bgcolor\":\"white\",\"plot_bgcolor\":\"#E5ECF6\",\"polar\":{\"bgcolor\":\"#E5ECF6\",\"angularaxis\":{\"gridcolor\":\"white\",\"linecolor\":\"white\",\"ticks\":\"\"},\"radialaxis\":{\"gridcolor\":\"white\",\"linecolor\":\"white\",\"ticks\":\"\"}},\"ternary\":{\"bgcolor\":\"#E5ECF6\",\"aaxis\":{\"gridcolor\":\"white\",\"linecolor\":\"white\",\"ticks\":\"\"},\"baxis\":{\"gridcolor\":\"white\",\"linecolor\":\"white\",\"ticks\":\"\"},\"caxis\":{\"gridcolor\":\"white\",\"linecolor\":\"white\",\"ticks\":\"\"}},\"coloraxis\":{\"colorbar\":{\"outlinewidth\":0,\"ticks\":\"\"}},\"colorscale\":{\"sequential\":[[0.0,\"#0d0887\"],[0.1111111111111111,\"#46039f\"],[0.2222222222222222,\"#7201a8\"],[0.3333333333333333,\"#9c179e\"],[0.4444444444444444,\"#bd3786\"],[0.5555555555555556,\"#d8576b\"],[0.6666666666666666,\"#ed7953\"],[0.7777777777777778,\"#fb9f3a\"],[0.8888888888888888,\"#fdca26\"],[1.0,\"#f0f921\"]],\"sequentialminus\":[[0.0,\"#0d0887\"],[0.1111111111111111,\"#46039f\"],[0.2222222222222222,\"#7201a8\"],[0.3333333333333333,\"#9c179e\"],[0.4444444444444444,\"#bd3786\"],[0.5555555555555556,\"#d8576b\"],[0.6666666666666666,\"#ed7953\"],[0.7777777777777778,\"#fb9f3a\"],[0.8888888888888888,\"#fdca26\"],[1.0,\"#f0f921\"]],\"diverging\":[[0,\"#8e0152\"],[0.1,\"#c51b7d\"],[0.2,\"#de77ae\"],[0.3,\"#f1b6da\"],[0.4,\"#fde0ef\"],[0.5,\"#f7f7f7\"],[0.6,\"#e6f5d0\"],[0.7,\"#b8e186\"],[0.8,\"#7fbc41\"],[0.9,\"#4d9221\"],[1,\"#276419\"]]},\"xaxis\":{\"gridcolor\":\"white\",\"linecolor\":\"white\",\"ticks\":\"\",\"title\":{\"standoff\":15},\"zerolinecolor\":\"white\",\"automargin\":true,\"zerolinewidth\":2},\"yaxis\":{\"gridcolor\":\"white\",\"linecolor\":\"white\",\"ticks\":\"\",\"title\":{\"standoff\":15},\"zerolinecolor\":\"white\",\"automargin\":true,\"zerolinewidth\":2},\"scene\":{\"xaxis\":{\"backgroundcolor\":\"#E5ECF6\",\"gridcolor\":\"white\",\"linecolor\":\"white\",\"showbackground\":true,\"ticks\":\"\",\"zerolinecolor\":\"white\",\"gridwidth\":2},\"yaxis\":{\"backgroundcolor\":\"#E5ECF6\",\"gridcolor\":\"white\",\"linecolor\":\"white\",\"showbackground\":true,\"ticks\":\"\",\"zerolinecolor\":\"white\",\"gridwidth\":2},\"zaxis\":{\"backgroundcolor\":\"#E5ECF6\",\"gridcolor\":\"white\",\"linecolor\":\"white\",\"showbackground\":true,\"ticks\":\"\",\"zerolinecolor\":\"white\",\"gridwidth\":2}},\"shapedefaults\":{\"line\":{\"color\":\"#2a3f5f\"}},\"annotationdefaults\":{\"arrowcolor\":\"#2a3f5f\",\"arrowhead\":0,\"arrowwidth\":1},\"geo\":{\"bgcolor\":\"white\",\"landcolor\":\"#E5ECF6\",\"subunitcolor\":\"white\",\"showland\":true,\"showlakes\":true,\"lakecolor\":\"white\"},\"title\":{\"x\":0.05},\"mapbox\":{\"style\":\"light\"}}},\"margin\":{\"l\":65,\"r\":50,\"b\":65,\"t\":90},\"title\":{\"text\":\"AdaBoost Hyperparameter Tuning\"},\"autosize\":false,\"width\":500,\"height\":500},                        {\"responsive\": true}                    ).then(function(){\n",
       "                            \n",
       "var gd = document.getElementById('e95bff47-3c47-4d31-838f-2b2cf926c1ad');\n",
       "var x = new MutationObserver(function (mutations, observer) {{\n",
       "        var display = window.getComputedStyle(gd).display;\n",
       "        if (!display || display === 'none') {{\n",
       "            console.log([gd, 'removed!']);\n",
       "            Plotly.purge(gd);\n",
       "            observer.disconnect();\n",
       "        }}\n",
       "}});\n",
       "\n",
       "// Listen for the removal of the full notebook cells\n",
       "var notebookContainer = gd.closest('#notebook-container');\n",
       "if (notebookContainer) {{\n",
       "    x.observe(notebookContainer, {childList: true});\n",
       "}}\n",
       "\n",
       "// Listen for the clearing of the current output cell\n",
       "var outputEl = gd.closest('.output');\n",
       "if (outputEl) {{\n",
       "    x.observe(outputEl, {childList: true});\n",
       "}}\n",
       "\n",
       "                        })                };                });            </script>        </div>"
      ]
     },
     "metadata": {},
     "output_type": "display_data"
    }
   ],
   "source": [
    "layout = go.Layout(xaxis=go.layout.XAxis(title=go.layout.xaxis.Title(text='learning rate')), yaxis=go.layout.YAxis(title=go.layout.yaxis.Title(text='n estimators')))\n",
    "\n",
    "fig = go.Figure(data = [go.Contour(z=z, x=x, y=y)], layout=layout)\n",
    "\n",
    "fig.update_layout(title = 'AdaBoost Hyperparameter Tuning', autosize=False, width=500, height=500, margin=dict(l=65, r=50, b=65, t=90))\n",
    "\n",
    "fig.show()"
   ]
  },
  {
   "cell_type": "code",
   "execution_count": 182,
   "id": "ec2d35a8",
   "metadata": {},
   "outputs": [
    {
     "data": {
      "application/vnd.plotly.v1+json": {
       "config": {
        "plotlyServerURL": "https://plot.ly"
       },
       "data": [
        {
         "type": "surface",
         "x": [
          0.1,
          0.2,
          0.3,
          0.4,
          0.5,
          0.6,
          0.7,
          0.8,
          0.9,
          1
         ],
         "y": [
          10,
          20,
          30,
          40,
          50,
          60,
          70,
          80,
          90,
          100,
          110,
          120,
          130,
          140,
          150,
          160,
          170,
          180,
          190,
          200,
          210,
          220,
          230,
          240,
          250
         ],
         "z": [
          [
           0.9461340206185568,
           0.9440721649484537,
           0.94821735395189,
           0.9502792096219931,
           0.9440506872852235,
           0.9461554982817869,
           0.9502792096219931,
           0.9420103092783505,
           0.9420317869415807,
           0.9420317869415807
          ],
          [
           0.9502792096219931,
           0.9502792096219931,
           0.9502792096219931,
           0.9523410652920962,
           0.9503006872852234,
           0.9503006872852234,
           0.9420317869415807,
           0.9441151202749142,
           0.9461769759450173,
           0.9399269759450173
          ],
          [
           0.9523625429553265,
           0.9523625429553265,
           0.9502792096219931,
           0.9523625429553265,
           0.9544243986254296,
           0.9503006872852234,
           0.9420532646048111,
           0.9461769759450173,
           0.9440936426116838,
           0.9482388316151203
          ],
          [
           0.9585481099656358,
           0.9523410652920962,
           0.9544243986254296,
           0.9523625429553265,
           0.9502792096219931,
           0.9482388316151203,
           0.9420532646048111,
           0.9461769759450173,
           0.9420317869415807,
           0.9379080756013746
          ],
          [
           0.9585481099656358,
           0.9544243986254296,
           0.9544243986254296,
           0.9544243986254296,
           0.94821735395189,
           0.9523625429553265,
           0.9461769759450173,
           0.9441151202749142,
           0.9482388316151203,
           0.9399699312714777
          ],
          [
           0.9544243986254296,
           0.9523410652920962,
           0.9564862542955327,
           0.9523625429553265,
           0.9502792096219931,
           0.9461769759450173,
           0.9441151202749142,
           0.9441151202749142,
           0.9461769759450173,
           0.9440936426116838
          ],
          [
           0.9564862542955327,
           0.9564862542955327,
           0.9503006872852234,
           0.9482388316151203,
           0.94821735395189,
           0.9482388316151203,
           0.939991408934708,
           0.9420317869415807,
           0.9461769759450173,
           0.9420317869415807
          ],
          [
           0.9564862542955327,
           0.9523625429553265,
           0.9503006872852234,
           0.9482388316151203,
           0.9461554982817869,
           0.94821735395189,
           0.9379295532646047,
           0.9420317869415807,
           0.9440936426116838,
           0.9420317869415807
          ],
          [
           0.9564862542955327,
           0.9523625429553265,
           0.9544243986254296,
           0.9482388316151203,
           0.9440936426116838,
           0.9461769759450173,
           0.939991408934708,
           0.9378865979381444,
           0.9399484536082475,
           0.9420103092783506
          ],
          [
           0.9564862542955327,
           0.9523625429553265,
           0.9523625429553265,
           0.9482388316151203,
           0.9461554982817869,
           0.9399699312714777,
           0.9420532646048109,
           0.9337628865979383,
           0.9358247422680412,
           0.9440936426116838
          ],
          [
           0.9564862542955327,
           0.9523625429553265,
           0.9482388316151203,
           0.9503006872852234,
           0.9440721649484537,
           0.9420317869415807,
           0.9399914089347078,
           0.9337628865979383,
           0.9502792096219931,
           0.9399484536082475
          ],
          [
           0.9564862542955327,
           0.9523625429553265,
           0.9523625429553265,
           0.9441151202749142,
           0.9420103092783506,
           0.9440936426116838,
           0.9399914089347078,
           0.9399699312714777,
           0.9461554982817869,
           0.9420103092783506
          ],
          [
           0.9544243986254296,
           0.9523625429553265,
           0.9523625429553265,
           0.9461769759450173,
           0.9420103092783506,
           0.9379080756013746,
           0.9379295532646047,
           0.9461554982817869,
           0.9420317869415807,
           0.9399484536082475
          ],
          [
           0.9564862542955327,
           0.9503006872852234,
           0.9482388316151203,
           0.9441151202749142,
           0.9420103092783506,
           0.9420317869415807,
           0.9441151202749142,
           0.9440936426116838,
           0.9461554982817869,
           0.9420103092783506
          ],
          [
           0.9564862542955327,
           0.9503006872852234,
           0.9461554982817869,
           0.9441151202749142,
           0.9440721649484537,
           0.9461554982817869,
           0.9441151202749142,
           0.9399484536082475,
           0.9420317869415807,
           0.9378651202749142
          ],
          [
           0.9564862542955327,
           0.9503006872852234,
           0.9461554982817869,
           0.9461769759450173,
           0.9440721649484537,
           0.9440936426116838,
           0.9461769759450173,
           0.9440936426116838,
           0.9440936426116838,
           0.9378651202749142
          ],
          [
           0.9564862542955327,
           0.9503006872852234,
           0.9461554982817869,
           0.9420317869415807,
           0.9420103092783506,
           0.9440936426116838,
           0.9441151202749142,
           0.9461554982817869,
           0.9420317869415807,
           0.9358032646048111
          ],
          [
           0.9564862542955327,
           0.9503006872852234,
           0.9461554982817869,
           0.9440936426116838,
           0.9420103092783506,
           0.9461554982817869,
           0.9399699312714777,
           0.9440936426116838,
           0.9440936426116838,
           0.9358247422680414
          ],
          [
           0.9564862542955327,
           0.9523625429553265,
           0.9461554982817869,
           0.9420317869415807,
           0.9420103092783506,
           0.9440936426116838,
           0.9399699312714777,
           0.9399484536082475,
           0.9440936426116838,
           0.9358462199312715
          ],
          [
           0.9544243986254296,
           0.9503006872852234,
           0.9461554982817869,
           0.9461554982817869,
           0.9420103092783506,
           0.9461554982817869,
           0.9420317869415807,
           0.9440936426116838,
           0.9420317869415807,
           0.9379080756013746
          ],
          [
           0.9544243986254296,
           0.9523625429553265,
           0.9461554982817869,
           0.9440936426116838,
           0.9420103092783506,
           0.9440721649484537,
           0.9399699312714777,
           0.9399699312714777,
           0.9399484536082474,
           0.9379080756013746
          ],
          [
           0.9544243986254296,
           0.9503006872852234,
           0.9461554982817869,
           0.9440936426116838,
           0.9420103092783506,
           0.9420103092783506,
           0.9399699312714777,
           0.9461554982817869,
           0.939991408934708,
           0.9399699312714777
          ],
          [
           0.9544243986254296,
           0.9523625429553265,
           0.9440936426116838,
           0.94821735395189,
           0.9420103092783506,
           0.9420317869415807,
           0.9420317869415807,
           0.9419888316151204,
           0.9378865979381443,
           0.9379080756013746
          ],
          [
           0.9523625429553265,
           0.9503006872852234,
           0.9399699312714777,
           0.9440936426116838,
           0.9420103092783506,
           0.9420317869415807,
           0.9420317869415807,
           0.9399484536082475,
           0.9378865979381443,
           0.9379080756013746
          ],
          [
           0.9544243986254296,
           0.9482388316151203,
           0.9399699312714777,
           0.9440721649484537,
           0.9440721649484537,
           0.9420317869415807,
           0.9420103092783506,
           0.9399484536082475,
           0.9440936426116838,
           0.9379080756013746
          ]
         ]
        }
       ],
       "layout": {
        "autosize": false,
        "height": 500,
        "margin": {
         "b": 65,
         "l": 65,
         "r": 50,
         "t": 90
        },
        "scene": {
         "xaxis": {
          "title": {
           "text": "learning rate"
          }
         },
         "yaxis": {
          "title": {
           "text": "n estimators"
          }
         },
         "zaxis": {
          "title": {
           "text": "Accuracy"
          }
         }
        },
        "template": {
         "data": {
          "bar": [
           {
            "error_x": {
             "color": "#2a3f5f"
            },
            "error_y": {
             "color": "#2a3f5f"
            },
            "marker": {
             "line": {
              "color": "#E5ECF6",
              "width": 0.5
             },
             "pattern": {
              "fillmode": "overlay",
              "size": 10,
              "solidity": 0.2
             }
            },
            "type": "bar"
           }
          ],
          "barpolar": [
           {
            "marker": {
             "line": {
              "color": "#E5ECF6",
              "width": 0.5
             },
             "pattern": {
              "fillmode": "overlay",
              "size": 10,
              "solidity": 0.2
             }
            },
            "type": "barpolar"
           }
          ],
          "carpet": [
           {
            "aaxis": {
             "endlinecolor": "#2a3f5f",
             "gridcolor": "white",
             "linecolor": "white",
             "minorgridcolor": "white",
             "startlinecolor": "#2a3f5f"
            },
            "baxis": {
             "endlinecolor": "#2a3f5f",
             "gridcolor": "white",
             "linecolor": "white",
             "minorgridcolor": "white",
             "startlinecolor": "#2a3f5f"
            },
            "type": "carpet"
           }
          ],
          "choropleth": [
           {
            "colorbar": {
             "outlinewidth": 0,
             "ticks": ""
            },
            "type": "choropleth"
           }
          ],
          "contour": [
           {
            "colorbar": {
             "outlinewidth": 0,
             "ticks": ""
            },
            "colorscale": [
             [
              0,
              "#0d0887"
             ],
             [
              0.1111111111111111,
              "#46039f"
             ],
             [
              0.2222222222222222,
              "#7201a8"
             ],
             [
              0.3333333333333333,
              "#9c179e"
             ],
             [
              0.4444444444444444,
              "#bd3786"
             ],
             [
              0.5555555555555556,
              "#d8576b"
             ],
             [
              0.6666666666666666,
              "#ed7953"
             ],
             [
              0.7777777777777778,
              "#fb9f3a"
             ],
             [
              0.8888888888888888,
              "#fdca26"
             ],
             [
              1,
              "#f0f921"
             ]
            ],
            "type": "contour"
           }
          ],
          "contourcarpet": [
           {
            "colorbar": {
             "outlinewidth": 0,
             "ticks": ""
            },
            "type": "contourcarpet"
           }
          ],
          "heatmap": [
           {
            "colorbar": {
             "outlinewidth": 0,
             "ticks": ""
            },
            "colorscale": [
             [
              0,
              "#0d0887"
             ],
             [
              0.1111111111111111,
              "#46039f"
             ],
             [
              0.2222222222222222,
              "#7201a8"
             ],
             [
              0.3333333333333333,
              "#9c179e"
             ],
             [
              0.4444444444444444,
              "#bd3786"
             ],
             [
              0.5555555555555556,
              "#d8576b"
             ],
             [
              0.6666666666666666,
              "#ed7953"
             ],
             [
              0.7777777777777778,
              "#fb9f3a"
             ],
             [
              0.8888888888888888,
              "#fdca26"
             ],
             [
              1,
              "#f0f921"
             ]
            ],
            "type": "heatmap"
           }
          ],
          "heatmapgl": [
           {
            "colorbar": {
             "outlinewidth": 0,
             "ticks": ""
            },
            "colorscale": [
             [
              0,
              "#0d0887"
             ],
             [
              0.1111111111111111,
              "#46039f"
             ],
             [
              0.2222222222222222,
              "#7201a8"
             ],
             [
              0.3333333333333333,
              "#9c179e"
             ],
             [
              0.4444444444444444,
              "#bd3786"
             ],
             [
              0.5555555555555556,
              "#d8576b"
             ],
             [
              0.6666666666666666,
              "#ed7953"
             ],
             [
              0.7777777777777778,
              "#fb9f3a"
             ],
             [
              0.8888888888888888,
              "#fdca26"
             ],
             [
              1,
              "#f0f921"
             ]
            ],
            "type": "heatmapgl"
           }
          ],
          "histogram": [
           {
            "marker": {
             "pattern": {
              "fillmode": "overlay",
              "size": 10,
              "solidity": 0.2
             }
            },
            "type": "histogram"
           }
          ],
          "histogram2d": [
           {
            "colorbar": {
             "outlinewidth": 0,
             "ticks": ""
            },
            "colorscale": [
             [
              0,
              "#0d0887"
             ],
             [
              0.1111111111111111,
              "#46039f"
             ],
             [
              0.2222222222222222,
              "#7201a8"
             ],
             [
              0.3333333333333333,
              "#9c179e"
             ],
             [
              0.4444444444444444,
              "#bd3786"
             ],
             [
              0.5555555555555556,
              "#d8576b"
             ],
             [
              0.6666666666666666,
              "#ed7953"
             ],
             [
              0.7777777777777778,
              "#fb9f3a"
             ],
             [
              0.8888888888888888,
              "#fdca26"
             ],
             [
              1,
              "#f0f921"
             ]
            ],
            "type": "histogram2d"
           }
          ],
          "histogram2dcontour": [
           {
            "colorbar": {
             "outlinewidth": 0,
             "ticks": ""
            },
            "colorscale": [
             [
              0,
              "#0d0887"
             ],
             [
              0.1111111111111111,
              "#46039f"
             ],
             [
              0.2222222222222222,
              "#7201a8"
             ],
             [
              0.3333333333333333,
              "#9c179e"
             ],
             [
              0.4444444444444444,
              "#bd3786"
             ],
             [
              0.5555555555555556,
              "#d8576b"
             ],
             [
              0.6666666666666666,
              "#ed7953"
             ],
             [
              0.7777777777777778,
              "#fb9f3a"
             ],
             [
              0.8888888888888888,
              "#fdca26"
             ],
             [
              1,
              "#f0f921"
             ]
            ],
            "type": "histogram2dcontour"
           }
          ],
          "mesh3d": [
           {
            "colorbar": {
             "outlinewidth": 0,
             "ticks": ""
            },
            "type": "mesh3d"
           }
          ],
          "parcoords": [
           {
            "line": {
             "colorbar": {
              "outlinewidth": 0,
              "ticks": ""
             }
            },
            "type": "parcoords"
           }
          ],
          "pie": [
           {
            "automargin": true,
            "type": "pie"
           }
          ],
          "scatter": [
           {
            "fillpattern": {
             "fillmode": "overlay",
             "size": 10,
             "solidity": 0.2
            },
            "type": "scatter"
           }
          ],
          "scatter3d": [
           {
            "line": {
             "colorbar": {
              "outlinewidth": 0,
              "ticks": ""
             }
            },
            "marker": {
             "colorbar": {
              "outlinewidth": 0,
              "ticks": ""
             }
            },
            "type": "scatter3d"
           }
          ],
          "scattercarpet": [
           {
            "marker": {
             "colorbar": {
              "outlinewidth": 0,
              "ticks": ""
             }
            },
            "type": "scattercarpet"
           }
          ],
          "scattergeo": [
           {
            "marker": {
             "colorbar": {
              "outlinewidth": 0,
              "ticks": ""
             }
            },
            "type": "scattergeo"
           }
          ],
          "scattergl": [
           {
            "marker": {
             "colorbar": {
              "outlinewidth": 0,
              "ticks": ""
             }
            },
            "type": "scattergl"
           }
          ],
          "scattermapbox": [
           {
            "marker": {
             "colorbar": {
              "outlinewidth": 0,
              "ticks": ""
             }
            },
            "type": "scattermapbox"
           }
          ],
          "scatterpolar": [
           {
            "marker": {
             "colorbar": {
              "outlinewidth": 0,
              "ticks": ""
             }
            },
            "type": "scatterpolar"
           }
          ],
          "scatterpolargl": [
           {
            "marker": {
             "colorbar": {
              "outlinewidth": 0,
              "ticks": ""
             }
            },
            "type": "scatterpolargl"
           }
          ],
          "scatterternary": [
           {
            "marker": {
             "colorbar": {
              "outlinewidth": 0,
              "ticks": ""
             }
            },
            "type": "scatterternary"
           }
          ],
          "surface": [
           {
            "colorbar": {
             "outlinewidth": 0,
             "ticks": ""
            },
            "colorscale": [
             [
              0,
              "#0d0887"
             ],
             [
              0.1111111111111111,
              "#46039f"
             ],
             [
              0.2222222222222222,
              "#7201a8"
             ],
             [
              0.3333333333333333,
              "#9c179e"
             ],
             [
              0.4444444444444444,
              "#bd3786"
             ],
             [
              0.5555555555555556,
              "#d8576b"
             ],
             [
              0.6666666666666666,
              "#ed7953"
             ],
             [
              0.7777777777777778,
              "#fb9f3a"
             ],
             [
              0.8888888888888888,
              "#fdca26"
             ],
             [
              1,
              "#f0f921"
             ]
            ],
            "type": "surface"
           }
          ],
          "table": [
           {
            "cells": {
             "fill": {
              "color": "#EBF0F8"
             },
             "line": {
              "color": "white"
             }
            },
            "header": {
             "fill": {
              "color": "#C8D4E3"
             },
             "line": {
              "color": "white"
             }
            },
            "type": "table"
           }
          ]
         },
         "layout": {
          "annotationdefaults": {
           "arrowcolor": "#2a3f5f",
           "arrowhead": 0,
           "arrowwidth": 1
          },
          "autotypenumbers": "strict",
          "coloraxis": {
           "colorbar": {
            "outlinewidth": 0,
            "ticks": ""
           }
          },
          "colorscale": {
           "diverging": [
            [
             0,
             "#8e0152"
            ],
            [
             0.1,
             "#c51b7d"
            ],
            [
             0.2,
             "#de77ae"
            ],
            [
             0.3,
             "#f1b6da"
            ],
            [
             0.4,
             "#fde0ef"
            ],
            [
             0.5,
             "#f7f7f7"
            ],
            [
             0.6,
             "#e6f5d0"
            ],
            [
             0.7,
             "#b8e186"
            ],
            [
             0.8,
             "#7fbc41"
            ],
            [
             0.9,
             "#4d9221"
            ],
            [
             1,
             "#276419"
            ]
           ],
           "sequential": [
            [
             0,
             "#0d0887"
            ],
            [
             0.1111111111111111,
             "#46039f"
            ],
            [
             0.2222222222222222,
             "#7201a8"
            ],
            [
             0.3333333333333333,
             "#9c179e"
            ],
            [
             0.4444444444444444,
             "#bd3786"
            ],
            [
             0.5555555555555556,
             "#d8576b"
            ],
            [
             0.6666666666666666,
             "#ed7953"
            ],
            [
             0.7777777777777778,
             "#fb9f3a"
            ],
            [
             0.8888888888888888,
             "#fdca26"
            ],
            [
             1,
             "#f0f921"
            ]
           ],
           "sequentialminus": [
            [
             0,
             "#0d0887"
            ],
            [
             0.1111111111111111,
             "#46039f"
            ],
            [
             0.2222222222222222,
             "#7201a8"
            ],
            [
             0.3333333333333333,
             "#9c179e"
            ],
            [
             0.4444444444444444,
             "#bd3786"
            ],
            [
             0.5555555555555556,
             "#d8576b"
            ],
            [
             0.6666666666666666,
             "#ed7953"
            ],
            [
             0.7777777777777778,
             "#fb9f3a"
            ],
            [
             0.8888888888888888,
             "#fdca26"
            ],
            [
             1,
             "#f0f921"
            ]
           ]
          },
          "colorway": [
           "#636efa",
           "#EF553B",
           "#00cc96",
           "#ab63fa",
           "#FFA15A",
           "#19d3f3",
           "#FF6692",
           "#B6E880",
           "#FF97FF",
           "#FECB52"
          ],
          "font": {
           "color": "#2a3f5f"
          },
          "geo": {
           "bgcolor": "white",
           "lakecolor": "white",
           "landcolor": "#E5ECF6",
           "showlakes": true,
           "showland": true,
           "subunitcolor": "white"
          },
          "hoverlabel": {
           "align": "left"
          },
          "hovermode": "closest",
          "mapbox": {
           "style": "light"
          },
          "paper_bgcolor": "white",
          "plot_bgcolor": "#E5ECF6",
          "polar": {
           "angularaxis": {
            "gridcolor": "white",
            "linecolor": "white",
            "ticks": ""
           },
           "bgcolor": "#E5ECF6",
           "radialaxis": {
            "gridcolor": "white",
            "linecolor": "white",
            "ticks": ""
           }
          },
          "scene": {
           "xaxis": {
            "backgroundcolor": "#E5ECF6",
            "gridcolor": "white",
            "gridwidth": 2,
            "linecolor": "white",
            "showbackground": true,
            "ticks": "",
            "zerolinecolor": "white"
           },
           "yaxis": {
            "backgroundcolor": "#E5ECF6",
            "gridcolor": "white",
            "gridwidth": 2,
            "linecolor": "white",
            "showbackground": true,
            "ticks": "",
            "zerolinecolor": "white"
           },
           "zaxis": {
            "backgroundcolor": "#E5ECF6",
            "gridcolor": "white",
            "gridwidth": 2,
            "linecolor": "white",
            "showbackground": true,
            "ticks": "",
            "zerolinecolor": "white"
           }
          },
          "shapedefaults": {
           "line": {
            "color": "#2a3f5f"
           }
          },
          "ternary": {
           "aaxis": {
            "gridcolor": "white",
            "linecolor": "white",
            "ticks": ""
           },
           "baxis": {
            "gridcolor": "white",
            "linecolor": "white",
            "ticks": ""
           },
           "bgcolor": "#E5ECF6",
           "caxis": {
            "gridcolor": "white",
            "linecolor": "white",
            "ticks": ""
           }
          },
          "title": {
           "x": 0.05
          },
          "xaxis": {
           "automargin": true,
           "gridcolor": "white",
           "linecolor": "white",
           "ticks": "",
           "title": {
            "standoff": 15
           },
           "zerolinecolor": "white",
           "zerolinewidth": 2
          },
          "yaxis": {
           "automargin": true,
           "gridcolor": "white",
           "linecolor": "white",
           "ticks": "",
           "title": {
            "standoff": 15
           },
           "zerolinecolor": "white",
           "zerolinewidth": 2
          }
         }
        },
        "title": {
         "text": "AdaBoost Hyperparameter Tuning"
        },
        "width": 500,
        "xaxis": {
         "title": {
          "text": "learning rate"
         }
        },
        "yaxis": {
         "title": {
          "text": "n estimators"
         }
        }
       }
      },
      "text/html": [
       "<div>                            <div id=\"6d267f17-9478-401f-93fe-6aa2a746ae3d\" class=\"plotly-graph-div\" style=\"height:500px; width:500px;\"></div>            <script type=\"text/javascript\">                require([\"plotly\"], function(Plotly) {                    window.PLOTLYENV=window.PLOTLYENV || {};                                    if (document.getElementById(\"6d267f17-9478-401f-93fe-6aa2a746ae3d\")) {                    Plotly.newPlot(                        \"6d267f17-9478-401f-93fe-6aa2a746ae3d\",                        [{\"x\":[0.1,0.2,0.3,0.4,0.5,0.6,0.7,0.8,0.9,1.0],\"y\":[10,20,30,40,50,60,70,80,90,100,110,120,130,140,150,160,170,180,190,200,210,220,230,240,250],\"z\":[[0.9461340206185568,0.9440721649484537,0.94821735395189,0.9502792096219931,0.9440506872852235,0.9461554982817869,0.9502792096219931,0.9420103092783505,0.9420317869415807,0.9420317869415807],[0.9502792096219931,0.9502792096219931,0.9502792096219931,0.9523410652920962,0.9503006872852234,0.9503006872852234,0.9420317869415807,0.9441151202749142,0.9461769759450173,0.9399269759450173],[0.9523625429553265,0.9523625429553265,0.9502792096219931,0.9523625429553265,0.9544243986254296,0.9503006872852234,0.9420532646048111,0.9461769759450173,0.9440936426116838,0.9482388316151203],[0.9585481099656358,0.9523410652920962,0.9544243986254296,0.9523625429553265,0.9502792096219931,0.9482388316151203,0.9420532646048111,0.9461769759450173,0.9420317869415807,0.9379080756013746],[0.9585481099656358,0.9544243986254296,0.9544243986254296,0.9544243986254296,0.94821735395189,0.9523625429553265,0.9461769759450173,0.9441151202749142,0.9482388316151203,0.9399699312714777],[0.9544243986254296,0.9523410652920962,0.9564862542955327,0.9523625429553265,0.9502792096219931,0.9461769759450173,0.9441151202749142,0.9441151202749142,0.9461769759450173,0.9440936426116838],[0.9564862542955327,0.9564862542955327,0.9503006872852234,0.9482388316151203,0.94821735395189,0.9482388316151203,0.939991408934708,0.9420317869415807,0.9461769759450173,0.9420317869415807],[0.9564862542955327,0.9523625429553265,0.9503006872852234,0.9482388316151203,0.9461554982817869,0.94821735395189,0.9379295532646047,0.9420317869415807,0.9440936426116838,0.9420317869415807],[0.9564862542955327,0.9523625429553265,0.9544243986254296,0.9482388316151203,0.9440936426116838,0.9461769759450173,0.939991408934708,0.9378865979381444,0.9399484536082475,0.9420103092783506],[0.9564862542955327,0.9523625429553265,0.9523625429553265,0.9482388316151203,0.9461554982817869,0.9399699312714777,0.9420532646048109,0.9337628865979383,0.9358247422680412,0.9440936426116838],[0.9564862542955327,0.9523625429553265,0.9482388316151203,0.9503006872852234,0.9440721649484537,0.9420317869415807,0.9399914089347078,0.9337628865979383,0.9502792096219931,0.9399484536082475],[0.9564862542955327,0.9523625429553265,0.9523625429553265,0.9441151202749142,0.9420103092783506,0.9440936426116838,0.9399914089347078,0.9399699312714777,0.9461554982817869,0.9420103092783506],[0.9544243986254296,0.9523625429553265,0.9523625429553265,0.9461769759450173,0.9420103092783506,0.9379080756013746,0.9379295532646047,0.9461554982817869,0.9420317869415807,0.9399484536082475],[0.9564862542955327,0.9503006872852234,0.9482388316151203,0.9441151202749142,0.9420103092783506,0.9420317869415807,0.9441151202749142,0.9440936426116838,0.9461554982817869,0.9420103092783506],[0.9564862542955327,0.9503006872852234,0.9461554982817869,0.9441151202749142,0.9440721649484537,0.9461554982817869,0.9441151202749142,0.9399484536082475,0.9420317869415807,0.9378651202749142],[0.9564862542955327,0.9503006872852234,0.9461554982817869,0.9461769759450173,0.9440721649484537,0.9440936426116838,0.9461769759450173,0.9440936426116838,0.9440936426116838,0.9378651202749142],[0.9564862542955327,0.9503006872852234,0.9461554982817869,0.9420317869415807,0.9420103092783506,0.9440936426116838,0.9441151202749142,0.9461554982817869,0.9420317869415807,0.9358032646048111],[0.9564862542955327,0.9503006872852234,0.9461554982817869,0.9440936426116838,0.9420103092783506,0.9461554982817869,0.9399699312714777,0.9440936426116838,0.9440936426116838,0.9358247422680414],[0.9564862542955327,0.9523625429553265,0.9461554982817869,0.9420317869415807,0.9420103092783506,0.9440936426116838,0.9399699312714777,0.9399484536082475,0.9440936426116838,0.9358462199312715],[0.9544243986254296,0.9503006872852234,0.9461554982817869,0.9461554982817869,0.9420103092783506,0.9461554982817869,0.9420317869415807,0.9440936426116838,0.9420317869415807,0.9379080756013746],[0.9544243986254296,0.9523625429553265,0.9461554982817869,0.9440936426116838,0.9420103092783506,0.9440721649484537,0.9399699312714777,0.9399699312714777,0.9399484536082474,0.9379080756013746],[0.9544243986254296,0.9503006872852234,0.9461554982817869,0.9440936426116838,0.9420103092783506,0.9420103092783506,0.9399699312714777,0.9461554982817869,0.939991408934708,0.9399699312714777],[0.9544243986254296,0.9523625429553265,0.9440936426116838,0.94821735395189,0.9420103092783506,0.9420317869415807,0.9420317869415807,0.9419888316151204,0.9378865979381443,0.9379080756013746],[0.9523625429553265,0.9503006872852234,0.9399699312714777,0.9440936426116838,0.9420103092783506,0.9420317869415807,0.9420317869415807,0.9399484536082475,0.9378865979381443,0.9379080756013746],[0.9544243986254296,0.9482388316151203,0.9399699312714777,0.9440721649484537,0.9440721649484537,0.9420317869415807,0.9420103092783506,0.9399484536082475,0.9440936426116838,0.9379080756013746]],\"type\":\"surface\"}],                        {\"xaxis\":{\"title\":{\"text\":\"learning rate\"}},\"yaxis\":{\"title\":{\"text\":\"n estimators\"}},\"template\":{\"data\":{\"histogram2dcontour\":[{\"type\":\"histogram2dcontour\",\"colorbar\":{\"outlinewidth\":0,\"ticks\":\"\"},\"colorscale\":[[0.0,\"#0d0887\"],[0.1111111111111111,\"#46039f\"],[0.2222222222222222,\"#7201a8\"],[0.3333333333333333,\"#9c179e\"],[0.4444444444444444,\"#bd3786\"],[0.5555555555555556,\"#d8576b\"],[0.6666666666666666,\"#ed7953\"],[0.7777777777777778,\"#fb9f3a\"],[0.8888888888888888,\"#fdca26\"],[1.0,\"#f0f921\"]]}],\"choropleth\":[{\"type\":\"choropleth\",\"colorbar\":{\"outlinewidth\":0,\"ticks\":\"\"}}],\"histogram2d\":[{\"type\":\"histogram2d\",\"colorbar\":{\"outlinewidth\":0,\"ticks\":\"\"},\"colorscale\":[[0.0,\"#0d0887\"],[0.1111111111111111,\"#46039f\"],[0.2222222222222222,\"#7201a8\"],[0.3333333333333333,\"#9c179e\"],[0.4444444444444444,\"#bd3786\"],[0.5555555555555556,\"#d8576b\"],[0.6666666666666666,\"#ed7953\"],[0.7777777777777778,\"#fb9f3a\"],[0.8888888888888888,\"#fdca26\"],[1.0,\"#f0f921\"]]}],\"heatmap\":[{\"type\":\"heatmap\",\"colorbar\":{\"outlinewidth\":0,\"ticks\":\"\"},\"colorscale\":[[0.0,\"#0d0887\"],[0.1111111111111111,\"#46039f\"],[0.2222222222222222,\"#7201a8\"],[0.3333333333333333,\"#9c179e\"],[0.4444444444444444,\"#bd3786\"],[0.5555555555555556,\"#d8576b\"],[0.6666666666666666,\"#ed7953\"],[0.7777777777777778,\"#fb9f3a\"],[0.8888888888888888,\"#fdca26\"],[1.0,\"#f0f921\"]]}],\"heatmapgl\":[{\"type\":\"heatmapgl\",\"colorbar\":{\"outlinewidth\":0,\"ticks\":\"\"},\"colorscale\":[[0.0,\"#0d0887\"],[0.1111111111111111,\"#46039f\"],[0.2222222222222222,\"#7201a8\"],[0.3333333333333333,\"#9c179e\"],[0.4444444444444444,\"#bd3786\"],[0.5555555555555556,\"#d8576b\"],[0.6666666666666666,\"#ed7953\"],[0.7777777777777778,\"#fb9f3a\"],[0.8888888888888888,\"#fdca26\"],[1.0,\"#f0f921\"]]}],\"contourcarpet\":[{\"type\":\"contourcarpet\",\"colorbar\":{\"outlinewidth\":0,\"ticks\":\"\"}}],\"contour\":[{\"type\":\"contour\",\"colorbar\":{\"outlinewidth\":0,\"ticks\":\"\"},\"colorscale\":[[0.0,\"#0d0887\"],[0.1111111111111111,\"#46039f\"],[0.2222222222222222,\"#7201a8\"],[0.3333333333333333,\"#9c179e\"],[0.4444444444444444,\"#bd3786\"],[0.5555555555555556,\"#d8576b\"],[0.6666666666666666,\"#ed7953\"],[0.7777777777777778,\"#fb9f3a\"],[0.8888888888888888,\"#fdca26\"],[1.0,\"#f0f921\"]]}],\"surface\":[{\"type\":\"surface\",\"colorbar\":{\"outlinewidth\":0,\"ticks\":\"\"},\"colorscale\":[[0.0,\"#0d0887\"],[0.1111111111111111,\"#46039f\"],[0.2222222222222222,\"#7201a8\"],[0.3333333333333333,\"#9c179e\"],[0.4444444444444444,\"#bd3786\"],[0.5555555555555556,\"#d8576b\"],[0.6666666666666666,\"#ed7953\"],[0.7777777777777778,\"#fb9f3a\"],[0.8888888888888888,\"#fdca26\"],[1.0,\"#f0f921\"]]}],\"mesh3d\":[{\"type\":\"mesh3d\",\"colorbar\":{\"outlinewidth\":0,\"ticks\":\"\"}}],\"scatter\":[{\"fillpattern\":{\"fillmode\":\"overlay\",\"size\":10,\"solidity\":0.2},\"type\":\"scatter\"}],\"parcoords\":[{\"type\":\"parcoords\",\"line\":{\"colorbar\":{\"outlinewidth\":0,\"ticks\":\"\"}}}],\"scatterpolargl\":[{\"type\":\"scatterpolargl\",\"marker\":{\"colorbar\":{\"outlinewidth\":0,\"ticks\":\"\"}}}],\"bar\":[{\"error_x\":{\"color\":\"#2a3f5f\"},\"error_y\":{\"color\":\"#2a3f5f\"},\"marker\":{\"line\":{\"color\":\"#E5ECF6\",\"width\":0.5},\"pattern\":{\"fillmode\":\"overlay\",\"size\":10,\"solidity\":0.2}},\"type\":\"bar\"}],\"scattergeo\":[{\"type\":\"scattergeo\",\"marker\":{\"colorbar\":{\"outlinewidth\":0,\"ticks\":\"\"}}}],\"scatterpolar\":[{\"type\":\"scatterpolar\",\"marker\":{\"colorbar\":{\"outlinewidth\":0,\"ticks\":\"\"}}}],\"histogram\":[{\"marker\":{\"pattern\":{\"fillmode\":\"overlay\",\"size\":10,\"solidity\":0.2}},\"type\":\"histogram\"}],\"scattergl\":[{\"type\":\"scattergl\",\"marker\":{\"colorbar\":{\"outlinewidth\":0,\"ticks\":\"\"}}}],\"scatter3d\":[{\"type\":\"scatter3d\",\"line\":{\"colorbar\":{\"outlinewidth\":0,\"ticks\":\"\"}},\"marker\":{\"colorbar\":{\"outlinewidth\":0,\"ticks\":\"\"}}}],\"scattermapbox\":[{\"type\":\"scattermapbox\",\"marker\":{\"colorbar\":{\"outlinewidth\":0,\"ticks\":\"\"}}}],\"scatterternary\":[{\"type\":\"scatterternary\",\"marker\":{\"colorbar\":{\"outlinewidth\":0,\"ticks\":\"\"}}}],\"scattercarpet\":[{\"type\":\"scattercarpet\",\"marker\":{\"colorbar\":{\"outlinewidth\":0,\"ticks\":\"\"}}}],\"carpet\":[{\"aaxis\":{\"endlinecolor\":\"#2a3f5f\",\"gridcolor\":\"white\",\"linecolor\":\"white\",\"minorgridcolor\":\"white\",\"startlinecolor\":\"#2a3f5f\"},\"baxis\":{\"endlinecolor\":\"#2a3f5f\",\"gridcolor\":\"white\",\"linecolor\":\"white\",\"minorgridcolor\":\"white\",\"startlinecolor\":\"#2a3f5f\"},\"type\":\"carpet\"}],\"table\":[{\"cells\":{\"fill\":{\"color\":\"#EBF0F8\"},\"line\":{\"color\":\"white\"}},\"header\":{\"fill\":{\"color\":\"#C8D4E3\"},\"line\":{\"color\":\"white\"}},\"type\":\"table\"}],\"barpolar\":[{\"marker\":{\"line\":{\"color\":\"#E5ECF6\",\"width\":0.5},\"pattern\":{\"fillmode\":\"overlay\",\"size\":10,\"solidity\":0.2}},\"type\":\"barpolar\"}],\"pie\":[{\"automargin\":true,\"type\":\"pie\"}]},\"layout\":{\"autotypenumbers\":\"strict\",\"colorway\":[\"#636efa\",\"#EF553B\",\"#00cc96\",\"#ab63fa\",\"#FFA15A\",\"#19d3f3\",\"#FF6692\",\"#B6E880\",\"#FF97FF\",\"#FECB52\"],\"font\":{\"color\":\"#2a3f5f\"},\"hovermode\":\"closest\",\"hoverlabel\":{\"align\":\"left\"},\"paper_bgcolor\":\"white\",\"plot_bgcolor\":\"#E5ECF6\",\"polar\":{\"bgcolor\":\"#E5ECF6\",\"angularaxis\":{\"gridcolor\":\"white\",\"linecolor\":\"white\",\"ticks\":\"\"},\"radialaxis\":{\"gridcolor\":\"white\",\"linecolor\":\"white\",\"ticks\":\"\"}},\"ternary\":{\"bgcolor\":\"#E5ECF6\",\"aaxis\":{\"gridcolor\":\"white\",\"linecolor\":\"white\",\"ticks\":\"\"},\"baxis\":{\"gridcolor\":\"white\",\"linecolor\":\"white\",\"ticks\":\"\"},\"caxis\":{\"gridcolor\":\"white\",\"linecolor\":\"white\",\"ticks\":\"\"}},\"coloraxis\":{\"colorbar\":{\"outlinewidth\":0,\"ticks\":\"\"}},\"colorscale\":{\"sequential\":[[0.0,\"#0d0887\"],[0.1111111111111111,\"#46039f\"],[0.2222222222222222,\"#7201a8\"],[0.3333333333333333,\"#9c179e\"],[0.4444444444444444,\"#bd3786\"],[0.5555555555555556,\"#d8576b\"],[0.6666666666666666,\"#ed7953\"],[0.7777777777777778,\"#fb9f3a\"],[0.8888888888888888,\"#fdca26\"],[1.0,\"#f0f921\"]],\"sequentialminus\":[[0.0,\"#0d0887\"],[0.1111111111111111,\"#46039f\"],[0.2222222222222222,\"#7201a8\"],[0.3333333333333333,\"#9c179e\"],[0.4444444444444444,\"#bd3786\"],[0.5555555555555556,\"#d8576b\"],[0.6666666666666666,\"#ed7953\"],[0.7777777777777778,\"#fb9f3a\"],[0.8888888888888888,\"#fdca26\"],[1.0,\"#f0f921\"]],\"diverging\":[[0,\"#8e0152\"],[0.1,\"#c51b7d\"],[0.2,\"#de77ae\"],[0.3,\"#f1b6da\"],[0.4,\"#fde0ef\"],[0.5,\"#f7f7f7\"],[0.6,\"#e6f5d0\"],[0.7,\"#b8e186\"],[0.8,\"#7fbc41\"],[0.9,\"#4d9221\"],[1,\"#276419\"]]},\"xaxis\":{\"gridcolor\":\"white\",\"linecolor\":\"white\",\"ticks\":\"\",\"title\":{\"standoff\":15},\"zerolinecolor\":\"white\",\"automargin\":true,\"zerolinewidth\":2},\"yaxis\":{\"gridcolor\":\"white\",\"linecolor\":\"white\",\"ticks\":\"\",\"title\":{\"standoff\":15},\"zerolinecolor\":\"white\",\"automargin\":true,\"zerolinewidth\":2},\"scene\":{\"xaxis\":{\"backgroundcolor\":\"#E5ECF6\",\"gridcolor\":\"white\",\"linecolor\":\"white\",\"showbackground\":true,\"ticks\":\"\",\"zerolinecolor\":\"white\",\"gridwidth\":2},\"yaxis\":{\"backgroundcolor\":\"#E5ECF6\",\"gridcolor\":\"white\",\"linecolor\":\"white\",\"showbackground\":true,\"ticks\":\"\",\"zerolinecolor\":\"white\",\"gridwidth\":2},\"zaxis\":{\"backgroundcolor\":\"#E5ECF6\",\"gridcolor\":\"white\",\"linecolor\":\"white\",\"showbackground\":true,\"ticks\":\"\",\"zerolinecolor\":\"white\",\"gridwidth\":2}},\"shapedefaults\":{\"line\":{\"color\":\"#2a3f5f\"}},\"annotationdefaults\":{\"arrowcolor\":\"#2a3f5f\",\"arrowhead\":0,\"arrowwidth\":1},\"geo\":{\"bgcolor\":\"white\",\"landcolor\":\"#E5ECF6\",\"subunitcolor\":\"white\",\"showland\":true,\"showlakes\":true,\"lakecolor\":\"white\"},\"title\":{\"x\":0.05},\"mapbox\":{\"style\":\"light\"}}},\"margin\":{\"l\":65,\"r\":50,\"b\":65,\"t\":90},\"title\":{\"text\":\"AdaBoost Hyperparameter Tuning\"},\"scene\":{\"xaxis\":{\"title\":{\"text\":\"learning rate\"}},\"yaxis\":{\"title\":{\"text\":\"n estimators\"}},\"zaxis\":{\"title\":{\"text\":\"Accuracy\"}}},\"autosize\":false,\"width\":500,\"height\":500},                        {\"responsive\": true}                    ).then(function(){\n",
       "                            \n",
       "var gd = document.getElementById('6d267f17-9478-401f-93fe-6aa2a746ae3d');\n",
       "var x = new MutationObserver(function (mutations, observer) {{\n",
       "        var display = window.getComputedStyle(gd).display;\n",
       "        if (!display || display === 'none') {{\n",
       "            console.log([gd, 'removed!']);\n",
       "            Plotly.purge(gd);\n",
       "            observer.disconnect();\n",
       "        }}\n",
       "}});\n",
       "\n",
       "// Listen for the removal of the full notebook cells\n",
       "var notebookContainer = gd.closest('#notebook-container');\n",
       "if (notebookContainer) {{\n",
       "    x.observe(notebookContainer, {childList: true});\n",
       "}}\n",
       "\n",
       "// Listen for the clearing of the current output cell\n",
       "var outputEl = gd.closest('.output');\n",
       "if (outputEl) {{\n",
       "    x.observe(outputEl, {childList: true});\n",
       "}}\n",
       "\n",
       "                        })                };                });            </script>        </div>"
      ]
     },
     "metadata": {},
     "output_type": "display_data"
    }
   ],
   "source": [
    "fig = go.Figure(data = [go.Surface(z=z, y=y, x=x)], layout=layout)\n",
    "fig.update_layout(title='AdaBoost Hyperparameter Tuning', scene = dict(xaxis_title='learning rate', yaxis_title='n estimators', zaxis_title='Accuracy'), autosize=False, width=500, height=500, margin=dict(l=65, r=50, b=65, t=90))\n",
    "\n",
    "fig.show()"
   ]
  },
  {
   "cell_type": "markdown",
   "id": "f9951085",
   "metadata": {},
   "source": [
    "## Time Comparison Before and After Optimization"
   ]
  },
  {
   "cell_type": "markdown",
   "id": "038873d8",
   "metadata": {},
   "source": [
    "### Random Forest Model Time Comparison"
   ]
  },
  {
   "cell_type": "code",
   "execution_count": 217,
   "id": "c644f254",
   "metadata": {},
   "outputs": [
    {
     "name": "stdout",
     "output_type": "stream",
     "text": [
      "389 ms ± 9.19 ms per loop (mean ± std. dev. of 7 runs, 100 loops each)\n"
     ]
    }
   ],
   "source": [
    "%%timeit -n 100\n",
    "X_train, X_test, Y_train, Y_test = train_test_split(X, Y, test_size=0.15, random_state=1)\n",
    "model = RandomForestClassifier()\n",
    "model.fit(X_train, Y_train)\n",
    "model.score(X_test, Y_test)"
   ]
  },
  {
   "cell_type": "code",
   "execution_count": 218,
   "id": "2883a355",
   "metadata": {},
   "outputs": [
    {
     "name": "stdout",
     "output_type": "stream",
     "text": [
      "166 ms ± 5.91 ms per loop (mean ± std. dev. of 7 runs, 100 loops each)\n"
     ]
    }
   ],
   "source": [
    "%%timeit -n 100\n",
    "X2_train, X2_test, Y2_train, Y2_test = train_test_split(X2, Y2, test_size=0.15, random_state=1)\n",
    "model = RandomForestClassifier(max_features=2, n_estimators=50)\n",
    "model.fit(X2_train, Y2_train)\n",
    "model.score(X2_test, Y2_test)"
   ]
  },
  {
   "cell_type": "markdown",
   "id": "2a82dfe3",
   "metadata": {},
   "source": [
    "### AdaBoost Model Time Comparison"
   ]
  },
  {
   "cell_type": "code",
   "execution_count": 216,
   "id": "b3b0a127",
   "metadata": {},
   "outputs": [
    {
     "name": "stdout",
     "output_type": "stream",
     "text": [
      "298 ms ± 3.76 ms per loop (mean ± std. dev. of 7 runs, 100 loops each)\n"
     ]
    }
   ],
   "source": [
    "%%timeit -n 100\n",
    "X_train, X_test, Y_train, Y_test = train_test_split(X, Y, test_size=0.15, random_state=1)\n",
    "model = AdaBoostClassifier()\n",
    "model.fit(X_train, Y_train)\n",
    "model.score(X_test, Y_test)"
   ]
  },
  {
   "cell_type": "code",
   "execution_count": 197,
   "id": "8c736b69",
   "metadata": {},
   "outputs": [
    {
     "name": "stdout",
     "output_type": "stream",
     "text": [
      "72.6 ms ± 1.45 ms per loop (mean ± std. dev. of 7 runs, 100 loops each)\n"
     ]
    }
   ],
   "source": [
    "%%timeit -n 100\n",
    "X2_train, X2_test, Y2_train, Y2_test = train_test_split(X2, Y2, test_size=0.15, random_state=1)\n",
    "model = AdaBoostClassifier(learning_rate=.1, n_estimators=40)\n",
    "model.fit(X2_train, Y2_train)\n",
    "model.score(X2_test, Y2_test)"
   ]
  },
  {
   "cell_type": "markdown",
   "id": "b555c4f2",
   "metadata": {},
   "source": [
    "## **Random Forest: 57.3% Reduction <br> AdaBoost: 75.6% Reduction**"
   ]
  }
 ],
 "metadata": {
  "kernelspec": {
   "display_name": "Python 3 (ipykernel)",
   "language": "python",
   "name": "python3"
  },
  "language_info": {
   "codemirror_mode": {
    "name": "ipython",
    "version": 3
   },
   "file_extension": ".py",
   "mimetype": "text/x-python",
   "name": "python",
   "nbconvert_exporter": "python",
   "pygments_lexer": "ipython3",
   "version": "3.10.4"
  }
 },
 "nbformat": 4,
 "nbformat_minor": 5
}
